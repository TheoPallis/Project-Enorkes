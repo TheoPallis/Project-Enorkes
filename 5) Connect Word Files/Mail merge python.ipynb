{
 "cells": [
  {
   "cell_type": "code",
   "execution_count": 2,
   "metadata": {},
   "outputs": [],
   "source": [
    "import win32com.client as win32\n",
    "import os\n",
    "import glob"
   ]
  },
  {
   "cell_type": "code",
   "execution_count": 17,
   "metadata": {},
   "outputs": [
    {
     "name": "stdout",
     "output_type": "stream",
     "text": [
      "['(1) ΠΙΘΑΝΟΛΟΓΟΥΜΕΝΗ (Μ) - ΥΠΟΔΕΙΓΜΑ.docx', '(1) ΠΙΘΑΝΟΛΟΓΟΥΜΕΝΗ - ΥΠΟΔΕΙΓΜΑ.docx', '(2) ΑΥΘΑΙΡΕΤΗ ΕΠΑΝΑΣΥΝΔΕΣΗ  - ΥΠΟΔΕΙΓΜΑ.docx', '(2) ΑΥΘΑΙΡΕΤΗ ΕΠΑΝΑΣΥΝΔΕΣΗ (Μ)  - ΥΠΟΔΕΙΓΜΑ.docx', '(3) ΑΥΘΑΙΡΕΤΗ ΕΠΑΝΑΣΥΝΔΕΣΗ ΜΕ ΠΑΡΑΚΑΜΨΗ ΜΕΤΡΗΤΗ (Μ) - ΥΠΟΔΕΙΓΜΑ.docx', '(3) ΑΥΘΑΙΡΕΤΗ ΕΠΑΝΑΣΥΝΔΕΣΗ ΜΕ ΠΑΡΑΚΑΜΨΗ ΜΕΤΡΗΤΗ - ΥΠΟΔΕΙΓΜΑ.docx', '(4) ΠΑΡΑΚΑΜΨΗ ΜΕΤΡΗΤΗ ΧΩΡΙΣ ΑΥΘΑΙΡΕΤΗ ΕΠΑΝΑΣΥΝΔΕΣΗ (Μ) - ΥΠΟΔΕΙΓΜΑ.docx', '(4) ΠΑΡΑΚΑΜΨΗ ΜΕΤΡΗΤΗ ΧΩΡΙΣ ΑΥΘΑΙΡΕΤΗ ΕΠΑΝΑΣΥΝΔΕΣΗ - ΥΠΟΔΕΙΓΜΑ.docx', '(5) ΛΑΜΑΚΙΑ - ΥΠΟΔΕΙΓΜΑ (Μ).docx', '(5) ΛΑΜΑΚΙΑ - ΥΠΟΔΕΙΓΜΑ.docx', '(6) ΒΕΒΑΙΗ ΡΕΥΜΑΤΟΚΛΟΠΗ - ΥΠΟΔΕΙΓΜΑ (Μ).docx', '(6) ΒΕΒΑΙΗ ΡΕΥΜΑΤΟΚΛΟΠΗ - ΥΠΟΔΕΙΓΜΑ.docx']\n"
     ]
    }
   ],
   "source": [
    "word_folder = r\"C:\\Users\\pallist\\Desktop\\ΤΡΕΧΟΝΤΑ\\Testing Folder\\Project Enorkes\\Connect word files Enorkes\\Test Word Files\"\n",
    "destination_folder = r\"C:\\Users\\pallist\\Desktop\\ΤΡΕΧΟΝΤΑ\\Testing Folder\\Project Enorkes\\Connect word files Enorkes\\Test Word Files\\Results\"\n",
    "source_name = 'Data Source.xlsx'\n",
    "xl_file = os.path.join(word_folder,source_name)\n",
    "os.chdir(word_folder)\n",
    "files = glob.glob(\"*.docx\")\n",
    "print(files)"
   ]
  },
  {
   "cell_type": "code",
   "execution_count": 18,
   "metadata": {},
   "outputs": [],
   "source": [
    "# Create a Word application instance\n",
    "\n",
    "wordApp = win32.Dispatch('Word.Application')\n",
    "wordApp.Visible = True"
   ]
  },
  {
   "cell_type": "code",
   "execution_count": 19,
   "metadata": {},
   "outputs": [
    {
     "ename": "AttributeError",
     "evalue": "Word.Application.Documents",
     "output_type": "error",
     "traceback": [
      "\u001b[1;31m---------------------------------------------------------------------------\u001b[0m",
      "\u001b[1;31mAttributeError\u001b[0m                            Traceback (most recent call last)",
      "\u001b[1;32mc:\\Users\\pallist\\Desktop\\ΤΡΕΧΟΝΤΑ\\Created Scripts\\Mail Merge Python\\Mail merge python.ipynb Cell 4\u001b[0m in \u001b[0;36m<cell line: 2>\u001b[1;34m()\u001b[0m\n\u001b[0;32m      <a href='vscode-notebook-cell:/c%3A/Users/pallist/Desktop/%CE%A4%CE%A1%CE%95%CE%A7%CE%9F%CE%9D%CE%A4%CE%91/Created%20Scripts/Mail%20Merge%20Python/Mail%20merge%20python.ipynb#W3sZmlsZQ%3D%3D?line=0'>1</a>\u001b[0m \u001b[39m# Open all Word Files\u001b[39;00m\n\u001b[0;32m      <a href='vscode-notebook-cell:/c%3A/Users/pallist/Desktop/%CE%A4%CE%A1%CE%95%CE%A7%CE%9F%CE%9D%CE%A4%CE%91/Created%20Scripts/Mail%20Merge%20Python/Mail%20merge%20python.ipynb#W3sZmlsZQ%3D%3D?line=1'>2</a>\u001b[0m \u001b[39mfor\u001b[39;00m file \u001b[39min\u001b[39;00m files :\n\u001b[1;32m----> <a href='vscode-notebook-cell:/c%3A/Users/pallist/Desktop/%CE%A4%CE%A1%CE%95%CE%A7%CE%9F%CE%9D%CE%A4%CE%91/Created%20Scripts/Mail%20Merge%20Python/Mail%20merge%20python.ipynb#W3sZmlsZQ%3D%3D?line=3'>4</a>\u001b[0m     sourceDoc \u001b[39m=\u001b[39m wordApp\u001b[39m.\u001b[39;49mDocuments\u001b[39m.\u001b[39mOpen(os\u001b[39m.\u001b[39mpath\u001b[39m.\u001b[39mjoin(word_folder, file))\n\u001b[0;32m      <a href='vscode-notebook-cell:/c%3A/Users/pallist/Desktop/%CE%A4%CE%A1%CE%95%CE%A7%CE%9F%CE%9D%CE%A4%CE%91/Created%20Scripts/Mail%20Merge%20Python/Mail%20merge%20python.ipynb#W3sZmlsZQ%3D%3D?line=4'>5</a>\u001b[0m     \u001b[39mprint\u001b[39m(sourceDoc)\n\u001b[0;32m      <a href='vscode-notebook-cell:/c%3A/Users/pallist/Desktop/%CE%A4%CE%A1%CE%95%CE%A7%CE%9F%CE%9D%CE%A4%CE%91/Created%20Scripts/Mail%20Merge%20Python/Mail%20merge%20python.ipynb#W3sZmlsZQ%3D%3D?line=5'>6</a>\u001b[0m     mail_merge \u001b[39m=\u001b[39m sourceDoc\u001b[39m.\u001b[39mMailMerge\n",
      "File \u001b[1;32mc:\\Users\\pallist\\Miniconda3\\lib\\site-packages\\win32com\\client\\dynamic.py:639\u001b[0m, in \u001b[0;36mCDispatch.__getattr__\u001b[1;34m(self, attr)\u001b[0m\n\u001b[0;32m    636\u001b[0m     \u001b[39mreturn\u001b[39;00m \u001b[39mself\u001b[39m\u001b[39m.\u001b[39m_get_good_object_(ret)\n\u001b[0;32m    638\u001b[0m \u001b[39m# no where else to look.\u001b[39;00m\n\u001b[1;32m--> 639\u001b[0m \u001b[39mraise\u001b[39;00m \u001b[39mAttributeError\u001b[39;00m(\u001b[39m\"\u001b[39m\u001b[39m%s\u001b[39;00m\u001b[39m.\u001b[39m\u001b[39m%s\u001b[39;00m\u001b[39m\"\u001b[39m \u001b[39m%\u001b[39m (\u001b[39mself\u001b[39m\u001b[39m.\u001b[39m_username_, attr))\n",
      "\u001b[1;31mAttributeError\u001b[0m: Word.Application.Documents"
     ]
    }
   ],
   "source": [
    "# Open all Word Files\n",
    "\n",
    "for file in files :\n",
    "    \n",
    "    sourceDoc = wordApp.Documents.Open(os.path.join(word_folder, file))\n",
    "    print(sourceDoc)\n",
    "    mail_merge = sourceDoc.MailMerge\n",
    "    mail_merge.OpenDataSource(Name:=xl_file, sqlstatement:=\"SELECT * FROM [Data Source$]\")\n",
    "    record_count = mail_merge.DataSource.RecordCount\n",
    "\n",
    "    for i in range(1, record_count + 1):\n",
    "        \n",
    "        mail_merge.DataSource.ActiveRecord = i\n",
    "        mail_merge.DataSource.FirstRecord = i\n",
    "        mail_merge.DataSource.LastRecord = i\n",
    "\n",
    "        mail_merge.Destination = 0\n",
    "        mail_merge.Execute(False)\n",
    "        base_name = mail_merge.DataSource.DataFields('Name of Recipient'.replace(' ', '_')).Value\n",
    "\n",
    "        targetDoc = wordApp.ActiveDocument\n",
    "\n",
    "        # Save Files in Word Doc and PDF\n",
    "    \n",
    "        targetDoc.SaveAs2(os.path.join(destination_folder, base_name + '.docx'), 16)\n",
    "        targetDoc.Close(False)\n",
    "        targetDoc = None"
   ]
  },
  {
   "cell_type": "code",
   "execution_count": null,
   "metadata": {},
   "outputs": [],
   "source": [
    "sourceDoc.MailMerge.MainDocumentType = -1"
   ]
  }
 ],
 "metadata": {
  "kernelspec": {
   "display_name": "Python 3.9.12 ('base')",
   "language": "python",
   "name": "python3"
  },
  "language_info": {
   "codemirror_mode": {
    "name": "ipython",
    "version": 3
   },
   "file_extension": ".py",
   "mimetype": "text/x-python",
   "name": "python",
   "nbconvert_exporter": "python",
   "pygments_lexer": "ipython3",
   "version": "3.9.12"
  },
  "orig_nbformat": 4,
  "vscode": {
   "interpreter": {
    "hash": "da741524b60193e2e8fc9de5561c964417d3f1962990f1b0ff3fc7ef1a4f21fd"
   }
  }
 },
 "nbformat": 4,
 "nbformat_minor": 2
}
