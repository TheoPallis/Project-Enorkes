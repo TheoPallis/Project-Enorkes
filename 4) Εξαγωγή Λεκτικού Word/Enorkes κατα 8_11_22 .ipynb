{
 "cells": [
  {
   "cell_type": "code",
   "execution_count": 1,
   "id": "157212d6",
   "metadata": {},
   "outputs": [
    {
     "name": "stdout",
     "output_type": "stream",
     "text": [
      "c:\\Users\\pallist\\Νέος φάκελος\\Project-Enorkes\\4) Εξαγωγή Λεκτικού Word\n"
     ]
    }
   ],
   "source": [
    "import os\n",
    "import glob\n",
    "import pandas as pd\n",
    "from docx import Document\n",
    "import re\n",
    "from tkinter import filedialog as fd\n",
    "from tkinter.filedialog import askdirectory as ad\n",
    "from datetime import datetime\n",
    "print(os.getcwd())\n",
    "import pprint\n",
    "import openpyxl"
   ]
  },
  {
   "cell_type": "code",
   "execution_count": 10,
   "id": "a49fea2a",
   "metadata": {},
   "outputs": [],
   "source": [
    "# Save all word objects in a doc_list and save all paragraph objects in a file_paragraphs dict 15_30\n",
    "\n",
    "def extract() :\n",
    "\n",
    "    test_folder= r\"C:\\Users\\pallist\\Desktop\\ΤΡΕΧΟΝΤΑ\\Testing Folder\\Project Enorkes\\Extract Lektiko Enorkes\\Tests files\\Initial test folder\"\n",
    "    result_folder = r\"C:\\Users\\pallist\\Desktop\\ΤΡΕΧΟΝΤΑ\\Testing Folder\"\n",
    "    tstamp = datetime.now().strftime(\"%d/%m/%Y_%H:%M:%S\")\n",
    "        \n",
    "    os.chdir(test_folder)\n",
    "    files = glob.glob(\"*docx\")   \n",
    "    paragraph_dict = {}\n",
    "    string_dict = {}\n",
    "    test_dict = {}\n",
    "    file_list = []\n",
    "    name_list = []\n",
    "    date_list = []\n",
    "    missing_date_list = []\n",
    "    missing_name_list = []\n",
    "    \n",
    "    reg_date  = \"[0-3][0-9]\\/[0-1][0-9]\\/[2][0][1-2][0-9]\"\n",
    "    reg_name  = \"(?<=ΚΑΤΑ).*?(?=.Ι.{2}ΕΙΣΑΓΩΓΙΚΑ)\"\n",
    "\n",
    "\n",
    "    for index,file in enumerate(files) :\n",
    "        file_list.append(file)\n",
    "        doc = Document(os.path.join(test_folder,file))                               # Get readable name of file    \n",
    "        paragraph_text_list = [p.text for p in list(doc.paragraphs)]                 # Create a dictionary (keys = files, values = paragraph text)\n",
    "        paragraph_dict[file] = paragraph_text_list\n",
    "        s = ''.join(str(x) for x in  paragraph_text_list)                            # Create a second dictionary (keys = files, values = paragraph string format)\n",
    "        string_dict[file] = s                  \n",
    "        date = re.findall(reg_date, string_dict[file])\n",
    "        name = re.findall(reg_name, string_dict[file])\n",
    "        \n",
    "        if date != [] and name != []:                                                # Prevent errors caused by illegitimate files\n",
    "            last_date = date[-1]                                                     # Get the last date of the file\n",
    "            name = name[0]\n",
    "            name_list.append(name)\n",
    "            date_list.append(last_date)\n",
    "            print(f\"{name} με ημερομηνία {last_date}\")\n",
    "            if sum(name.count(x) for x in (\"Του\", \"Της\")) > 1 :\n",
    "                print(re.split(r\"(Του)|(Της)\",name))\n",
    "#         else :\n",
    "#            missing_name_list.append(name)\n",
    "#            missing_date_list.append(date)\n",
    "    test_df  = pd.DataFrame.from_dict(test_dict, orient='index')\n",
    "    test_df.to_excel(os.path.join(result_folder,\"test_dict.xlsx\"),index=False)\n",
    "    os.startfile(os.path.join(result_folder,\"test_dict.xlsx\"))"
   ]
  },
  {
   "cell_type": "code",
   "execution_count": 11,
   "id": "05823acf",
   "metadata": {},
   "outputs": [
    {
     "name": "stdout",
     "output_type": "stream",
     "text": [
      "Του ΓΕΩΡΓΙΟΥ ΚΟΝΤΟΥ, κατοίκου Αγίου Γεωργίου Λιχάδας του Δήμου Ιστιαίας – Αιδηψού της Περιφερειακής Ενότητας Ευβοίας, Τ.Κ. 34300 και Α.Φ.Μ. 015681172 με ημερομηνία 31/01/2022\n",
      "Του Δέδε Κωνσταντίνου του Ιωάννη, κάτοικο Βασιλικών Ευβοίας Τ.Κ. 34200 με ημερομηνία 31/01/2022\n"
     ]
    }
   ],
   "source": [
    "extract()"
   ]
  },
  {
   "cell_type": "code",
   "execution_count": 12,
   "id": "9e8681cc",
   "metadata": {},
   "outputs": [
    {
     "ename": "NameError",
     "evalue": "name 'test_dict' is not defined",
     "output_type": "error",
     "traceback": [
      "\u001b[1;31m---------------------------------------------------------------------------\u001b[0m",
      "\u001b[1;31mNameError\u001b[0m                                 Traceback (most recent call last)",
      "\u001b[1;32mc:\\Users\\pallist\\Νέος φάκελος\\Project-Enorkes\\4) Εξαγωγή Λεκτικού Word\\Enorkes κατα 8_11_22 .ipynb Cell 4\u001b[0m in \u001b[0;36m<cell line: 5>\u001b[1;34m()\u001b[0m\n\u001b[0;32m      <a href='vscode-notebook-cell:/c%3A/Users/pallist/%CE%9D%CE%AD%CE%BF%CF%82%20%CF%86%CE%AC%CE%BA%CE%B5%CE%BB%CE%BF%CF%82/Project-Enorkes/4%29%20%CE%95%CE%BE%CE%B1%CE%B3%CF%89%CE%B3%CE%AE%20%CE%9B%CE%B5%CE%BA%CF%84%CE%B9%CE%BA%CE%BF%CF%8D%20Word/Enorkes%20%CE%BA%CE%B1%CF%84%CE%B1%208_11_22%20.ipynb#W3sZmlsZQ%3D%3D?line=0'>1</a>\u001b[0m \u001b[39m# paragraph_df = pd.DataFrame.from_dict(paragraph_dict, orient='index').T\u001b[39;00m\n\u001b[0;32m      <a href='vscode-notebook-cell:/c%3A/Users/pallist/%CE%9D%CE%AD%CE%BF%CF%82%20%CF%86%CE%AC%CE%BA%CE%B5%CE%BB%CE%BF%CF%82/Project-Enorkes/4%29%20%CE%95%CE%BE%CE%B1%CE%B3%CF%89%CE%B3%CE%AE%20%CE%9B%CE%B5%CE%BA%CF%84%CE%B9%CE%BA%CE%BF%CF%8D%20Word/Enorkes%20%CE%BA%CE%B1%CF%84%CE%B1%208_11_22%20.ipynb#W3sZmlsZQ%3D%3D?line=1'>2</a>\u001b[0m \u001b[39m# paragraph_df.to_excel(os.path.join(result_folder,\"paragraph_dict.xlsx\"),index=False)\u001b[39;00m\n\u001b[0;32m      <a href='vscode-notebook-cell:/c%3A/Users/pallist/%CE%9D%CE%AD%CE%BF%CF%82%20%CF%86%CE%AC%CE%BA%CE%B5%CE%BB%CE%BF%CF%82/Project-Enorkes/4%29%20%CE%95%CE%BE%CE%B1%CE%B3%CF%89%CE%B3%CE%AE%20%CE%9B%CE%B5%CE%BA%CF%84%CE%B9%CE%BA%CE%BF%CF%8D%20Word/Enorkes%20%CE%BA%CE%B1%CF%84%CE%B1%208_11_22%20.ipynb#W3sZmlsZQ%3D%3D?line=2'>3</a>\u001b[0m \u001b[39m# string_df = pd.DataFrame.from_dict(string_dict, orient='index')\u001b[39;00m\n\u001b[0;32m      <a href='vscode-notebook-cell:/c%3A/Users/pallist/%CE%9D%CE%AD%CE%BF%CF%82%20%CF%86%CE%AC%CE%BA%CE%B5%CE%BB%CE%BF%CF%82/Project-Enorkes/4%29%20%CE%95%CE%BE%CE%B1%CE%B3%CF%89%CE%B3%CE%AE%20%CE%9B%CE%B5%CE%BA%CF%84%CE%B9%CE%BA%CE%BF%CF%8D%20Word/Enorkes%20%CE%BA%CE%B1%CF%84%CE%B1%208_11_22%20.ipynb#W3sZmlsZQ%3D%3D?line=3'>4</a>\u001b[0m \u001b[39m# string_df.to_excel(os.path.join(result_folder,\"string_dict.xlsx\"),index=False)     \u001b[39;00m\n\u001b[1;32m----> <a href='vscode-notebook-cell:/c%3A/Users/pallist/%CE%9D%CE%AD%CE%BF%CF%82%20%CF%86%CE%AC%CE%BA%CE%B5%CE%BB%CE%BF%CF%82/Project-Enorkes/4%29%20%CE%95%CE%BE%CE%B1%CE%B3%CF%89%CE%B3%CE%AE%20%CE%9B%CE%B5%CE%BA%CF%84%CE%B9%CE%BA%CE%BF%CF%8D%20Word/Enorkes%20%CE%BA%CE%B1%CF%84%CE%B1%208_11_22%20.ipynb#W3sZmlsZQ%3D%3D?line=4'>5</a>\u001b[0m test_df  \u001b[39m=\u001b[39m pd\u001b[39m.\u001b[39mDataFrame\u001b[39m.\u001b[39mfrom_dict(test_dict, orient\u001b[39m=\u001b[39m\u001b[39m'\u001b[39m\u001b[39mindex\u001b[39m\u001b[39m'\u001b[39m)\n\u001b[0;32m      <a href='vscode-notebook-cell:/c%3A/Users/pallist/%CE%9D%CE%AD%CE%BF%CF%82%20%CF%86%CE%AC%CE%BA%CE%B5%CE%BB%CE%BF%CF%82/Project-Enorkes/4%29%20%CE%95%CE%BE%CE%B1%CE%B3%CF%89%CE%B3%CE%AE%20%CE%9B%CE%B5%CE%BA%CF%84%CE%B9%CE%BA%CE%BF%CF%8D%20Word/Enorkes%20%CE%BA%CE%B1%CF%84%CE%B1%208_11_22%20.ipynb#W3sZmlsZQ%3D%3D?line=5'>6</a>\u001b[0m test_df\u001b[39m.\u001b[39mto_excel(os\u001b[39m.\u001b[39mpath\u001b[39m.\u001b[39mjoin(result_folder,\u001b[39m\"\u001b[39m\u001b[39mtest_dict.xlsx\u001b[39m\u001b[39m\"\u001b[39m),index\u001b[39m=\u001b[39m\u001b[39mFalse\u001b[39;00m)\n\u001b[0;32m      <a href='vscode-notebook-cell:/c%3A/Users/pallist/%CE%9D%CE%AD%CE%BF%CF%82%20%CF%86%CE%AC%CE%BA%CE%B5%CE%BB%CE%BF%CF%82/Project-Enorkes/4%29%20%CE%95%CE%BE%CE%B1%CE%B3%CF%89%CE%B3%CE%AE%20%CE%9B%CE%B5%CE%BA%CF%84%CE%B9%CE%BA%CE%BF%CF%8D%20Word/Enorkes%20%CE%BA%CE%B1%CF%84%CE%B1%208_11_22%20.ipynb#W3sZmlsZQ%3D%3D?line=6'>7</a>\u001b[0m os\u001b[39m.\u001b[39mstartfile(os\u001b[39m.\u001b[39mpath\u001b[39m.\u001b[39mjoin(result_folder,\u001b[39m\"\u001b[39m\u001b[39mtest_dict.xlsx\u001b[39m\u001b[39m\"\u001b[39m))\n",
      "\u001b[1;31mNameError\u001b[0m: name 'test_dict' is not defined"
     ]
    }
   ],
   "source": [
    "# paragraph_df = pd.DataFrame.from_dict(paragraph_dict, orient='index').T\n",
    "# paragraph_df.to_excel(os.path.join(result_folder,\"paragraph_dict.xlsx\"),index=False)\n",
    "# string_df = pd.DataFrame.from_dict(string_dict, orient='index')\n",
    "# string_df.to_excel(os.path.join(result_folder,\"string_dict.xlsx\"),index=False)     \n",
    "test_df  = pd.DataFrame.from_dict(test_dict, orient='index')\n",
    "test_df.to_excel(os.path.join(result_folder,\"test_dict.xlsx\"),index=False)\n",
    "os.startfile(os.path.join(result_folder,\"test_dict.xlsx\"))\n",
    "# os.startfile(os.path.join(result_folder,\"paragraph_dict.xlsx\"))\n",
    "# os.startfile(os.path.join(result_folder,\"string_dict.xlsx\"))"
   ]
  },
  {
   "cell_type": "code",
   "execution_count": null,
   "id": "31961950",
   "metadata": {},
   "outputs": [],
   "source": []
  },
  {
   "cell_type": "code",
   "execution_count": null,
   "id": "70cafa7b",
   "metadata": {},
   "outputs": [],
   "source": []
  }
 ],
 "metadata": {
  "kernelspec": {
   "display_name": "Python 3.9.12 ('base')",
   "language": "python",
   "name": "python3"
  },
  "language_info": {
   "codemirror_mode": {
    "name": "ipython",
    "version": 3
   },
   "file_extension": ".py",
   "mimetype": "text/x-python",
   "name": "python",
   "nbconvert_exporter": "python",
   "pygments_lexer": "ipython3",
   "version": "3.9.12"
  },
  "vscode": {
   "interpreter": {
    "hash": "da741524b60193e2e8fc9de5561c964417d3f1962990f1b0ff3fc7ef1a4f21fd"
   }
  }
 },
 "nbformat": 4,
 "nbformat_minor": 5
}
