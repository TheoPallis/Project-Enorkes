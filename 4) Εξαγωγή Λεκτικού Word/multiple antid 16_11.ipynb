{
 "cells": [
  {
   "cell_type": "code",
   "execution_count": 1,
   "metadata": {},
   "outputs": [],
   "source": [
    "import os\n",
    "import glob\n",
    "import pandas as pd\n",
    "import numpy as np\n",
    "from docx import Document\n",
    "import re\n",
    "from tkinter import filedialog as fd\n",
    "from tkinter.filedialog import askdirectory as ad\n",
    "from datetime import datetime\n",
    "import pprint\n",
    "import openpyxl\n",
    "import pprint"
   ]
  },
  {
   "cell_type": "code",
   "execution_count": null,
   "metadata": {},
   "outputs": [],
   "source": [
    "# Define prerequisites \n",
    "# \n",
    "# Save all word objects in a doc_list and save all paragraph objects in a file_paragraphs dict 15_30\n",
    "\n",
    "\n",
    "# test_folder =  r\"C:\\Users\\pallist\\Desktop\\ΤΡΕΧΟΝΤΑ\\Testing Folder\\Project Enorkes\\1) Extract Lektiko Enorkes\\Tests files\\Combined Folder\"\n",
    "test_folder = r\"C:\\Users\\pallist\\Desktop\\ΤΡΕΧΟΝΤΑ\\Testing Folder\\Project Enorkes\\1) Extract Lektiko Enorkes\\ΛΟΥΤΣΑΣ\"\n",
    "result_folder = r\"C:\\Users\\pallist\\Desktop\\ΤΡΕΧΟΝΤΑ\\Testing Folder\\Enorkes ΚΑΤΑ\\Results\"\n",
    "tstamp = datetime.now().strftime(\"%d/%m/%Y_%H:%M:%S\")\n",
    "\n",
    "\n",
    "# ---------------------------------------------------------------- Define lists and dicts ----------------------------------------------------------------\n",
    "\n",
    "\n",
    "\n",
    "os.chdir(test_folder)\n",
    "files = glob.glob(\"*docx\")   \n",
    "paragraph_dict = {}\n",
    "string_dict = {}\n",
    "name_list = []\n",
    "date_list = []\n",
    "file_list = []\n",
    "test_df = pd.DataFrame()\n",
    "\n",
    "antid_1 = []\n",
    "antid_2 = []\n",
    "antid_3 = []\n",
    "\n",
    "reg_date  = \"[0-3][0-9]\\/[0-1]?[0-9]\\/[2][0][1-2][0-9]\"\n",
    "reg_name  = \"(?<=ΚΑΤΑ).*?(?=.Ι.{2}ΕΙΣΑΓΩΓΙΚΑ)\"\n"
   ]
  },
  {
   "cell_type": "code",
   "execution_count": 2,
   "metadata": {},
   "outputs": [
    {
     "ename": "NameError",
     "evalue": "name 'files' is not defined",
     "output_type": "error",
     "traceback": [
      "\u001b[1;31m---------------------------------------------------------------------------\u001b[0m",
      "\u001b[1;31mNameError\u001b[0m                                 Traceback (most recent call last)",
      "\u001b[1;32mUntitled-1.ipynb Cell 3\u001b[0m in \u001b[0;36m<cell line: 5>\u001b[1;34m()\u001b[0m\n\u001b[0;32m      <a href='vscode-notebook-cell:Untitled-1.ipynb?jupyter-notebook#W1sdW50aXRsZWQ%3D?line=0'>1</a>\u001b[0m \u001b[39m# Loop -\u001b[39;00m\n\u001b[1;32m----> <a href='vscode-notebook-cell:Untitled-1.ipynb?jupyter-notebook#W1sdW50aXRsZWQ%3D?line=4'>5</a>\u001b[0m \u001b[39mfor\u001b[39;00m index,file \u001b[39min\u001b[39;00m \u001b[39menumerate\u001b[39m(files) :\n\u001b[0;32m      <a href='vscode-notebook-cell:Untitled-1.ipynb?jupyter-notebook#W1sdW50aXRsZWQ%3D?line=5'>6</a>\u001b[0m     \u001b[39mprint\u001b[39m(index,file)\n\u001b[0;32m      <a href='vscode-notebook-cell:Untitled-1.ipynb?jupyter-notebook#W1sdW50aXRsZWQ%3D?line=6'>7</a>\u001b[0m     file_list\u001b[39m.\u001b[39mappend(file)\n",
      "\u001b[1;31mNameError\u001b[0m: name 'files' is not defined"
     ]
    }
   ],
   "source": [
    "# Loop -\n",
    "\n",
    "\n",
    "\n",
    "for index,file in enumerate(files) :\n",
    "    print(index,file)\n",
    "    file_list.append(file)\n",
    "    doc = Document(os.path.join(test_folder,file))                               # Get readable name of file    \n",
    "    paragraph_text_list = [p.text for p in list(doc.paragraphs)]               \n",
    "    s = ''.join(str(x) for x in  paragraph_text_list)                            # Create a dictionary (keys = files, values = paragraph string format)\n",
    "    string_dict[file] = s                  \n",
    "    date = re.findall(reg_date, string_dict[file])\n",
    "    name = re.findall(reg_name, string_dict[file])\n",
    "    s_name = str(name)\n",
    "\n",
    "    \n",
    "    splitted = re.split(r\"(Του)|(Της)\",s_name)\n",
    "    name1=  splitted[2] + splitted[3]\n",
    "    name2 = splitted[4] + splitted[6]\n",
    "    name_list.append(name1)\n",
    "    antid_2.append(name2)\n",
    "    name_list.append(\"-\")\n",
    "    date_list.append(last_date)\n",
    "\n",
    "    if splitted[8] in (\"Του\", \"Της\") :\n",
    "        name3 = splitted[8] + splitted[9]\n",
    "        antid_3.append(name3)\n",
    "\n",
    "    else :\n",
    "        antid_3.append(\"-\")\n",
    "\n",
    "\n",
    "\n",
    "# test_df['Μοναδικός Αντίδικος'] = name_list\n",
    "test_df['Aντίδικος 1'] = antid_1\n",
    "test_df['Αντίδικος 2'] = antid_2\n",
    "test_df['Αντίδικος 3'] = antid_3\n",
    "test_df['Date'] = date_list\n",
    "\n",
    "\n",
    "\n",
    "\n",
    "test_df"
   ]
  },
  {
   "cell_type": "code",
   "execution_count": null,
   "metadata": {},
   "outputs": [],
   "source": []
  }
 ],
 "metadata": {
  "kernelspec": {
   "display_name": "Python 3.10.8 ('frame')",
   "language": "python",
   "name": "python3"
  },
  "language_info": {
   "codemirror_mode": {
    "name": "ipython",
    "version": 3
   },
   "file_extension": ".py",
   "mimetype": "text/x-python",
   "name": "python",
   "nbconvert_exporter": "python",
   "pygments_lexer": "ipython3",
   "version": "3.10.8"
  },
  "orig_nbformat": 4,
  "vscode": {
   "interpreter": {
    "hash": "7a46061b131d91aee9440cfcfc67501265c864dc4a87769083afe5c961eb8de2"
   }
  }
 },
 "nbformat": 4,
 "nbformat_minor": 2
}
