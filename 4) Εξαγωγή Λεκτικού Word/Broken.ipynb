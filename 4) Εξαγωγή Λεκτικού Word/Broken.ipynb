{
 "cells": [
  {
   "cell_type": "code",
   "execution_count": 7,
   "id": "157212d6",
   "metadata": {},
   "outputs": [],
   "source": [
    "import os\n",
    "import glob\n",
    "import pandas as pd\n",
    "from docx import Document\n",
    "import re\n",
    "from tkinter import filedialog as fd\n",
    "from tkinter.filedialog import askdirectory as ad\n",
    "from datetime import datetime\n",
    "import pprint\n",
    "import openpyxl\n",
    "import pprint"
   ]
  },
  {
   "cell_type": "code",
   "execution_count": 262,
   "id": "a49fea2a",
   "metadata": {},
   "outputs": [],
   "source": [
    "# Save all word objects in a doc_list and save all paragraph objects in a file_paragraphs dict 15_30\n",
    "\n",
    "def extract() :\n",
    "\n",
    "    test_folder =  r\"C:\\Users\\pallist\\Desktop\\ΤΡΕΧΟΝΤΑ\\Testing Folder\\Project Enorkes\\1) Extract Lektiko Enorkes\\Tests files\\Combined Folder\"\n",
    "    # test_folder = r\"C:\\Users\\pallist\\Desktop\\ΤΡΕΧΟΝΤΑ\\Testing Folder\\Project Enorkes\\1) Extract Lektiko Enorkes\\Tests files\\Initial test folder\"\n",
    "    result_folder = r\"C:\\Users\\pallist\\Desktop\\ΤΡΕΧΟΝΤΑ\\Testing Folder\\Enorkes ΚΑΤΑ\\Results\"\n",
    "    tstamp = datetime.now().strftime(\"%d/%m/%Y_%H:%M:%S\")\n",
    "    \n",
    "    \n",
    "    os.chdir(test_folder)\n",
    "    files = glob.glob(\"*docx\")   \n",
    "    paragraph_dict = {}\n",
    "    string_dict = {}\n",
    "    test_dict = {}\n",
    "    file_list = []\n",
    "    name_list = []\n",
    "    date_list = []\n",
    "    error_name_list = []\n",
    "    error_date_list = []\n",
    "    test_df = pd.DataFrame()\n",
    "  \n",
    "    antid_1 = []\n",
    "    antid_2 = []\n",
    "    antid_3 = []\n",
    "\n",
    "# ---------------------------------------------------------------- Loop ----------------------------------------------------------------\n",
    "\n",
    "    reg_date  = \"[0-3][0-9]\\/[0-1][0-9]\\/[2][0][1-2][0-9]\"\n",
    "    reg_name  = \"(?<=ΚΑΤΑ).*?(?=.Ι.{2}ΕΙΣΑΓΩΓΙΚΑ)\"\n",
    "\n",
    "    \n",
    "    for index,file in enumerate(files) :\n",
    "        # print(file)\n",
    "        doc = Document(os.path.join(test_folder,file))                               # Get readable name of file    \n",
    "        paragraph_text_list = [p.text for p in list(doc.paragraphs)]               \n",
    "        s = ''.join(str(x) for x in  paragraph_text_list)                            # Create a dictionary (keys = files, values = paragraph string format)\n",
    "        string_dict[file] = s                  \n",
    "        date = re.findall(reg_date, string_dict[file])\n",
    "        name = re.findall(reg_name, string_dict[file])\n",
    "        s_name = str(name)\n",
    "\n",
    "\n",
    "        # print(s_name)\n",
    "        if sum(s_name.count(x) for x in ['Του ', 'Της ']) == 1 :\n",
    "            # print(f\"Μοναδικός αντίδικος : {file})\")\n",
    "\n",
    "            if date != [] and name != []:                                                # Prevent errors caused by illegitimate files (if name/date are not written or properly formatted)\n",
    "                last_date = date[-1]                                                     # Get the last date of the file and the first occurence of the name pattern\n",
    "                name = name[0]\n",
    "                name_list.append(name)\n",
    "                date_list.append(last_date)\n",
    "                antid_1.append(\"-\")\n",
    "                antid_2.append(\"-\")\n",
    "                antid_3.append(\"-\")\n",
    "\n",
    "            else :\n",
    "                name_list.append(\"-\")\n",
    "                date_list.append(\"-\")\n",
    "                antid_1.append(\"-\")\n",
    "                antid_2.append(\"-\")\n",
    "                antid_3.append(\"-\")\n",
    "        \n",
    "        \n",
    "        else:\n",
    "            splitted = re.split(r\"(Του)|(Της)\",s_name)\n",
    "            name1=  splitted[2] + splitted[3]\n",
    "            name2 = splitted[4] + splitted[6]\n",
    "            antid_1.append(name1)\n",
    "            antid_2.append(name2)\n",
    "            name_list.append(\"-\")\n",
    "            date_list.append(\"-\")\n",
    "\n",
    "            if splitted[8] in (\"Του\", \"Της\") :\n",
    "                name3 = splitted[8] + splitted[9]\n",
    "                antid_3.append(name3)\n",
    "\n",
    "            else :\n",
    "                antid_3.append(\"-\")\n",
    "\n",
    "\n",
    "\n",
    " #----------------------------------------------------------------Test DF----------------------------------------------------------------   \n",
    "            \n",
    "        \n",
    "    \n",
    "    test_df['Ημερομηνία'] = date_list\n",
    "    test_df['Μοναδικός Αντίδικος'] = name_list\n",
    "    test_df['Aντίδικος 1'] = antid_1\n",
    "    test_df['Αντίδικος 2'] = antid_2\n",
    "    test_df['Αντίδικος 3'] = antid_3\n",
    "    test_df['Date'] = date_list\n",
    "    test_df\n",
    "\n",
    "\n",
    "\n",
    "\n"
   ]
  },
  {
   "cell_type": "code",
   "execution_count": 263,
   "id": "05823acf",
   "metadata": {},
   "outputs": [
    {
     "name": "stdout",
     "output_type": "stream",
     "text": [
      "6\n",
      "6\n",
      "6\n",
      "6\n",
      "6\n"
     ]
    }
   ],
   "source": [
    "extract()"
   ]
  },
  {
   "cell_type": "code",
   "execution_count": 203,
   "id": "ae18f010",
   "metadata": {},
   "outputs": [],
   "source": [
    "### paragraph_df = pd.DataFrame.from_dict(paragraph_dict, orient='index').T\n",
    "# paragraph_df.to_excel(os.path.join(result_folder,\"paragraph_dict.xlsx\"),index=False)\n",
    "# string_df = pd.DataFrame.from_dict(string_dict, orient='index')\n",
    "# string_df.to_excel(os.path.join(result_folder,\"string_dict.xlsx\"),index=False) \n",
    "\n",
    "# os.startfile(os.path.join(result_folder,\"paragraph_dict.xlsx\"))\n",
    "# os.startfile(os.path.join(result_folder,\"string_dict.xlsx\"))"
   ]
  },
  {
   "cell_type": "code",
   "execution_count": null,
   "id": "70cafa7b",
   "metadata": {},
   "outputs": [],
   "source": [
    " \n",
    " # Check where the 'του΄' is located on the splitted list\n",
    " # r_10 = range(10)\n",
    " # split_dict = dict(zip(r_10, [splitted[x] for x in r_10] ))\n",
    "\n",
    "# Create a paragraph dict \n",
    "# paragraph_dict[file] = paragraph_text_list \n",
    "\n",
    " # Create first dictionary (keys = files, values = paragraph text)\n",
    "\n",
    "# Check lengths of lists is the same to properly consruct the dataframe\n",
    "    # print(len(date_list))\n",
    "    # print(len(name_list))\n",
    "    # print(len(antid_1))\n",
    "    # print(len(antid_2))\n",
    "    # print(len(antid_3))"
   ]
  }
 ],
 "metadata": {
  "kernelspec": {
   "display_name": "Python 3.10.8 ('frame')",
   "language": "python",
   "name": "python3"
  },
  "language_info": {
   "codemirror_mode": {
    "name": "ipython",
    "version": 3
   },
   "file_extension": ".py",
   "mimetype": "text/x-python",
   "name": "python",
   "nbconvert_exporter": "python",
   "pygments_lexer": "ipython3",
   "version": "3.10.8"
  },
  "vscode": {
   "interpreter": {
    "hash": "7a46061b131d91aee9440cfcfc67501265c864dc4a87769083afe5c961eb8de2"
   }
  }
 },
 "nbformat": 4,
 "nbformat_minor": 5
}
