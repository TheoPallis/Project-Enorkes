{
 "cells": [
  {
   "cell_type": "code",
   "execution_count": 191,
   "id": "157212d6",
   "metadata": {},
   "outputs": [],
   "source": [
    "import os\n",
    "import glob\n",
    "import pandas as pd\n",
    "from docx import Document\n",
    "import re\n",
    "from tkinter import filedialog as fd\n",
    "from tkinter.filedialog import askdirectory as ad\n",
    "from datetime import datetime\n",
    "import pprint\n",
    "import openpyxl\n",
    "import pprint"
   ]
  },
  {
   "cell_type": "code",
   "execution_count": 239,
   "id": "a49fea2a",
   "metadata": {},
   "outputs": [],
   "source": [
    "# Save all word objects in a doc_list and save all paragraph objects in a file_paragraphs dict 15_30\n",
    "\n",
    "def extract() :\n",
    "\n",
    "    test_folder =  r\"C:\\Users\\pallist\\Desktop\\ΤΡΕΧΟΝΤΑ\\Testing Folder\\Project Enorkes\\1) Extract Lektiko Enorkes\\Tests files\\Multiple\"\n",
    "    # test_folder = r\"C:\\Users\\pallist\\Desktop\\ΤΡΕΧΟΝΤΑ\\Testing Folder\\Project Enorkes\\1) Extract Lektiko Enorkes\\Tests files\\Initial test folder\"\n",
    "    result_folder = r\"C:\\Users\\pallist\\Desktop\\ΤΡΕΧΟΝΤΑ\\Testing Folder\\Enorkes ΚΑΤΑ\\Results\"\n",
    "    tstamp = datetime.now().strftime(\"%d/%m/%Y_%H:%M:%S\")\n",
    "    \n",
    "    \n",
    "    os.chdir(test_folder)\n",
    "    files = glob.glob(\"*docx\")   \n",
    "    paragraph_dict = {}\n",
    "    string_dict = {}\n",
    "    test_dict = {}\n",
    "    file_list = []\n",
    "    name_list = []\n",
    "    date_list = []\n",
    "    error_name_list = []\n",
    "    error_date_list = []\n",
    "    test_df = pd.DataFrame()\n",
    "  \n",
    "    antid_1 = []\n",
    "    antid_2 = []\n",
    "    antid_3 = []\n",
    "\n",
    "\n",
    "\n",
    "\n",
    "\n",
    "\n",
    "    reg_date  = \"[0-3][0-9]\\/[0-1][0-9]\\/[2][0][1-2][0-9]\"\n",
    "    reg_name  = \"(?<=ΚΑΤΑ).*?(?=.Ι.{2}ΕΙΣΑΓΩΓΙΚΑ)\"\n",
    "\n",
    "    test  = pd.DataFrame()\n",
    "   \n",
    "    test\n",
    "    \n",
    "    for index,file in enumerate(files) :\n",
    "       \n",
    "        doc = Document(os.path.join(test_folder,file))                               # Get readable name of file    \n",
    "        paragraph_text_list = [p.text for p in list(doc.paragraphs)]               \n",
    "        s = ''.join(str(x) for x in  paragraph_text_list)                            # Create a dictionary (keys = files, values = paragraph string format)\n",
    "        string_dict[file] = s                  \n",
    "        date = re.findall(reg_date, string_dict[file])\n",
    "        name = re.findall(reg_name, string_dict[file])\n",
    "        \n",
    "        if date != [] and name != []:                                                # Prevent errors caused by illegitimate files\n",
    "            last_date = date[-1]                                                     # Get the last date of the file\n",
    "            name = name[0]\n",
    "            name_list.append(name)\n",
    "            date_list.append(last_date)\n",
    "        elif date == [] :\n",
    "            error_date_list.append(file)\n",
    "        elif name == [] :\n",
    "            error_name_list.append(file)\n",
    "        \n",
    "   \n",
    "      \n",
    "    \n",
    "\n",
    "        if sum(name.count(x) for x in (\"Του\", \"Της\")) > 1:\n",
    "            splitted = re.split(r\"(Του)|(Της)\",name)\n",
    "           \n",
    "            name1=  splitted[2] + splitted[3]\n",
    "            name2 = splitted[4] + splitted[6]\n",
    "            antid_1.append(name1)\n",
    "            antid_2.append(name2)\n",
    "            if splitted[8] in (\"Του\", \"Της\") :\n",
    "                name3 = splitted[8] + splitted[9]\n",
    "                antid_3.append(name3)\n",
    "            \n",
    "    \n",
    "    \n",
    "    \n",
    "    \n",
    "    \n",
    "    \n",
    "    #         test['Singe antid'] = name_list\n",
    "    #         test['Aντίδικος 1'] = antid_1\n",
    "    #         test['Αντίδικος 2'] = antid_2\n",
    "    #         test['Αντίδικος 3'] = antid_3\n",
    "    #         test['Date'] = date_list\n",
    "        \n",
    "    # print(test)\n",
    "\n",
    "\n",
    "\n",
    "\n"
   ]
  },
  {
   "cell_type": "code",
   "execution_count": 240,
   "id": "05823acf",
   "metadata": {},
   "outputs": [
    {
     "name": "stdout",
     "output_type": "stream",
     "text": [
      "                                         Singe antid  \\\n",
      "0  Της ομόρρυθμης εταιρείας με την επωνυμία «Α-Ρ....   \n",
      "\n",
      "                                         Aντίδικος 1  \\\n",
      "0  Της ομόρρυθμης εταιρείας με την επωνυμία «Α-Ρ....   \n",
      "\n",
      "                                         Αντίδικος 2  \\\n",
      "0  Του Αναστάσιου-Ραφαήλ Ζαφείρη, κατοίκου Αγίου ...   \n",
      "\n",
      "                                         Αντίδικος 3        Date  \n",
      "0  Της Κωνσταντίνας Κωστάκη, κατοίκου Αγίου Αδρια...  01/12/2020  \n"
     ]
    }
   ],
   "source": [
    "extract()"
   ]
  },
  {
   "cell_type": "code",
   "execution_count": 212,
   "id": "ae18f010",
   "metadata": {},
   "outputs": [],
   "source": [
    "### paragraph_df = pd.DataFrame.from_dict(paragraph_dict, orient='index').T\n",
    "# paragraph_df.to_excel(os.path.join(result_folder,\"paragraph_dict.xlsx\"),index=False)\n",
    "# string_df = pd.DataFrame.from_dict(string_dict, orient='index')\n",
    "# string_df.to_excel(os.path.join(result_folder,\"string_dict.xlsx\"),index=False) \n",
    "\n",
    "# os.startfile(os.path.join(result_folder,\"paragraph_dict.xlsx\"))\n",
    "# os.startfile(os.path.join(result_folder,\"string_dict.xlsx\"))"
   ]
  },
  {
   "cell_type": "code",
   "execution_count": 18,
   "id": "31961950",
   "metadata": {},
   "outputs": [],
   "source": [
    "                                  # Create first dictionary (keys = files, values = paragraph text)"
   ]
  },
  {
   "cell_type": "code",
   "execution_count": 169,
   "id": "70cafa7b",
   "metadata": {},
   "outputs": [
    {
     "ename": "NameError",
     "evalue": "name 'name1' is not defined",
     "output_type": "error",
     "traceback": [
      "\u001b[1;31m---------------------------------------------------------------------------\u001b[0m",
      "\u001b[1;31mNameError\u001b[0m                                 Traceback (most recent call last)",
      "\u001b[1;32mc:\\Users\\pallist\\Νέος φάκελος\\Project-Enorkes\\4) Εξαγωγή Λεκτικού Word\\Broken.ipynb Cell 6\u001b[0m in \u001b[0;36m<cell line: 2>\u001b[1;34m()\u001b[0m\n\u001b[0;32m      <a href='vscode-notebook-cell:/c%3A/Users/pallist/%CE%9D%CE%AD%CE%BF%CF%82%20%CF%86%CE%AC%CE%BA%CE%B5%CE%BB%CE%BF%CF%82/Project-Enorkes/4%29%20%CE%95%CE%BE%CE%B1%CE%B3%CF%89%CE%B3%CE%AE%20%CE%9B%CE%B5%CE%BA%CF%84%CE%B9%CE%BA%CE%BF%CF%8D%20Word/Broken.ipynb#W5sZmlsZQ%3D%3D?line=0'>1</a>\u001b[0m \u001b[39m# EXtarct 3o αντίδικο\u001b[39;00m\n\u001b[1;32m----> <a href='vscode-notebook-cell:/c%3A/Users/pallist/%CE%9D%CE%AD%CE%BF%CF%82%20%CF%86%CE%AC%CE%BA%CE%B5%CE%BB%CE%BF%CF%82/Project-Enorkes/4%29%20%CE%95%CE%BE%CE%B1%CE%B3%CF%89%CE%B3%CE%AE%20%CE%9B%CE%B5%CE%BA%CF%84%CE%B9%CE%BA%CE%BF%CF%8D%20Word/Broken.ipynb#W5sZmlsZQ%3D%3D?line=1'>2</a>\u001b[0m test_df[\u001b[39m\"\u001b[39m\u001b[39mΑντίδικος 1\u001b[39m\u001b[39m\"\u001b[39m]   \u001b[39m=\u001b[39m name1\n",
      "\u001b[1;31mNameError\u001b[0m: name 'name1' is not defined"
     ]
    }
   ],
   "source": [
    " \n",
    " # Check where the 'του΄' is located on the splitted list\n",
    " # r_10 = range(10)\n",
    " # split_dict = dict(zip(r_10, [splitted[x] for x in r_10] ))\n",
    "\n",
    "# Create a paragraph dict \n",
    "# paragraph_dict[file] = paragraph_text_list "
   ]
  }
 ],
 "metadata": {
  "kernelspec": {
   "display_name": "Python 3.10.8 ('frame')",
   "language": "python",
   "name": "python3"
  },
  "language_info": {
   "codemirror_mode": {
    "name": "ipython",
    "version": 3
   },
   "file_extension": ".py",
   "mimetype": "text/x-python",
   "name": "python",
   "nbconvert_exporter": "python",
   "pygments_lexer": "ipython3",
   "version": "3.10.8"
  },
  "vscode": {
   "interpreter": {
    "hash": "7a46061b131d91aee9440cfcfc67501265c864dc4a87769083afe5c961eb8de2"
   }
  }
 },
 "nbformat": 4,
 "nbformat_minor": 5
}
