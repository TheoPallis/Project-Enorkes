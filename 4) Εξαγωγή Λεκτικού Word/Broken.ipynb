{
 "cells": [
  {
   "cell_type": "code",
   "execution_count": 4,
   "id": "157212d6",
   "metadata": {},
   "outputs": [],
   "source": [
    "import os\n",
    "import glob\n",
    "import pandas as pd\n",
    "from docx import Document\n",
    "import re\n",
    "from tkinter import filedialog as fd\n",
    "from tkinter.filedialog import askdirectory as ad\n",
    "from datetime import datetime\n",
    "import pprint\n",
    "import openpyxl"
   ]
  },
  {
   "cell_type": "code",
   "execution_count": 35,
   "id": "a49fea2a",
   "metadata": {},
   "outputs": [],
   "source": [
    "# Save all word objects in a doc_list and save all paragraph objects in a file_paragraphs dict 15_30\n",
    "\n",
    "def extract() :\n",
    "\n",
    "    test_folder= r\"C:\\Users\\pallist\\Desktop\\ΤΡΕΧΟΝΤΑ\\Testing Folder\\Project Enorkes\\Extract Lektiko Enorkes\\Tests files\\Initial test folder\"\n",
    "    result_folder = r\"C:\\Users\\pallist\\Desktop\\ΤΡΕΧΟΝΤΑ\\Testing Folder\\Enorkes ΚΑΤΑ\\Results\"\n",
    "    tstamp = datetime.now().strftime(\"%d/%m/%Y_%H:%M:%S\")\n",
    "        \n",
    "    os.chdir(test_folder)\n",
    "    files = glob.glob(\"*docx\")   \n",
    "    paragraph_dict = {}\n",
    "    string_dict = {}\n",
    "    test_dict = {}\n",
    "    file_list = []\n",
    "    name_list = []\n",
    "    date_list = []\n",
    "    error_name_list = []\n",
    "    error_date_list = []\n",
    "    test_df = pd.DataFrame()\n",
    "    \n",
    "    reg_date  = \"[0-3][0-9]\\/[0-1][0-9]\\/[2][0][1-2][0-9]\"\n",
    "    reg_name  = \"(?<=ΚΑΤΑ).*?(?=.Ι.{2}ΕΙΣΑΓΩΓΙΚΑ)\"\n",
    "\n",
    "\n",
    "    for index,file in enumerate(files) :\n",
    "        doc = Document(os.path.join(test_folder,file))                               # Get readable name of file    \n",
    "        paragraph_text_list = [p.text for p in list(doc.paragraphs)]               \n",
    "        s = ''.join(str(x) for x in  paragraph_text_list)                            # Create a dictionary (keys = files, values = paragraph string format)\n",
    "        string_dict[file] = s                  \n",
    "        date = re.findall(reg_date, string_dict[file])\n",
    "        name = re.findall(reg_name, string_dict[file])\n",
    "        \n",
    "        if date != [] and name != []:                                                # Prevent errors caused by illegitimate files\n",
    "            last_date = date[-1]                                                     # Get the last date of the file\n",
    "            name = name[0]\n",
    "            name_list.append(name)\n",
    "            date_list.append(last_date)\n",
    "        elif date == [] :\n",
    "            error_date_list.append(file)\n",
    "        elif name == [] :\n",
    "            error_name_list.append(file)\n",
    " \n",
    "                    \n",
    "            \n",
    "            if sum(name.count(x) for x in (\"Του\", \"Της\")) > 1 :\n",
    "              splitted = re.split(r\"(Του)|(Της)\",name)\n",
    "              name1 = splitted[2] + splitted[3] \n",
    "              name2 = splitted[5] + splitted[6]\n",
    "              print(name1)\n",
    "              print(name2)\n",
    "#               test_df[\"Αντίδικος 1\"]   = name1 \n",
    "#               test_df[\"Αντίδικος 2\"]   = name2\n",
    "              if splitted[7:] :\n",
    "                  name3 = splitted[8] + splitted[9]\n",
    "                  test_df[\"Αντίδικος 3\"]   = name3\n",
    "                  print(f\"{name1} {name2} {name3} και με ημερομηνία {last_date}.\")\n",
    "              else :  \n",
    "                  print(f\"{name1} {name2} και με ημερομηνία {last_date}.\")\n",
    "            \n",
    "#         print(f\"{name} και με ημερομηνία {last_date}.\")   \n",
    "\n",
    "\n",
    "    test_df  = pd.DataFrame.from_dict(test_dict, orient='index')\n",
    "    test_df.head()"
   ]
  },
  {
   "cell_type": "code",
   "execution_count": 34,
   "id": "05823acf",
   "metadata": {},
   "outputs": [],
   "source": [
    "extract()"
   ]
  },
  {
   "cell_type": "code",
   "execution_count": 20,
   "id": "bc403d80",
   "metadata": {},
   "outputs": [
    {
     "ename": "NameError",
     "evalue": "name 'test' is not defined",
     "output_type": "error",
     "traceback": [
      "\u001b[1;31m---------------------------------------------------------------------------\u001b[0m",
      "\u001b[1;31mNameError\u001b[0m                                 Traceback (most recent call last)",
      "\u001b[1;32mc:\\Users\\pallist\\Νέος φάκελος\\Project-Enorkes\\4) Εξαγωγή Λεκτικού Word\\Broken.ipynb Cell 4\u001b[0m in \u001b[0;36m<cell line: 1>\u001b[1;34m()\u001b[0m\n\u001b[1;32m----> <a href='vscode-notebook-cell:/c%3A/Users/pallist/%CE%9D%CE%AD%CE%BF%CF%82%20%CF%86%CE%AC%CE%BA%CE%B5%CE%BB%CE%BF%CF%82/Project-Enorkes/4%29%20%CE%95%CE%BE%CE%B1%CE%B3%CF%89%CE%B3%CE%AE%20%CE%9B%CE%B5%CE%BA%CF%84%CE%B9%CE%BA%CE%BF%CF%8D%20Word/Broken.ipynb#W3sZmlsZQ%3D%3D?line=0'>1</a>\u001b[0m test\n",
      "\u001b[1;31mNameError\u001b[0m: name 'test' is not defined"
     ]
    }
   ],
   "source": [
    "test"
   ]
  },
  {
   "cell_type": "code",
   "execution_count": 21,
   "id": "ae18f010",
   "metadata": {},
   "outputs": [
    {
     "ename": "NameError",
     "evalue": "name 'string_dict' is not defined",
     "output_type": "error",
     "traceback": [
      "\u001b[1;31m---------------------------------------------------------------------------\u001b[0m",
      "\u001b[1;31mNameError\u001b[0m                                 Traceback (most recent call last)",
      "\u001b[1;32mc:\\Users\\pallist\\Νέος φάκελος\\Project-Enorkes\\4) Εξαγωγή Λεκτικού Word\\Broken.ipynb Cell 5\u001b[0m in \u001b[0;36m<cell line: 5>\u001b[1;34m()\u001b[0m\n\u001b[0;32m      <a href='vscode-notebook-cell:/c%3A/Users/pallist/%CE%9D%CE%AD%CE%BF%CF%82%20%CF%86%CE%AC%CE%BA%CE%B5%CE%BB%CE%BF%CF%82/Project-Enorkes/4%29%20%CE%95%CE%BE%CE%B1%CE%B3%CF%89%CE%B3%CE%AE%20%CE%9B%CE%B5%CE%BA%CF%84%CE%B9%CE%BA%CE%BF%CF%8D%20Word/Broken.ipynb#W4sZmlsZQ%3D%3D?line=0'>1</a>\u001b[0m \u001b[39m### paragraph_df = pd.DataFrame.from_dict(paragraph_dict, orient='index').T\u001b[39;00m\n\u001b[0;32m      <a href='vscode-notebook-cell:/c%3A/Users/pallist/%CE%9D%CE%AD%CE%BF%CF%82%20%CF%86%CE%AC%CE%BA%CE%B5%CE%BB%CE%BF%CF%82/Project-Enorkes/4%29%20%CE%95%CE%BE%CE%B1%CE%B3%CF%89%CE%B3%CE%AE%20%CE%9B%CE%B5%CE%BA%CF%84%CE%B9%CE%BA%CE%BF%CF%8D%20Word/Broken.ipynb#W4sZmlsZQ%3D%3D?line=1'>2</a>\u001b[0m \u001b[39m# paragraph_df.to_excel(os.path.join(result_folder,\"paragraph_dict.xlsx\"),index=False)\u001b[39;00m\n\u001b[0;32m      <a href='vscode-notebook-cell:/c%3A/Users/pallist/%CE%9D%CE%AD%CE%BF%CF%82%20%CF%86%CE%AC%CE%BA%CE%B5%CE%BB%CE%BF%CF%82/Project-Enorkes/4%29%20%CE%95%CE%BE%CE%B1%CE%B3%CF%89%CE%B3%CE%AE%20%CE%9B%CE%B5%CE%BA%CF%84%CE%B9%CE%BA%CE%BF%CF%8D%20Word/Broken.ipynb#W4sZmlsZQ%3D%3D?line=2'>3</a>\u001b[0m \u001b[39m# string_df = pd.DataFrame.from_dict(string_dict, orient='index')\u001b[39;00m\n\u001b[0;32m      <a href='vscode-notebook-cell:/c%3A/Users/pallist/%CE%9D%CE%AD%CE%BF%CF%82%20%CF%86%CE%AC%CE%BA%CE%B5%CE%BB%CE%BF%CF%82/Project-Enorkes/4%29%20%CE%95%CE%BE%CE%B1%CE%B3%CF%89%CE%B3%CE%AE%20%CE%9B%CE%B5%CE%BA%CF%84%CE%B9%CE%BA%CE%BF%CF%8D%20Word/Broken.ipynb#W4sZmlsZQ%3D%3D?line=3'>4</a>\u001b[0m \u001b[39m# string_df.to_excel(os.path.join(result_folder,\"string_dict.xlsx\"),index=False) \u001b[39;00m\n\u001b[1;32m----> <a href='vscode-notebook-cell:/c%3A/Users/pallist/%CE%9D%CE%AD%CE%BF%CF%82%20%CF%86%CE%AC%CE%BA%CE%B5%CE%BB%CE%BF%CF%82/Project-Enorkes/4%29%20%CE%95%CE%BE%CE%B1%CE%B3%CF%89%CE%B3%CE%AE%20%CE%9B%CE%B5%CE%BA%CF%84%CE%B9%CE%BA%CE%BF%CF%8D%20Word/Broken.ipynb#W4sZmlsZQ%3D%3D?line=4'>5</a>\u001b[0m test_df  \u001b[39m=\u001b[39m pd\u001b[39m.\u001b[39mDataFrame\u001b[39m.\u001b[39mfrom_dict(string_dict, orient\u001b[39m=\u001b[39m\u001b[39m'\u001b[39m\u001b[39mindex\u001b[39m\u001b[39m'\u001b[39m)\n\u001b[0;32m      <a href='vscode-notebook-cell:/c%3A/Users/pallist/%CE%9D%CE%AD%CE%BF%CF%82%20%CF%86%CE%AC%CE%BA%CE%B5%CE%BB%CE%BF%CF%82/Project-Enorkes/4%29%20%CE%95%CE%BE%CE%B1%CE%B3%CF%89%CE%B3%CE%AE%20%CE%9B%CE%B5%CE%BA%CF%84%CE%B9%CE%BA%CE%BF%CF%8D%20Word/Broken.ipynb#W4sZmlsZQ%3D%3D?line=5'>6</a>\u001b[0m test_df\u001b[39m.\u001b[39mto_excel(os\u001b[39m.\u001b[39mpath\u001b[39m.\u001b[39mjoin(result_folder,\u001b[39m\"\u001b[39m\u001b[39mtest_dict.xlsx\u001b[39m\u001b[39m\"\u001b[39m),index\u001b[39m=\u001b[39m\u001b[39mFalse\u001b[39;00m)\n\u001b[0;32m      <a href='vscode-notebook-cell:/c%3A/Users/pallist/%CE%9D%CE%AD%CE%BF%CF%82%20%CF%86%CE%AC%CE%BA%CE%B5%CE%BB%CE%BF%CF%82/Project-Enorkes/4%29%20%CE%95%CE%BE%CE%B1%CE%B3%CF%89%CE%B3%CE%AE%20%CE%9B%CE%B5%CE%BA%CF%84%CE%B9%CE%BA%CE%BF%CF%8D%20Word/Broken.ipynb#W4sZmlsZQ%3D%3D?line=6'>7</a>\u001b[0m os\u001b[39m.\u001b[39mstartfile(os\u001b[39m.\u001b[39mpath\u001b[39m.\u001b[39mjoin(result_folder,\u001b[39m\"\u001b[39m\u001b[39mtest_dict.xlsx\u001b[39m\u001b[39m\"\u001b[39m))\n",
      "\u001b[1;31mNameError\u001b[0m: name 'string_dict' is not defined"
     ]
    }
   ],
   "source": [
    "### paragraph_df = pd.DataFrame.from_dict(paragraph_dict, orient='index').T\n",
    "# paragraph_df.to_excel(os.path.join(result_folder,\"paragraph_dict.xlsx\"),index=False)\n",
    "# string_df = pd.DataFrame.from_dict(string_dict, orient='index')\n",
    "# string_df.to_excel(os.path.join(result_folder,\"string_dict.xlsx\"),index=False) \n",
    "\n",
    "# os.startfile(os.path.join(result_folder,\"paragraph_dict.xlsx\"))\n",
    "# os.startfile(os.path.join(result_folder,\"string_dict.xlsx\"))"
   ]
  },
  {
   "cell_type": "code",
   "execution_count": 17,
   "id": "31961950",
   "metadata": {},
   "outputs": [],
   "source": [
    "# paragraph_dict[file] = paragraph_text_list                                   # Create first dictionary (keys = files, values = paragraph text)"
   ]
  },
  {
   "cell_type": "code",
   "execution_count": null,
   "id": "70cafa7b",
   "metadata": {},
   "outputs": [],
   "source": []
  }
 ],
 "metadata": {
  "kernelspec": {
   "display_name": "Python 3.10.8 ('frame')",
   "language": "python",
   "name": "python3"
  },
  "language_info": {
   "codemirror_mode": {
    "name": "ipython",
    "version": 3
   },
   "file_extension": ".py",
   "mimetype": "text/x-python",
   "name": "python",
   "nbconvert_exporter": "python",
   "pygments_lexer": "ipython3",
   "version": "3.10.8"
  },
  "vscode": {
   "interpreter": {
    "hash": "7a46061b131d91aee9440cfcfc67501265c864dc4a87769083afe5c961eb8de2"
   }
  }
 },
 "nbformat": 4,
 "nbformat_minor": 5
}
