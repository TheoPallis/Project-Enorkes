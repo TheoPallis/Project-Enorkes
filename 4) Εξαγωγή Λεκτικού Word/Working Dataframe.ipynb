{
 "cells": [
  {
   "cell_type": "code",
   "execution_count": 30,
   "metadata": {},
   "outputs": [],
   "source": [
    "import os\n",
    "import glob\n",
    "import pandas as pd\n",
    "import numpy as np\n",
    "from docx import Document\n",
    "import re\n",
    "from tkinter import filedialog as fd\n",
    "from tkinter.filedialog import askdirectory as ad\n",
    "from datetime import datetime\n",
    "import pprint\n",
    "import openpyxl\n",
    "import pprint"
   ]
  },
  {
   "cell_type": "code",
   "execution_count": 33,
   "metadata": {},
   "outputs": [
    {
     "name": "stdout",
     "output_type": "stream",
     "text": [
      "0 ΑΓΩΓΗ ΔΕΔΔΕΗ ΤΟΕΒ LB 139 (ΑΥΘΑΙΡΕΤΗ).docx\n",
      "1 ΑΓΩΓΗ ΔΕΔΔΗΕ TOEB LB 115(ΑΥΘΑΙΡΕΤΗ).docx\n",
      "2 ΑΓΩΓΗ ΔΕΔΔΗΕ ΓΕΩΡΓΟΥΣΙΟΥ ΗΛΙΑΣ.docx\n",
      "3 ΑΓΩΓΗ ΔΕΔΔΗΕ ΕΛ 24 (ΑΥΘΑΙΡΕΤΗ).docx\n",
      "4 ΑΓΩΓΗ ΔΕΔΔΗΕ ΚΑΤΑ ΜΑΥΡΟΠΟΥΛΟΥ ΑΝΑΣΤΑΣΙΟΥ.docx\n",
      "5 ΑΓΩΓΗ ΔΕΔΔΗΕ ΛΟΥΤΣΑΣ ΝΙΚΟΛΑΟΣ ΚΑΙ ΛΟΥΤΣΑ ΕΛΕΝΗ.docx\n",
      "6 ΑΓΩΓΗ ΔΕΔΔΗΕ ΤΟΕΒ LB 113 (αυθαίρετη).docx\n",
      "7 ΑΓΩΓΗ ΔΕΔΔΗΕ ΤΟΕΒ LB 116 (ΑΥΘΑΙΡΕΤΗ).docx\n",
      "8 ΑΓΩΓΗ ΔΕΔΔΗΕ ΤΟΕΒ Λ57 (αυθαιρετη).docx\n",
      "9 ΑΓΩΓΗ ΔΕΔΗΕ ΤΟΕΒ LB 140 (ΑΥΘΑΙΡΕΤΗ).docx\n",
      "10 ΑΓΩΓΗ ΕΛΕΥΘΕΡΙΑΔΗΣ ΣΩΤΗΡΙΟΣ ΠΟΛΥΑΓΩΓΗ(ΠΑΡΑΚΑΜΨΗ).docx\n",
      "11 ΑΓΩΓΗ ΖΑΧΑΡΙΟΥΔΑΚΗ ΑΝΝΑ (ΟΥΔΕΤΕΡΟΣ).docx\n",
      "12 ΑΓΩΓΗ Κ.ΑΝΤΩΝΙΟΥ ΚΑΙ ΣΙΑ ΑΕ(αυθαίρετη).docx\n",
      "13 ΑΓΩΓΗ ΠΙΠΕΡΙΔΗΣ ΝΙΚΟΛΑΟΣ (ΑΥΘΑΙΡΕΤΗ).docx\n",
      "14 ΑΓΩΓΗ ΠΙΠΙΛΙΑΡΗΣ ΔΗΜΗΤΡΙΟΣ (ουδέτερος).docx\n",
      "15 ΑΓΩΓΗ ΤΟΕΒ ΕΛ 52(ΑΥΘΑΙΡΕΤΗ).docx\n",
      "16 ΚΑΠΕΤΑΝΗ ΕΛΕΝΗ ΑΓΩΓΗ ΔΕΔΔΗΕ (βασικό).docx\n",
      "17 ΚΑΡΑΦΑΝΤΑΛΟΥ ΑΡΙΣΤΟΠΟΥΛΟΥ ΓΕΩΡΓΙΑ ΑΓΩΓΗ ΔΕΔΔΗΕ (ΕΠΑΝΑΣΥΝΔΕΣΗ).docx\n",
      "18 ΚΟΤΡΩΝΗΣ ΙΩΑΝΝΗΣ_10072734402 ΑΓΩΓΗ ΔΕΔΔΗΕ ΜΙΚΡΟΔΙΑΦΟΡΕΣ (βασικό).docx\n",
      "19 ΜΕΛΑΧΡΗΣ ΧΡΗΣΤΟΣ ΑΓΩΓΗΣ ΔΕΔΔΗΕ (ΕΠΑΝΑΣΥΝΔΕΣΗ).docx\n"
     ]
    },
    {
     "ename": "ValueError",
     "evalue": "Length of values (20) does not match length of index (21)",
     "output_type": "error",
     "traceback": [
      "\u001b[1;31m---------------------------------------------------------------------------\u001b[0m",
      "\u001b[1;31mValueError\u001b[0m                                Traceback (most recent call last)",
      "\u001b[1;32mc:\\Users\\pallist\\Νέος φάκελος\\Project-Enorkes\\4) Εξαγωγή Λεκτικού Word\\Working Dataframe.ipynb Cell 2\u001b[0m in \u001b[0;36m<cell line: 99>\u001b[1;34m()\u001b[0m\n\u001b[0;32m     <a href='vscode-notebook-cell:/c%3A/Users/pallist/%CE%9D%CE%AD%CE%BF%CF%82%20%CF%86%CE%AC%CE%BA%CE%B5%CE%BB%CE%BF%CF%82/Project-Enorkes/4%29%20%CE%95%CE%BE%CE%B1%CE%B3%CF%89%CE%B3%CE%AE%20%CE%9B%CE%B5%CE%BA%CF%84%CE%B9%CE%BA%CE%BF%CF%8D%20Word/Working%20Dataframe.ipynb#W1sZmlsZQ%3D%3D?line=94'>95</a>\u001b[0m test_df[\u001b[39m'\u001b[39m\u001b[39mΜοναδικός Αντίδικος\u001b[39m\u001b[39m'\u001b[39m] \u001b[39m=\u001b[39m name_list\n\u001b[0;32m     <a href='vscode-notebook-cell:/c%3A/Users/pallist/%CE%9D%CE%AD%CE%BF%CF%82%20%CF%86%CE%AC%CE%BA%CE%B5%CE%BB%CE%BF%CF%82/Project-Enorkes/4%29%20%CE%95%CE%BE%CE%B1%CE%B3%CF%89%CE%B3%CE%AE%20%CE%9B%CE%B5%CE%BA%CF%84%CE%B9%CE%BA%CE%BF%CF%8D%20Word/Working%20Dataframe.ipynb#W1sZmlsZQ%3D%3D?line=95'>96</a>\u001b[0m \u001b[39m# test_df['Aντίδικος 1'] = antid_1\u001b[39;00m\n\u001b[0;32m     <a href='vscode-notebook-cell:/c%3A/Users/pallist/%CE%9D%CE%AD%CE%BF%CF%82%20%CF%86%CE%AC%CE%BA%CE%B5%CE%BB%CE%BF%CF%82/Project-Enorkes/4%29%20%CE%95%CE%BE%CE%B1%CE%B3%CF%89%CE%B3%CE%AE%20%CE%9B%CE%B5%CE%BA%CF%84%CE%B9%CE%BA%CE%BF%CF%8D%20Word/Working%20Dataframe.ipynb#W1sZmlsZQ%3D%3D?line=96'>97</a>\u001b[0m \u001b[39m# test_df['Αντίδικος 2'] = antid_2\u001b[39;00m\n\u001b[0;32m     <a href='vscode-notebook-cell:/c%3A/Users/pallist/%CE%9D%CE%AD%CE%BF%CF%82%20%CF%86%CE%AC%CE%BA%CE%B5%CE%BB%CE%BF%CF%82/Project-Enorkes/4%29%20%CE%95%CE%BE%CE%B1%CE%B3%CF%89%CE%B3%CE%AE%20%CE%9B%CE%B5%CE%BA%CF%84%CE%B9%CE%BA%CE%BF%CF%8D%20Word/Working%20Dataframe.ipynb#W1sZmlsZQ%3D%3D?line=97'>98</a>\u001b[0m \u001b[39m# test_df['Αντίδικος 3'] = antid_3\u001b[39;00m\n\u001b[1;32m---> <a href='vscode-notebook-cell:/c%3A/Users/pallist/%CE%9D%CE%AD%CE%BF%CF%82%20%CF%86%CE%AC%CE%BA%CE%B5%CE%BB%CE%BF%CF%82/Project-Enorkes/4%29%20%CE%95%CE%BE%CE%B1%CE%B3%CF%89%CE%B3%CE%AE%20%CE%9B%CE%B5%CE%BA%CF%84%CE%B9%CE%BA%CE%BF%CF%8D%20Word/Working%20Dataframe.ipynb#W1sZmlsZQ%3D%3D?line=98'>99</a>\u001b[0m test_df[\u001b[39m'\u001b[39;49m\u001b[39mDate\u001b[39;49m\u001b[39m'\u001b[39;49m] \u001b[39m=\u001b[39m date_list\n\u001b[0;32m    <a href='vscode-notebook-cell:/c%3A/Users/pallist/%CE%9D%CE%AD%CE%BF%CF%82%20%CF%86%CE%AC%CE%BA%CE%B5%CE%BB%CE%BF%CF%82/Project-Enorkes/4%29%20%CE%95%CE%BE%CE%B1%CE%B3%CF%89%CE%B3%CE%AE%20%CE%9B%CE%B5%CE%BA%CF%84%CE%B9%CE%BA%CE%BF%CF%8D%20Word/Working%20Dataframe.ipynb#W1sZmlsZQ%3D%3D?line=99'>100</a>\u001b[0m test_df\n",
      "File \u001b[1;32mc:\\Users\\pallist\\frame\\lib\\site-packages\\pandas\\core\\frame.py:3655\u001b[0m, in \u001b[0;36mDataFrame.__setitem__\u001b[1;34m(self, key, value)\u001b[0m\n\u001b[0;32m   3652\u001b[0m     \u001b[39mself\u001b[39m\u001b[39m.\u001b[39m_setitem_array([key], value)\n\u001b[0;32m   3653\u001b[0m \u001b[39melse\u001b[39;00m:\n\u001b[0;32m   3654\u001b[0m     \u001b[39m# set column\u001b[39;00m\n\u001b[1;32m-> 3655\u001b[0m     \u001b[39mself\u001b[39;49m\u001b[39m.\u001b[39;49m_set_item(key, value)\n",
      "File \u001b[1;32mc:\\Users\\pallist\\frame\\lib\\site-packages\\pandas\\core\\frame.py:3832\u001b[0m, in \u001b[0;36mDataFrame._set_item\u001b[1;34m(self, key, value)\u001b[0m\n\u001b[0;32m   3822\u001b[0m \u001b[39mdef\u001b[39;00m \u001b[39m_set_item\u001b[39m(\u001b[39mself\u001b[39m, key, value) \u001b[39m-\u001b[39m\u001b[39m>\u001b[39m \u001b[39mNone\u001b[39;00m:\n\u001b[0;32m   3823\u001b[0m     \u001b[39m\"\"\"\u001b[39;00m\n\u001b[0;32m   3824\u001b[0m \u001b[39m    Add series to DataFrame in specified column.\u001b[39;00m\n\u001b[0;32m   3825\u001b[0m \n\u001b[1;32m   (...)\u001b[0m\n\u001b[0;32m   3830\u001b[0m \u001b[39m    ensure homogeneity.\u001b[39;00m\n\u001b[0;32m   3831\u001b[0m \u001b[39m    \"\"\"\u001b[39;00m\n\u001b[1;32m-> 3832\u001b[0m     value \u001b[39m=\u001b[39m \u001b[39mself\u001b[39;49m\u001b[39m.\u001b[39;49m_sanitize_column(value)\n\u001b[0;32m   3834\u001b[0m     \u001b[39mif\u001b[39;00m (\n\u001b[0;32m   3835\u001b[0m         key \u001b[39min\u001b[39;00m \u001b[39mself\u001b[39m\u001b[39m.\u001b[39mcolumns\n\u001b[0;32m   3836\u001b[0m         \u001b[39mand\u001b[39;00m value\u001b[39m.\u001b[39mndim \u001b[39m==\u001b[39m \u001b[39m1\u001b[39m\n\u001b[0;32m   3837\u001b[0m         \u001b[39mand\u001b[39;00m \u001b[39mnot\u001b[39;00m is_extension_array_dtype(value)\n\u001b[0;32m   3838\u001b[0m     ):\n\u001b[0;32m   3839\u001b[0m         \u001b[39m# broadcast across multiple columns if necessary\u001b[39;00m\n\u001b[0;32m   3840\u001b[0m         \u001b[39mif\u001b[39;00m \u001b[39mnot\u001b[39;00m \u001b[39mself\u001b[39m\u001b[39m.\u001b[39mcolumns\u001b[39m.\u001b[39mis_unique \u001b[39mor\u001b[39;00m \u001b[39misinstance\u001b[39m(\u001b[39mself\u001b[39m\u001b[39m.\u001b[39mcolumns, MultiIndex):\n",
      "File \u001b[1;32mc:\\Users\\pallist\\frame\\lib\\site-packages\\pandas\\core\\frame.py:4535\u001b[0m, in \u001b[0;36mDataFrame._sanitize_column\u001b[1;34m(self, value)\u001b[0m\n\u001b[0;32m   4532\u001b[0m     \u001b[39mreturn\u001b[39;00m _reindex_for_setitem(value, \u001b[39mself\u001b[39m\u001b[39m.\u001b[39mindex)\n\u001b[0;32m   4534\u001b[0m \u001b[39mif\u001b[39;00m is_list_like(value):\n\u001b[1;32m-> 4535\u001b[0m     com\u001b[39m.\u001b[39;49mrequire_length_match(value, \u001b[39mself\u001b[39;49m\u001b[39m.\u001b[39;49mindex)\n\u001b[0;32m   4536\u001b[0m \u001b[39mreturn\u001b[39;00m sanitize_array(value, \u001b[39mself\u001b[39m\u001b[39m.\u001b[39mindex, copy\u001b[39m=\u001b[39m\u001b[39mTrue\u001b[39;00m, allow_2d\u001b[39m=\u001b[39m\u001b[39mTrue\u001b[39;00m)\n",
      "File \u001b[1;32mc:\\Users\\pallist\\frame\\lib\\site-packages\\pandas\\core\\common.py:557\u001b[0m, in \u001b[0;36mrequire_length_match\u001b[1;34m(data, index)\u001b[0m\n\u001b[0;32m    553\u001b[0m \u001b[39m\"\"\"\u001b[39;00m\n\u001b[0;32m    554\u001b[0m \u001b[39mCheck the length of data matches the length of the index.\u001b[39;00m\n\u001b[0;32m    555\u001b[0m \u001b[39m\"\"\"\u001b[39;00m\n\u001b[0;32m    556\u001b[0m \u001b[39mif\u001b[39;00m \u001b[39mlen\u001b[39m(data) \u001b[39m!=\u001b[39m \u001b[39mlen\u001b[39m(index):\n\u001b[1;32m--> 557\u001b[0m     \u001b[39mraise\u001b[39;00m \u001b[39mValueError\u001b[39;00m(\n\u001b[0;32m    558\u001b[0m         \u001b[39m\"\u001b[39m\u001b[39mLength of values \u001b[39m\u001b[39m\"\u001b[39m\n\u001b[0;32m    559\u001b[0m         \u001b[39mf\u001b[39m\u001b[39m\"\u001b[39m\u001b[39m(\u001b[39m\u001b[39m{\u001b[39;00m\u001b[39mlen\u001b[39m(data)\u001b[39m}\u001b[39;00m\u001b[39m) \u001b[39m\u001b[39m\"\u001b[39m\n\u001b[0;32m    560\u001b[0m         \u001b[39m\"\u001b[39m\u001b[39mdoes not match length of index \u001b[39m\u001b[39m\"\u001b[39m\n\u001b[0;32m    561\u001b[0m         \u001b[39mf\u001b[39m\u001b[39m\"\u001b[39m\u001b[39m(\u001b[39m\u001b[39m{\u001b[39;00m\u001b[39mlen\u001b[39m(index)\u001b[39m}\u001b[39;00m\u001b[39m)\u001b[39m\u001b[39m\"\u001b[39m\n\u001b[0;32m    562\u001b[0m     )\n",
      "\u001b[1;31mValueError\u001b[0m: Length of values (20) does not match length of index (21)"
     ]
    }
   ],
   "source": [
    "# Save all word objects in a doc_list and save all paragraph objects in a file_paragraphs dict 15_30\n",
    "\n",
    "\n",
    "\n",
    "# test_folder =  r\"C:\\Users\\pallist\\Desktop\\ΤΡΕΧΟΝΤΑ\\Testing Folder\\Project Enorkes\\1) Extract Lektiko Enorkes\\Tests files\\Combined Folder\"\n",
    "test_folder = ad()\n",
    "result_folder = r\"C:\\Users\\pallist\\Desktop\\ΤΡΕΧΟΝΤΑ\\Testing Folder\\Enorkes ΚΑΤΑ\\Results\"\n",
    "tstamp = datetime.now().strftime(\"%d/%m/%Y_%H:%M:%S\")\n",
    "\n",
    "\n",
    "# ---------------------------------------------------------------- Define lists and dicts ----------------------------------------------------------------\n",
    "\n",
    "\n",
    "\n",
    "os.chdir(test_folder)\n",
    "files = glob.glob(\"*docx\")   \n",
    "paragraph_dict = {}\n",
    "string_dict = {}\n",
    "name_list = []\n",
    "date_list = []\n",
    "test_df = pd.DataFrame()\n",
    "\n",
    "antid_1 = []\n",
    "antid_2 = []\n",
    "antid_3 = []\n",
    "\n",
    "reg_date  = \"[0-3][0-9]\\/[0-1]?[0-9]\\/[2][0][1-2][0-9]\"\n",
    "reg_name  = \"(?<=ΚΑΤΑ).*?(?=.Ι.{2}ΕΙΣΑΓΩΓΙΚΑ)\"\n",
    "\n",
    "\n",
    "\n",
    "\n",
    "# ---------------------------------------------------------------- Loop ----------------------------------------------------------------\n",
    "\n",
    "\n",
    "\n",
    "for index,file in enumerate(files) :\n",
    "    print(index,file)\n",
    "    doc = Document(os.path.join(test_folder,file))                               # Get readable name of file    \n",
    "    paragraph_text_list = [p.text for p in list(doc.paragraphs)]               \n",
    "    s = ''.join(str(x) for x in  paragraph_text_list)                            # Create a dictionary (keys = files, values = paragraph string format)\n",
    "    string_dict[file] = s                  \n",
    "    date = re.findall(reg_date, string_dict[file])\n",
    "    name = re.findall(reg_name, string_dict[file])\n",
    "    s_name = str(name)\n",
    "\n",
    "    if sum(s_name.count(x) for x in ['Του ', 'Της ']) == 1 :\n",
    "        \n",
    "\n",
    "        if date != [] and name != []:                                                # Prevent errors caused by illegitimate files (if name/date are not written or properly formatted)\n",
    "            last_date = date[-1]                                                     # Get the last date of the file and the first occurence of the name pattern\n",
    "            name = name[0]\n",
    "            name_list.append(name)\n",
    "            date_list.append(last_date)\n",
    "            antid_1.append(\"-\")\n",
    "            antid_2.append(\"-\")\n",
    "            antid_3.append(\"-\")\n",
    "\n",
    "        else :\n",
    "            name_list.append(\"-\")\n",
    "            date_list.append(\"-\")\n",
    "            antid_1.append(\"-\")\n",
    "            antid_2.append(\"-\")\n",
    "            antid_3.append(\"-\")\n",
    "    \n",
    "    \n",
    "    else:\n",
    "        splitted = re.split(r\"(Του)|(Της)\",s_name)\n",
    "        if splitted[1] in (\"Του\", \"Της\") : \n",
    "            name1=  splitted[1] + splitted[3]  # or 2 -> 1\n",
    "            name2 = splitted[5] + splitted[6] # or 4 -> 5\n",
    "            name_list.append(name1)\n",
    "            antid_2.append(name2)\n",
    "            name_list.append(\"-\")\n",
    "            date_list.append(last_date)\n",
    "\n",
    "        elif splitted[2] in (\"Του\", \"Της\") :\n",
    "            name1=  splitted[2] + splitted[3]  # or 2 -> 1\n",
    "            name2 = splitted[4] + splitted[6] # or 4 -> 5\n",
    "            name_list.append(name1)\n",
    "            antid_2.append(name2)\n",
    "            name_list.append(\"-\")\n",
    "            date_list.append(last_date)   \n",
    "            \n",
    "        if len(splitted) >= 8 :\n",
    "            if splitted[8] in (\"Του\", \"Της\") :\n",
    "                name3 = splitted[8] + splitted[9]\n",
    "                antid_3.append(name3)\n",
    "        else :\n",
    "            antid_3.append(\"-\")\n",
    "\n",
    "#----------------------------------------------------------------Test DF----------------------------------------------------------------   \n",
    "        \n",
    "    \n",
    "test_df['Μοναδικός Αντίδικος'] = name_list\n",
    "# test_df['Aντίδικος 1'] = antid_1\n",
    "# test_df['Αντίδικος 2'] = antid_2\n",
    "# test_df['Αντίδικος 3'] = antid_3\n",
    "test_df['Date'] = date_list\n",
    "test_df"
   ]
  },
  {
   "cell_type": "code",
   "execution_count": null,
   "metadata": {},
   "outputs": [
    {
     "name": "stdout",
     "output_type": "stream",
     "text": [
      "ΜΕΛΑΧΡΗΣ ΧΡΗΣΤΟΣ ΑΓΩΓΗΣ ΔΕΔΔΗΕ (ΕΠΑΝΑΣΥΝΔΕΣΗ).docx\n"
     ]
    }
   ],
   "source": [
    "print(file)"
   ]
  },
  {
   "cell_type": "code",
   "execution_count": 23,
   "metadata": {},
   "outputs": [
    {
     "data": {
      "text/plain": [
       "7"
      ]
     },
     "execution_count": 23,
     "metadata": {},
     "output_type": "execute_result"
    }
   ],
   "source": [
    "len(splitted)"
   ]
  },
  {
   "cell_type": "code",
   "execution_count": null,
   "metadata": {},
   "outputs": [],
   "source": []
  },
  {
   "cell_type": "code",
   "execution_count": null,
   "metadata": {},
   "outputs": [],
   "source": []
  },
  {
   "cell_type": "code",
   "execution_count": null,
   "metadata": {},
   "outputs": [],
   "source": []
  }
 ],
 "metadata": {
  "kernelspec": {
   "display_name": "Python 3.10.8 ('frame')",
   "language": "python",
   "name": "python3"
  },
  "language_info": {
   "codemirror_mode": {
    "name": "ipython",
    "version": 3
   },
   "file_extension": ".py",
   "mimetype": "text/x-python",
   "name": "python",
   "nbconvert_exporter": "python",
   "pygments_lexer": "ipython3",
   "version": "3.10.8"
  },
  "orig_nbformat": 4,
  "vscode": {
   "interpreter": {
    "hash": "7a46061b131d91aee9440cfcfc67501265c864dc4a87769083afe5c961eb8de2"
   }
  }
 },
 "nbformat": 4,
 "nbformat_minor": 2
}
