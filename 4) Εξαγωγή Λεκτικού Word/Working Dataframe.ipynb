{
 "cells": [
  {
   "cell_type": "code",
   "execution_count": 2,
   "metadata": {},
   "outputs": [],
   "source": [
    "import os\n",
    "import glob\n",
    "import pandas as pd\n",
    "from docx import Document\n",
    "import re\n",
    "from tkinter import filedialog as fd\n",
    "from tkinter.filedialog import askdirectory as ad\n",
    "from datetime import datetime\n",
    "import pprint\n",
    "import openpyxl\n",
    "import pprint"
   ]
  },
  {
   "cell_type": "code",
   "execution_count": 3,
   "metadata": {},
   "outputs": [
    {
     "name": "stdout",
     "output_type": "stream",
     "text": [
      "0 ~$ΩΓΗ ΔΕΔΔΗΕ ΑΡΚΟΥΜΑΝΗΣ ΑΝΔΡΕΑΣ.docx\n"
     ]
    },
    {
     "ename": "PackageNotFoundError",
     "evalue": "Package not found at 'C:\\Users\\pallist\\Desktop\\ΤΡΕΧΟΝΤΑ\\Testing Folder\\Project Enorkes\\1) Extract Lektiko Enorkes\\Tests files\\Combined Folder\\~$ΩΓΗ ΔΕΔΔΗΕ ΑΡΚΟΥΜΑΝΗΣ ΑΝΔΡΕΑΣ.docx'",
     "output_type": "error",
     "traceback": [
      "\u001b[1;31m---------------------------------------------------------------------------\u001b[0m",
      "\u001b[1;31mPackageNotFoundError\u001b[0m                      Traceback (most recent call last)",
      "\u001b[1;32mc:\\Users\\pallist\\Νέος φάκελος\\Project-Enorkes\\4) Εξαγωγή Λεκτικού Word\\Working Dataframe.ipynb Cell 2\u001b[0m in \u001b[0;36m<cell line: 35>\u001b[1;34m()\u001b[0m\n\u001b[0;32m     <a href='vscode-notebook-cell:/c%3A/Users/pallist/%CE%9D%CE%AD%CE%BF%CF%82%20%CF%86%CE%AC%CE%BA%CE%B5%CE%BB%CE%BF%CF%82/Project-Enorkes/4%29%20%CE%95%CE%BE%CE%B1%CE%B3%CF%89%CE%B3%CE%AE%20%CE%9B%CE%B5%CE%BA%CF%84%CE%B9%CE%BA%CE%BF%CF%8D%20Word/Working%20Dataframe.ipynb#W2sZmlsZQ%3D%3D?line=34'>35</a>\u001b[0m \u001b[39mfor\u001b[39;00m index,file \u001b[39min\u001b[39;00m \u001b[39menumerate\u001b[39m(files) :\n\u001b[0;32m     <a href='vscode-notebook-cell:/c%3A/Users/pallist/%CE%9D%CE%AD%CE%BF%CF%82%20%CF%86%CE%AC%CE%BA%CE%B5%CE%BB%CE%BF%CF%82/Project-Enorkes/4%29%20%CE%95%CE%BE%CE%B1%CE%B3%CF%89%CE%B3%CE%AE%20%CE%9B%CE%B5%CE%BA%CF%84%CE%B9%CE%BA%CE%BF%CF%8D%20Word/Working%20Dataframe.ipynb#W2sZmlsZQ%3D%3D?line=35'>36</a>\u001b[0m     \u001b[39mprint\u001b[39m(index,file)\n\u001b[1;32m---> <a href='vscode-notebook-cell:/c%3A/Users/pallist/%CE%9D%CE%AD%CE%BF%CF%82%20%CF%86%CE%AC%CE%BA%CE%B5%CE%BB%CE%BF%CF%82/Project-Enorkes/4%29%20%CE%95%CE%BE%CE%B1%CE%B3%CF%89%CE%B3%CE%AE%20%CE%9B%CE%B5%CE%BA%CF%84%CE%B9%CE%BA%CE%BF%CF%8D%20Word/Working%20Dataframe.ipynb#W2sZmlsZQ%3D%3D?line=36'>37</a>\u001b[0m     doc \u001b[39m=\u001b[39m Document(os\u001b[39m.\u001b[39;49mpath\u001b[39m.\u001b[39;49mjoin(test_folder,file))                               \u001b[39m# Get readable name of file    \u001b[39;00m\n\u001b[0;32m     <a href='vscode-notebook-cell:/c%3A/Users/pallist/%CE%9D%CE%AD%CE%BF%CF%82%20%CF%86%CE%AC%CE%BA%CE%B5%CE%BB%CE%BF%CF%82/Project-Enorkes/4%29%20%CE%95%CE%BE%CE%B1%CE%B3%CF%89%CE%B3%CE%AE%20%CE%9B%CE%B5%CE%BA%CF%84%CE%B9%CE%BA%CE%BF%CF%8D%20Word/Working%20Dataframe.ipynb#W2sZmlsZQ%3D%3D?line=37'>38</a>\u001b[0m     paragraph_text_list \u001b[39m=\u001b[39m [p\u001b[39m.\u001b[39mtext \u001b[39mfor\u001b[39;00m p \u001b[39min\u001b[39;00m \u001b[39mlist\u001b[39m(doc\u001b[39m.\u001b[39mparagraphs)]               \n\u001b[0;32m     <a href='vscode-notebook-cell:/c%3A/Users/pallist/%CE%9D%CE%AD%CE%BF%CF%82%20%CF%86%CE%AC%CE%BA%CE%B5%CE%BB%CE%BF%CF%82/Project-Enorkes/4%29%20%CE%95%CE%BE%CE%B1%CE%B3%CF%89%CE%B3%CE%AE%20%CE%9B%CE%B5%CE%BA%CF%84%CE%B9%CE%BA%CE%BF%CF%8D%20Word/Working%20Dataframe.ipynb#W2sZmlsZQ%3D%3D?line=38'>39</a>\u001b[0m     s \u001b[39m=\u001b[39m \u001b[39m'\u001b[39m\u001b[39m'\u001b[39m\u001b[39m.\u001b[39mjoin(\u001b[39mstr\u001b[39m(x) \u001b[39mfor\u001b[39;00m x \u001b[39min\u001b[39;00m  paragraph_text_list)                            \u001b[39m# Create a dictionary (keys = files, values = paragraph string format)\u001b[39;00m\n",
      "File \u001b[1;32mc:\\Users\\pallist\\frame\\lib\\site-packages\\docx\\api.py:25\u001b[0m, in \u001b[0;36mDocument\u001b[1;34m(docx)\u001b[0m\n\u001b[0;32m     18\u001b[0m \u001b[39m\"\"\"\u001b[39;00m\n\u001b[0;32m     19\u001b[0m \u001b[39mReturn a |Document| object loaded from *docx*, where *docx* can be\u001b[39;00m\n\u001b[0;32m     20\u001b[0m \u001b[39meither a path to a ``.docx`` file (a string) or a file-like object. If\u001b[39;00m\n\u001b[0;32m     21\u001b[0m \u001b[39m*docx* is missing or ``None``, the built-in default document \"template\"\u001b[39;00m\n\u001b[0;32m     22\u001b[0m \u001b[39mis loaded.\u001b[39;00m\n\u001b[0;32m     23\u001b[0m \u001b[39m\"\"\"\u001b[39;00m\n\u001b[0;32m     24\u001b[0m docx \u001b[39m=\u001b[39m _default_docx_path() \u001b[39mif\u001b[39;00m docx \u001b[39mis\u001b[39;00m \u001b[39mNone\u001b[39;00m \u001b[39melse\u001b[39;00m docx\n\u001b[1;32m---> 25\u001b[0m document_part \u001b[39m=\u001b[39m Package\u001b[39m.\u001b[39;49mopen(docx)\u001b[39m.\u001b[39mmain_document_part\n\u001b[0;32m     26\u001b[0m \u001b[39mif\u001b[39;00m document_part\u001b[39m.\u001b[39mcontent_type \u001b[39m!=\u001b[39m CT\u001b[39m.\u001b[39mWML_DOCUMENT_MAIN:\n\u001b[0;32m     27\u001b[0m     tmpl \u001b[39m=\u001b[39m \u001b[39m\"\u001b[39m\u001b[39mfile \u001b[39m\u001b[39m'\u001b[39m\u001b[39m%s\u001b[39;00m\u001b[39m'\u001b[39m\u001b[39m is not a Word file, content type is \u001b[39m\u001b[39m'\u001b[39m\u001b[39m%s\u001b[39;00m\u001b[39m'\u001b[39m\u001b[39m\"\u001b[39m\n",
      "File \u001b[1;32mc:\\Users\\pallist\\frame\\lib\\site-packages\\docx\\opc\\package.py:128\u001b[0m, in \u001b[0;36mOpcPackage.open\u001b[1;34m(cls, pkg_file)\u001b[0m\n\u001b[0;32m    122\u001b[0m \u001b[39m@classmethod\u001b[39m\n\u001b[0;32m    123\u001b[0m \u001b[39mdef\u001b[39;00m \u001b[39mopen\u001b[39m(\u001b[39mcls\u001b[39m, pkg_file):\n\u001b[0;32m    124\u001b[0m     \u001b[39m\"\"\"\u001b[39;00m\n\u001b[0;32m    125\u001b[0m \u001b[39m    Return an |OpcPackage| instance loaded with the contents of\u001b[39;00m\n\u001b[0;32m    126\u001b[0m \u001b[39m    *pkg_file*.\u001b[39;00m\n\u001b[0;32m    127\u001b[0m \u001b[39m    \"\"\"\u001b[39;00m\n\u001b[1;32m--> 128\u001b[0m     pkg_reader \u001b[39m=\u001b[39m PackageReader\u001b[39m.\u001b[39;49mfrom_file(pkg_file)\n\u001b[0;32m    129\u001b[0m     package \u001b[39m=\u001b[39m \u001b[39mcls\u001b[39m()\n\u001b[0;32m    130\u001b[0m     Unmarshaller\u001b[39m.\u001b[39munmarshal(pkg_reader, package, PartFactory)\n",
      "File \u001b[1;32mc:\\Users\\pallist\\frame\\lib\\site-packages\\docx\\opc\\pkgreader.py:32\u001b[0m, in \u001b[0;36mPackageReader.from_file\u001b[1;34m(pkg_file)\u001b[0m\n\u001b[0;32m     27\u001b[0m \u001b[39m@staticmethod\u001b[39m\n\u001b[0;32m     28\u001b[0m \u001b[39mdef\u001b[39;00m \u001b[39mfrom_file\u001b[39m(pkg_file):\n\u001b[0;32m     29\u001b[0m     \u001b[39m\"\"\"\u001b[39;00m\n\u001b[0;32m     30\u001b[0m \u001b[39m    Return a |PackageReader| instance loaded with contents of *pkg_file*.\u001b[39;00m\n\u001b[0;32m     31\u001b[0m \u001b[39m    \"\"\"\u001b[39;00m\n\u001b[1;32m---> 32\u001b[0m     phys_reader \u001b[39m=\u001b[39m PhysPkgReader(pkg_file)\n\u001b[0;32m     33\u001b[0m     content_types \u001b[39m=\u001b[39m _ContentTypeMap\u001b[39m.\u001b[39mfrom_xml(phys_reader\u001b[39m.\u001b[39mcontent_types_xml)\n\u001b[0;32m     34\u001b[0m     pkg_srels \u001b[39m=\u001b[39m PackageReader\u001b[39m.\u001b[39m_srels_for(phys_reader, PACKAGE_URI)\n",
      "File \u001b[1;32mc:\\Users\\pallist\\frame\\lib\\site-packages\\docx\\opc\\phys_pkg.py:30\u001b[0m, in \u001b[0;36mPhysPkgReader.__new__\u001b[1;34m(cls, pkg_file)\u001b[0m\n\u001b[0;32m     28\u001b[0m         reader_cls \u001b[39m=\u001b[39m _ZipPkgReader\n\u001b[0;32m     29\u001b[0m     \u001b[39melse\u001b[39;00m:\n\u001b[1;32m---> 30\u001b[0m         \u001b[39mraise\u001b[39;00m PackageNotFoundError(\n\u001b[0;32m     31\u001b[0m             \u001b[39m\"\u001b[39m\u001b[39mPackage not found at \u001b[39m\u001b[39m'\u001b[39m\u001b[39m%s\u001b[39;00m\u001b[39m'\u001b[39m\u001b[39m\"\u001b[39m \u001b[39m%\u001b[39m pkg_file\n\u001b[0;32m     32\u001b[0m         )\n\u001b[0;32m     33\u001b[0m \u001b[39melse\u001b[39;00m:  \u001b[39m# assume it's a stream and pass it to Zip reader to sort out\u001b[39;00m\n\u001b[0;32m     34\u001b[0m     reader_cls \u001b[39m=\u001b[39m _ZipPkgReader\n",
      "\u001b[1;31mPackageNotFoundError\u001b[0m: Package not found at 'C:\\Users\\pallist\\Desktop\\ΤΡΕΧΟΝΤΑ\\Testing Folder\\Project Enorkes\\1) Extract Lektiko Enorkes\\Tests files\\Combined Folder\\~$ΩΓΗ ΔΕΔΔΗΕ ΑΡΚΟΥΜΑΝΗΣ ΑΝΔΡΕΑΣ.docx'"
     ]
    }
   ],
   "source": [
    "# Save all word objects in a doc_list and save all paragraph objects in a file_paragraphs dict 15_30\n",
    "\n",
    "\n",
    "\n",
    "test_folder =  r\"C:\\Users\\pallist\\Desktop\\ΤΡΕΧΟΝΤΑ\\Testing Folder\\Project Enorkes\\1) Extract Lektiko Enorkes\\Tests files\\Combined Folder\"\n",
    "# test_folder = r\"C:\\Users\\pallist\\Desktop\\ΤΡΕΧΟΝΤΑ\\Testing Folder\\Project Enorkes\\1) Extract Lektiko Enorkes\\Tests files\\Initial test folder\"\n",
    "result_folder = r\"C:\\Users\\pallist\\Desktop\\ΤΡΕΧΟΝΤΑ\\Testing Folder\\Enorkes ΚΑΤΑ\\Results\"\n",
    "tstamp = datetime.now().strftime(\"%d/%m/%Y_%H:%M:%S\")\n",
    "\n",
    "\n",
    "# ---------------------------------------------------------------- Define lists and dicts ----------------------------------------------------------------\n",
    "\n",
    "\n",
    "\n",
    "os.chdir(test_folder)\n",
    "files = glob.glob(\"*docx\")   \n",
    "paragraph_dict = {}\n",
    "string_dict = {}\n",
    "name_list = []\n",
    "date_list = []\n",
    "test_df = pd.DataFrame()\n",
    "\n",
    "antid_1 = []\n",
    "antid_2 = []\n",
    "antid_3 = []\n",
    "\n",
    "reg_date  = \"[0-3][0-9]\\/[0-1][0-9]\\/[2][0][1-2][0-9]\"\n",
    "reg_name  = \"(?<=ΚΑΤΑ).*?(?=.Ι.{2}ΕΙΣΑΓΩΓΙΚΑ)\"\n",
    "\n",
    "\n",
    "# ---------------------------------------------------------------- Loop ----------------------------------------------------------------\n",
    "\n",
    "\n",
    "\n",
    "for index,file in enumerate(files) :\n",
    "    print(index,file)\n",
    "    doc = Document(os.path.join(test_folder,file))                               # Get readable name of file    \n",
    "    paragraph_text_list = [p.text for p in list(doc.paragraphs)]               \n",
    "    s = ''.join(str(x) for x in  paragraph_text_list)                            # Create a dictionary (keys = files, values = paragraph string format)\n",
    "    string_dict[file] = s                  \n",
    "    date = re.findall(reg_date, string_dict[file])\n",
    "    name = re.findall(reg_name, string_dict[file])\n",
    "    s_name = str(name)\n",
    "\n",
    "    if sum(s_name.count(x) for x in ['Του ', 'Της ']) == 1 :\n",
    "        \n",
    "\n",
    "        if date != [] and name != []:                                                # Prevent errors caused by illegitimate files (if name/date are not written or properly formatted)\n",
    "            last_date = date[-1]                                                     # Get the last date of the file and the first occurence of the name pattern\n",
    "            name = name[0]\n",
    "            name_list.append(name)\n",
    "            date_list.append(last_date)\n",
    "            antid_1.append(\"-\")\n",
    "            antid_2.append(\"-\")\n",
    "            antid_3.append(\"-\")\n",
    "\n",
    "        else :\n",
    "            name_list.append(\"-\")\n",
    "            date_list.append(\"-\")\n",
    "            antid_1.append(\"-\")\n",
    "            antid_2.append(\"-\")\n",
    "            antid_3.append(\"-\")\n",
    "    \n",
    "    \n",
    "    else:\n",
    "        splitted = re.split(r\"(Του)|(Της)\",s_name)\n",
    "        name1=  splitted[2] + splitted[3]\n",
    "        name2 = splitted[4] + splitted[6]\n",
    "        antid_1.append(name1)\n",
    "        antid_2.append(name2)\n",
    "        name_list.append(\"-\")\n",
    "        date_list.append(\"-\")\n",
    "\n",
    "        if splitted[8] in (\"Του\", \"Της\") :\n",
    "            name3 = splitted[8] + splitted[9]\n",
    "            antid_3.append(name3)\n",
    "\n",
    "        else :\n",
    "            antid_3.append(\"-\")\n",
    "\n",
    "\n",
    "\n",
    "#----------------------------------------------------------------Test DF----------------------------------------------------------------   \n",
    "        \n",
    "    \n",
    "test_df['Μοναδικός Αντίδικος'] = name_list\n",
    "test_df['Aντίδικος 1'] = antid_1\n",
    "test_df['Αντίδικος 2'] = antid_2\n",
    "test_df['Αντίδικος 3'] = antid_3\n",
    "test_df['Date'] = date_list\n",
    "test_df\n",
    "\n",
    "\n",
    "\n",
    "\n"
   ]
  },
  {
   "cell_type": "code",
   "execution_count": null,
   "metadata": {},
   "outputs": [],
   "source": []
  },
  {
   "cell_type": "code",
   "execution_count": null,
   "metadata": {},
   "outputs": [],
   "source": []
  }
 ],
 "metadata": {
  "kernelspec": {
   "display_name": "Python 3.10.8 ('frame')",
   "language": "python",
   "name": "python3"
  },
  "language_info": {
   "codemirror_mode": {
    "name": "ipython",
    "version": 3
   },
   "file_extension": ".py",
   "mimetype": "text/x-python",
   "name": "python",
   "nbconvert_exporter": "python",
   "pygments_lexer": "ipython3",
   "version": "3.10.8"
  },
  "orig_nbformat": 4,
  "vscode": {
   "interpreter": {
    "hash": "7a46061b131d91aee9440cfcfc67501265c864dc4a87769083afe5c961eb8de2"
   }
  }
 },
 "nbformat": 4,
 "nbformat_minor": 2
}
