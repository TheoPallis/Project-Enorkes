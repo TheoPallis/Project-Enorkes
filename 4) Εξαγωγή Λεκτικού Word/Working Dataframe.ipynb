{
 "cells": [
  {
   "cell_type": "code",
   "execution_count": 14,
   "metadata": {},
   "outputs": [],
   "source": [
    "import os\n",
    "import glob\n",
    "import pandas as pd\n",
    "import numpy as np\n",
    "from docx import Document\n",
    "import re\n",
    "from tkinter import filedialog as fd\n",
    "from tkinter.filedialog import askdirectory as ad\n",
    "from datetime import datetime\n",
    "import pprint\n",
    "import openpyxl\n",
    "import pprint"
   ]
  },
  {
   "cell_type": "code",
   "execution_count": 21,
   "metadata": {},
   "outputs": [
    {
     "name": "stdout",
     "output_type": "stream",
     "text": [
      "0 ΑΓΩΓΗ ΔΕΔΔΕΗ ΤΟΕΒ LB 139 (ΑΥΘΑΙΡΕΤΗ).docx\n",
      "1 ΑΓΩΓΗ ΔΕΔΔΗΕ TOEB LB 115(ΑΥΘΑΙΡΕΤΗ).docx\n",
      "2 ΑΓΩΓΗ ΔΕΔΔΗΕ ΓΕΩΡΓΟΥΣΙΟΥ ΗΛΙΑΣ.docx\n",
      "3 ΑΓΩΓΗ ΔΕΔΔΗΕ ΕΛ 24 (ΑΥΘΑΙΡΕΤΗ).docx\n",
      "4 ΑΓΩΓΗ ΔΕΔΔΗΕ ΚΑΤΑ ΜΑΥΡΟΠΟΥΛΟΥ ΑΝΑΣΤΑΣΙΟΥ.docx\n",
      "5 ΑΓΩΓΗ ΔΕΔΔΗΕ ΛΟΥΤΣΑΣ ΝΙΚΟΛΑΟΣ ΚΑΙ ΛΟΥΤΣΑ ΕΛΕΝΗ.docx\n",
      "6 ΑΓΩΓΗ ΔΕΔΔΗΕ ΤΟΕΒ LB 113 (αυθαίρετη).docx\n",
      "7 ΑΓΩΓΗ ΔΕΔΔΗΕ ΤΟΕΒ LB 116 (ΑΥΘΑΙΡΕΤΗ).docx\n",
      "8 ΑΓΩΓΗ ΔΕΔΔΗΕ ΤΟΕΒ Λ57 (αυθαιρετη).docx\n",
      "9 ΑΓΩΓΗ ΔΕΔΗΕ ΤΟΕΒ LB 140 (ΑΥΘΑΙΡΕΤΗ).docx\n",
      "10 ΑΓΩΓΗ ΕΛΕΥΘΕΡΙΑΔΗΣ ΣΩΤΗΡΙΟΣ ΠΟΛΥΑΓΩΓΗ(ΠΑΡΑΚΑΜΨΗ).docx\n",
      "11 ΑΓΩΓΗ ΖΑΧΑΡΙΟΥΔΑΚΗ ΑΝΝΑ (ΟΥΔΕΤΕΡΟΣ).docx\n",
      "12 ΑΓΩΓΗ Κ.ΑΝΤΩΝΙΟΥ ΚΑΙ ΣΙΑ ΑΕ(αυθαίρετη).docx\n",
      "13 ΑΓΩΓΗ ΠΙΠΕΡΙΔΗΣ ΝΙΚΟΛΑΟΣ (ΑΥΘΑΙΡΕΤΗ).docx\n",
      "14 ΑΓΩΓΗ ΠΙΠΙΛΙΑΡΗΣ ΔΗΜΗΤΡΙΟΣ (ουδέτερος).docx\n",
      "15 ΑΓΩΓΗ ΤΟΕΒ ΕΛ 52(ΑΥΘΑΙΡΕΤΗ).docx\n",
      "16 ΚΑΠΕΤΑΝΗ ΕΛΕΝΗ ΑΓΩΓΗ ΔΕΔΔΗΕ (βασικό).docx\n",
      "17 ΚΑΡΑΦΑΝΤΑΛΟΥ ΑΡΙΣΤΟΠΟΥΛΟΥ ΓΕΩΡΓΙΑ ΑΓΩΓΗ ΔΕΔΔΗΕ (ΕΠΑΝΑΣΥΝΔΕΣΗ).docx\n",
      "18 ΚΟΤΡΩΝΗΣ ΙΩΑΝΝΗΣ_10072734402 ΑΓΩΓΗ ΔΕΔΔΗΕ ΜΙΚΡΟΔΙΑΦΟΡΕΣ (βασικό).docx\n",
      "19 ΜΕΛΑΧΡΗΣ ΧΡΗΣΤΟΣ ΑΓΩΓΗΣ ΔΕΔΔΗΕ (ΕΠΑΝΑΣΥΝΔΕΣΗ).docx\n"
     ]
    }
   ],
   "source": [
    "# Save all word objects in a doc_list and save all paragraph objects in a file_paragraphs dict 15_30\n",
    "\n",
    "\n",
    "\n",
    "# test_folder =  r\"C:\\Users\\pallist\\Desktop\\ΤΡΕΧΟΝΤΑ\\Testing Folder\\Project Enorkes\\1) Extract Lektiko Enorkes\\Tests files\\Combined Folder\"\n",
    "test_folder = ad()\n",
    "result_folder = r\"C:\\Users\\pallist\\Desktop\\ΤΡΕΧΟΝΤΑ\\Testing Folder\\Enorkes ΚΑΤΑ\\Results\"\n",
    "tstamp = datetime.now().strftime(\"%d/%m/%Y_%H:%M:%S\")\n",
    "\n",
    "\n",
    "# ---------------------------------------------------------------- Define lists and dicts ----------------------------------------------------------------\n",
    "\n",
    "\n",
    "\n",
    "os.chdir(test_folder)\n",
    "files = glob.glob(\"*docx\")   \n",
    "paragraph_dict = {}\n",
    "string_dict = {}\n",
    "name_list = []\n",
    "date_list = []\n",
    "file_list = []\n",
    "test_df = pd.DataFrame()\n",
    "\n",
    "antid_1 = []\n",
    "antid_2 = []\n",
    "antid_3 = []\n",
    "\n",
    "reg_date  = \"[0-3][0-9]\\/[0-1]?[0-9]\\/[2][0][1-2][0-9]\"\n",
    "reg_name  = \"(?<=ΚΑΤΑ).*?(?=.Ι.{2}ΕΙΣΑΓΩΓΙΚΑ)\"\n",
    "\n",
    "\n",
    "\n",
    "\n",
    "# ---------------------------------------------------------------- Loop ----------------------------------------------------------------\n",
    "\n",
    "\n",
    "\n",
    "for index,file in enumerate(files) :\n",
    "    print(index,file)\n",
    "    file_list.append(file)\n",
    "    doc = Document(os.path.join(test_folder,file))                               # Get readable name of file    \n",
    "    paragraph_text_list = [p.text for p in list(doc.paragraphs)]               \n",
    "    s = ''.join(str(x) for x in  paragraph_text_list)                            # Create a dictionary (keys = files, values = paragraph string format)\n",
    "    string_dict[file] = s                  \n",
    "    date = re.findall(reg_date, string_dict[file])\n",
    "    name = re.findall(reg_name, string_dict[file])\n",
    "    s_name = str(name)\n",
    "\n",
    "    if sum(s_name.count(x) for x in ['Του ', 'Της ']) == 1 :\n",
    "        \n",
    "\n",
    "        if date != [] and name != []:                                                # Prevent errors caused by illegitimate files (if name/date are not written or properly formatted)\n",
    "            last_date = date[-1]                                                     # Get the last date of the file and the first occurence of the name pattern\n",
    "            name = name[0]\n",
    "            name_list.append(name)\n",
    "            date_list.append(last_date)\n",
    "            antid_1.append(\"-\")\n",
    "            antid_2.append(\"-\")\n",
    "            antid_3.append(\"-\")\n",
    "\n",
    "        else :\n",
    "            name_list.append(\"-\")\n",
    "            date_list.append(\"-\")\n",
    "            antid_1.append(\"-\")\n",
    "            antid_2.append(\"-\")\n",
    "            antid_3.append(\"-\")\n",
    "    \n",
    "    \n",
    "    # else:\n",
    "    #     splitted = re.split(r\"(Του)|(Της)\",s_name)\n",
    "    #     name1=  splitted[2] + splitted[3]\n",
    "    #     name2 = splitted[4] + splitted[6]\n",
    "    #     name_list.append(name1)\n",
    "    #     antid_2.append(name2)\n",
    "    #     name_list.append(\"-\")\n",
    "    #     date_list.append(last_date)\n",
    "\n",
    "    #     if splitted[8] in (\"Του\", \"Της\") :\n",
    "    #         name3 = splitted[8] + splitted[9]\n",
    "    #         antid_3.append(name3)\n",
    "\n",
    "    #     else :\n",
    "    #         antid_3.append(\"-\")\n",
    "\n",
    "\n",
    "\n",
    "#----------------------------------------------------------------Test DF----------------------------------------------------------------   \n",
    "        \n",
    "# test_df['File'] = file_list\n",
    "test_df['Μοναδικός Αντίδικος'] = name_list\n",
    "# test_df['Aντίδικος 1'] = antid_1\n",
    "# test_df['Αντίδικος 2'] = antid_2\n",
    "# test_df['Αντίδικος 3'] = antid_3\n",
    "test_df['Date'] = date_list\n",
    "\n",
    "test_df\n",
    "test_df.to_excel(\"f{file}.xlsx\")"
   ]
  },
  {
   "cell_type": "code",
   "execution_count": null,
   "metadata": {},
   "outputs": [
    {
     "name": "stdout",
     "output_type": "stream",
     "text": [
      "ΜΕΛΑΧΡΗΣ ΧΡΗΣΤΟΣ ΑΓΩΓΗΣ ΔΕΔΔΗΕ (ΕΠΑΝΑΣΥΝΔΕΣΗ).docx\n"
     ]
    }
   ],
   "source": [
    "print(file)"
   ]
  },
  {
   "cell_type": "code",
   "execution_count": null,
   "metadata": {},
   "outputs": [],
   "source": []
  },
  {
   "cell_type": "code",
   "execution_count": null,
   "metadata": {},
   "outputs": [],
   "source": []
  },
  {
   "cell_type": "code",
   "execution_count": null,
   "metadata": {},
   "outputs": [],
   "source": []
  },
  {
   "cell_type": "code",
   "execution_count": null,
   "metadata": {},
   "outputs": [],
   "source": []
  }
 ],
 "metadata": {
  "kernelspec": {
   "display_name": "Python 3.10.8 ('frame')",
   "language": "python",
   "name": "python3"
  },
  "language_info": {
   "codemirror_mode": {
    "name": "ipython",
    "version": 3
   },
   "file_extension": ".py",
   "mimetype": "text/x-python",
   "name": "python",
   "nbconvert_exporter": "python",
   "pygments_lexer": "ipython3",
   "version": "3.10.8"
  },
  "orig_nbformat": 4,
  "vscode": {
   "interpreter": {
    "hash": "7a46061b131d91aee9440cfcfc67501265c864dc4a87769083afe5c961eb8de2"
   }
  }
 },
 "nbformat": 4,
 "nbformat_minor": 2
}
