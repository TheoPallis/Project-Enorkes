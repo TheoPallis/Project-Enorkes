{
 "cells": [
  {
   "cell_type": "code",
   "execution_count": 3,
   "id": "157212d6",
   "metadata": {},
   "outputs": [
    {
     "name": "stdout",
     "output_type": "stream",
     "text": [
      "C:\\Users\\pallist\\frame\\Scripts\n"
     ]
    }
   ],
   "source": [
    "import os\n",
    "import glob\n",
    "import pandas as pd\n",
    "from docx import Document\n",
    "import re\n",
    "from tkinter import filedialog as fd\n",
    "from tkinter.filedialog import askdirectory as ad\n",
    "from datetime import datetime\n",
    "print(os.getcwd())\n",
    "import pprint\n",
    "import openpyxl"
   ]
  },
  {
   "cell_type": "code",
   "execution_count": 144,
   "id": "a49fea2a",
   "metadata": {},
   "outputs": [],
   "source": [
    "# Save all word objects in a doc_list and save all paragraph objects in a file_paragraphs dict 15_30\n",
    "\n",
    "def extract() :\n",
    "\n",
    "    test_folder= r\"C:\\Users\\pallist\\Desktop\\ΤΡΕΧΟΝΤΑ\\Testing Folder\\Enorkes ΚΑΤΑ\\Tests files\\Enorkes Noembriou Test\"\n",
    "    result_folder = r\"C:\\Users\\pallist\\Desktop\\ΤΡΕΧΟΝΤΑ\\Testing Folder\\Enorkes ΚΑΤΑ\\Results\"\n",
    "    tstamp = datetime.now().strftime(\"%d/%m/%Y_%H:%M:%S\")\n",
    "        \n",
    "    os.chdir(test_folder)\n",
    "    files = glob.glob(\"*docx\")   \n",
    "    paragraph_dict = {}\n",
    "    string_dict = {}\n",
    "    test_dict = {}\n",
    "    file_list = []\n",
    "    name_list = []\n",
    "    date_list = []\n",
    "    missing_date_list = []\n",
    "    missing_name_list = []\n",
    "    \n",
    "    reg_date  = \"[0-3][0-9]\\/[0-1][0-9]\\/[2][0][1-2][0-9]\"\n",
    "    reg_name  = \"(?<=ΚΑΤΑ).*?(?=.Ι.{2}ΕΙΣΑΓΩΓΙΚΑ)\"\n",
    "\n",
    "\n",
    "    for index,file in enumerate(files) :\n",
    "        file_list.append(file)\n",
    "        doc = Document(os.path.join(test_folder,file))                               # Get readable name of file    \n",
    "        paragraph_text_list = [p.text for p in list(doc.paragraphs)]                 # Create a dictionary (keys = files, values = paragraph text)\n",
    "        paragraph_dict[file] = paragraph_text_list\n",
    "        s = ''.join(str(x) for x in  paragraph_text_list)                            # Create a second dictionary (keys = files, values = paragraph string format)\n",
    "        string_dict[file] = s                  \n",
    "        date = re.findall(reg_date, string_dict[file])\n",
    "        name = re.findall(reg_name, string_dict[file])\n",
    "        \n",
    "        if date != [] and name != []:                                                # Prevent errors caused by illegitimate files\n",
    "            last_date = date[-1]                                                     # Get the last date of the file\n",
    "            name = name[0]\n",
    "            name_list.append(name)\n",
    "            date_list.append(last_date)\n",
    "            print(f\"{name} με ημερομηνία {last_date}\")\n",
    "            if sum(name.count(x) for x in (\"Του\", \"Της\")) > 1 :\n",
    "                print(re.split(r\"(Του)|(Της)\",name))\n",
    "#         else :\n",
    "#            missing_name_list.append(name)\n",
    "#            missing_date_list.append(date)\n",
    "            "
   ]
  },
  {
   "cell_type": "code",
   "execution_count": 145,
   "id": "05823acf",
   "metadata": {},
   "outputs": [
    {
     "name": "stdout",
     "output_type": "stream",
     "text": [
      "Της Βενετσάνου Μαρίας, κατοίκου Κορίνθου του Δήμου Κορινθίων του Ν. Κορινθίας, οδός Αγ. Νικολάου αρ. 19, με ΑΦΜ 116585321 με ημερομηνία 01/03/2021\n",
      "Του ΦΥΣΑΡΑΚΗ ΝΙΚΟΛΑΟΥ του Γεωργίου κατοίκου Επάνω Αρχάνων με Α.Φ.Μ. 103257999  με ημερομηνία 14/01/2021\n",
      "Της HYSA LOZJANA του SABIT κατοίκου Σταυρούπολης Θεσσαλονίκης επί της οδού Θηβών 17 τκ 56429 με ΑΦΜ 11255126 με ημερομηνία 16/06/2020\n",
      "Του ΚΙΟΥΤΣΟΥΚΗ ΧΡΗΣΤΟΥ, κάτοικος Ν. ΜΑΓΝΗΣΙΑΣ, οδός ΒΑΣ. ΣΟΦΙΑΣ – ΔΑΒΑΚΗ 2, με ΑΦΜ: 036790389 με ημερομηνία 01/08/2021\n",
      "Του ΤΟΓΓΕΛΙΔΗ ΠΕΡΙΚΛΗ, κάτοικος ΕΥΟΣΜΟΥ ΘΕΣΣΑΛΟΝΙΚΗΣ, οδός ΙΩΛΚΟΥ 12, με ΑΦΜ: 025444948 με ημερομηνία 01/08/2021\n",
      "Του Λιάκου Κωνσταντίνου του Παναγιώτη, κάτοικος Λιβαδειάς, οδός Αγίων Θεοδώρων 49, στη Λιβαδειά ΤΚ 32131, \tμε ΑΦΜ 14769232 με ημερομηνία 27/11/2017\n",
      "Του ΖΗΚΑ ΔΗΜΗΤΡΙΟΥ, κάτοικος Ασπαχαρίου Πυλίου στην  Κω, Τ.Κ. 85300 και ΑΦΜ: 042839772 με ημερομηνία 16/12/2020\n",
      "Της ΤΣΙΜΠΙΝΟΥ ΒΙΡΓΙΝΙΑΣ του ΕΜΜΑΝΟΥΗΛ, κατοίκου οδού Αγίου Μηνά, ΚΑΜΠΟΣ ΒΑΓΙΑ ΧΙΟΥ (Τ.Κ. 82100) και Της ΧΡΙΣΤΟΔΟΥΛΟΥ ΣΤΥΛΙΑΝΗΣ του ΚΟΣΜΑ, κατοίκου οδού Αγίου Μηνά, ΚΑΜΠΟΣ ΒΑΓΙΑ ΧΙΟΥ (Τ.Κ. 82100), με ΑΦΜ 302660437 με ημερομηνία 11/12/2020\n",
      "['', None, 'Της', ' ΤΣΙΜΠΙΝΟΥ ΒΙΡΓΙΝΙΑΣ του ΕΜΜΑΝΟΥΗΛ, κατοίκου οδού Αγίου Μηνά, ΚΑΜΠΟΣ ΒΑΓΙΑ ΧΙΟΥ (Τ.Κ. 82100) και ', None, 'Της', ' ΧΡΙΣΤΟΔΟΥΛΟΥ ΣΤΥΛΙΑΝΗΣ του ΚΟΣΜΑ, κατοίκου οδού Αγίου Μηνά, ΚΑΜΠΟΣ ΒΑΓΙΑ ΧΙΟΥ (Τ.Κ. 82100), με ΑΦΜ 302660437']\n",
      "Του ΤΣΙΜΠΙΝΟΥ ΒΙΡΓΙΝΙΑΣ του ΕΜΜΑΝΟΥΗΛ, κατοίκου οδού Αγίου Μηνά, ΚΑΜΠΟΣ ΒΑΓΙΑ ΧΙΟΥ (Τ.Κ. 82100) και Της ΧΡΙΣΤΟΔΟΥΛΟΥ ΣΤΥΛΙΑΝΗΣ του ΚΟΣΜΑ, κατοίκου οδού Αγίου Μηνά, ΚΑΜΠΟΣ ΒΑΓΙΑ ΧΙΟΥ (Τ.Κ. 82100), με ΑΦΜ 302660437 με ημερομηνία 11/12/2020\n",
      "['', 'Του', None, ' ΤΣΙΜΠΙΝΟΥ ΒΙΡΓΙΝΙΑΣ του ΕΜΜΑΝΟΥΗΛ, κατοίκου οδού Αγίου Μηνά, ΚΑΜΠΟΣ ΒΑΓΙΑ ΧΙΟΥ (Τ.Κ. 82100) και ', None, 'Της', ' ΧΡΙΣΤΟΔΟΥΛΟΥ ΣΤΥΛΙΑΝΗΣ του ΚΟΣΜΑ, κατοίκου οδού Αγίου Μηνά, ΚΑΜΠΟΣ ΒΑΓΙΑ ΧΙΟΥ (Τ.Κ. 82100), με ΑΦΜ 302660437']\n"
     ]
    }
   ],
   "source": [
    "extract()"
   ]
  },
  {
   "cell_type": "code",
   "execution_count": 137,
   "id": "9e8681cc",
   "metadata": {},
   "outputs": [],
   "source": [
    "# paragraph_df = pd.DataFrame.from_dict(paragraph_dict, orient='index').T\n",
    "# paragraph_df.to_excel(os.path.join(result_folder,\"paragraph_dict.xlsx\"),index=False)\n",
    "# string_df = pd.DataFrame.from_dict(string_dict, orient='index')\n",
    "# string_df.to_excel(os.path.join(result_folder,\"string_dict.xlsx\"),index=False)     \n",
    "test_df  = pd.DataFrame.from_dict(test_dict, orient='index')\n",
    "test_df.to_excel(os.path.join(result_folder,\"test_dict.xlsx\"),index=False)\n",
    "os.startfile(os.path.join(result_folder,\"test_dict.xlsx\"))\n",
    "# os.startfile(os.path.join(result_folder,\"paragraph_dict.xlsx\"))\n",
    "# os.startfile(os.path.join(result_folder,\"string_dict.xlsx\"))"
   ]
  },
  {
   "cell_type": "code",
   "execution_count": null,
   "id": "31961950",
   "metadata": {},
   "outputs": [],
   "source": []
  },
  {
   "cell_type": "code",
   "execution_count": null,
   "id": "70cafa7b",
   "metadata": {},
   "outputs": [],
   "source": []
  }
 ],
 "metadata": {
  "kernelspec": {
   "display_name": "Python 3 (ipykernel)",
   "language": "python",
   "name": "python3"
  },
  "language_info": {
   "codemirror_mode": {
    "name": "ipython",
    "version": 3
   },
   "file_extension": ".py",
   "mimetype": "text/x-python",
   "name": "python",
   "nbconvert_exporter": "python",
   "pygments_lexer": "ipython3",
   "version": "3.10.8"
  }
 },
 "nbformat": 4,
 "nbformat_minor": 5
}
