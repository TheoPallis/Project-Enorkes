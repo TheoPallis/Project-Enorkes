{
 "cells": [
  {
   "cell_type": "code",
   "execution_count": null,
   "metadata": {},
   "outputs": [],
   "source": [
    "import os\n",
    "import pandas as pd\n",
    "from Levenshtein import ratio"
   ]
  },
  {
   "cell_type": "code",
   "execution_count": null,
   "metadata": {},
   "outputs": [],
   "source": [
    "# Scan files\n",
    "\n",
    "lista_antidikon = pd.read_excel(os.path.join(r\"\\\\lawoffice\\Applications\\ScanDocs\\ΔΕΔΔΗΕ scandocs\\$ Υποδείγματα\\Ένορκες Βεβαιώσεις\\Πειραματικά\\Αυτοματοιημένες\\Ένορκες Νοεμβρίου\\Αναφορά Ενόρκων Νοεμβρίου\", 'Ένορκες Νοεμβρίου.xlsx'), sheet_name  = 'Τακτική Διαδικασία')['Επωνυμία Αποδέκτη']\n",
    "mydir = r\"\\\\lawoffice\\Applications\\ScanDocs\\ΔΕΔΔΗΕ scandocs\"\n",
    "mydir2 = r\"\\\\lawoffice\\Applications\\ScanDocs\\ΔΕΔΔΗΕ scandocs\\ΠΡΟΣ ΚΑΤΑΘΕΣΗ ΔΕΔΔΗΕ\\ΑΓΩΓΕΣ ΠΡΟΣ ΚΑΤΑΘΕΣΗ\"\n",
    "# def scan() and call it for προς κατάθεση too :\n",
    "\n",
    "dir_list_w = []\n",
    "sub_dir_list_w = []\n",
    "file_list_w = []\n",
    "\n",
    "\n",
    "for r,d,f in os.walk(mydir) :    \n",
    "    dir_list_w.append(r)\n",
    "    sub_dir_list_w.append(d)\n",
    "    file_list_w.append(f)\n",
    "\n",
    "pros_dir_list_w = []\n",
    "pros_sub_dir_list_w = []\n",
    "pros_file_list_w = []\n",
    "\n",
    "\n",
    "for r,d,f in os.walk(mydir) :    \n",
    "    pros_dir_list_w.append(r)\n",
    "    pros_sub_dir_list_w.append(d)\n",
    "    pros_file_list_w.append(f)"
   ]
  },
  {
   "cell_type": "code",
   "execution_count": null,
   "metadata": {},
   "outputs": [],
   "source": [
    "# Clean files and folders\n",
    "\n",
    "mylist = sub_dir_list_w\n",
    "for_removal = ['ΑΓΩΓΗ', 'ΔΕΔΔΗΕ', 'ΔΕΔΔΕΗ']\n",
    "for x in mylist :\n",
    "    for y in for_removal :\n",
    "        if y in x :\n",
    "            x.replace(y, \"\")\n",
    "print(mylist)\n",
    "\n",
    "\n"
   ]
  },
  {
   "cell_type": "code",
   "execution_count": 47,
   "metadata": {},
   "outputs": [],
   "source": [
    "# Find ratios\n",
    "\n",
    "def find_ratio(list2, percent) :\n",
    "    for name in lista_antidikon :\n",
    "        for name_dir in list2 :\n",
    "            if ratio(lista_antidikon, name_dir) > percent :#and name_dir.endswith('.docx'):\n",
    "                print(name_dir) \n",
    "\n",
    "find_ratio(sub_dir_list_w, 0.4)"
   ]
  }
 ],
 "metadata": {
  "kernelspec": {
   "display_name": "Python 3.10.8 ('frame')",
   "language": "python",
   "name": "python3"
  },
  "language_info": {
   "codemirror_mode": {
    "name": "ipython",
    "version": 3
   },
   "file_extension": ".py",
   "mimetype": "text/x-python",
   "name": "python",
   "nbconvert_exporter": "python",
   "pygments_lexer": "ipython3",
   "version": "3.10.8"
  },
  "orig_nbformat": 4,
  "vscode": {
   "interpreter": {
    "hash": "7a46061b131d91aee9440cfcfc67501265c864dc4a87769083afe5c961eb8de2"
   }
  }
 },
 "nbformat": 4,
 "nbformat_minor": 2
}
