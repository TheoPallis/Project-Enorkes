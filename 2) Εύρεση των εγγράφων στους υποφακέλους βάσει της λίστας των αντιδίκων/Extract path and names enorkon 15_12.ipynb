{
 "cells": [
  {
   "cell_type": "code",
   "execution_count": null,
   "metadata": {},
   "outputs": [],
   "source": [
    "import os\n",
    "import pandas as pd\n",
    "import numpy as np\n",
    "import  re"
   ]
  },
  {
   "cell_type": "code",
   "execution_count": null,
   "metadata": {},
   "outputs": [],
   "source": [
    "dir_list_mytype"
   ]
  },
  {
   "cell_type": "code",
   "execution_count": null,
   "metadata": {},
   "outputs": [],
   "source": [
    "mydir = r\"\\\\lawoffice\\Applications\\ScanDocs\\ΔΕΔΔΗΕ scandocs\"\n",
    "dir_list_mytype = []\n",
    "sub_dir_list_mytype = []\n",
    "file_list_mytype = []\n",
    "\n",
    "for r,d,f in os.walk(mydir) :    \n",
    "    dir_list_mytype.append(r)\n",
    "    sub_dir_list_mytype.append(d)\n",
    "    file_list_mytype.append(f)"
   ]
  },
  {
   "cell_type": "code",
   "execution_count": 12,
   "metadata": {},
   "outputs": [],
   "source": [
    "\n",
    "names  = pd.DataFrame()\n",
    "names['Φάκελοι'] = dir_list_mytype\n",
    "names['Names'] = names['Φάκελοι'].apply(lambda x: x [x.rfind(\"\\\\\") +1:])\n",
    "names['Φάκελοι'] =np.where(names['Φάκελοι'].str.contains(\"Υποθέσεις\", regex= True), names['Φάκελοι'], \"-\")\n",
    "names\n",
    "names.to_excel(\"names.xlsx\")\n",
    "os.startfile(\"names.xlsx\")"
   ]
  }
 ],
 "metadata": {
  "kernelspec": {
   "display_name": "Python 3.10.8 ('frame')",
   "language": "python",
   "name": "python3"
  },
  "language_info": {
   "codemirror_mode": {
    "name": "ipython",
    "version": 3
   },
   "file_extension": ".py",
   "mimetype": "text/x-python",
   "name": "python",
   "nbconvert_exporter": "python",
   "pygments_lexer": "ipython3",
   "version": "3.10.9"
  },
  "orig_nbformat": 4,
  "vscode": {
   "interpreter": {
    "hash": "7a46061b131d91aee9440cfcfc67501265c864dc4a87769083afe5c961eb8de2"
   }
  }
 },
 "nbformat": 4,
 "nbformat_minor": 2
}
