{
 "cells": [
  {
   "cell_type": "code",
   "execution_count": null,
   "metadata": {},
   "outputs": [],
   "source": [
    "import os\n",
    "import pandas as pd\n",
    "from Levenshtein import ratio"
   ]
  },
  {
   "cell_type": "code",
   "execution_count": null,
   "metadata": {},
   "outputs": [],
   "source": [
    "\n",
    "\n",
    "\n",
    "\n",
    "\n",
    "\n",
    "def scan_dir(mydir,mytype) :\n",
    "    dir_list_mytype = []\n",
    "    sub_dir_list_mytype = []\n",
    "    file_list_mytype = []\n",
    "\n",
    "    for r,d,f in os.walk(mydir) :    \n",
    "        dir_list_mytype.append(r)\n",
    "        sub_dir_list_mytype.append(d)\n",
    "        file_list_mytype.append(f)\n",
    "    print(sub_dir_list_mytype)\n",
    "\n",
    "\n",
    "scan_dir(r\"C:\\Users\\pallist\\Desktop\", 'folder')\n"
   ]
  },
  {
   "cell_type": "code",
   "execution_count": 2,
   "metadata": {},
   "outputs": [],
   "source": [
    "def find_ratio(list2, percent) :\n",
    "    for name in lista_antidikon :\n",
    "        for name_dir in list2 :\n",
    "            if ratio(lista_antidikon, name_dir) > percent :\n",
    "                print()"
   ]
  },
  {
   "cell_type": "code",
   "execution_count": null,
   "metadata": {},
   "outputs": [],
   "source": [
    "find_raat"
   ]
  }
 ],
 "metadata": {
  "kernelspec": {
   "display_name": "Python 3.10.8 ('frame')",
   "language": "python",
   "name": "python3"
  },
  "language_info": {
   "codemirror_mode": {
    "name": "ipython",
    "version": 3
   },
   "file_extension": ".py",
   "mimetype": "text/x-python",
   "name": "python",
   "nbconvert_exporter": "python",
   "pygments_lexer": "ipython3",
   "version": "3.10.8"
  },
  "orig_nbformat": 4,
  "vscode": {
   "interpreter": {
    "hash": "7a46061b131d91aee9440cfcfc67501265c864dc4a87769083afe5c961eb8de2"
   }
  }
 },
 "nbformat": 4,
 "nbformat_minor": 2
}
