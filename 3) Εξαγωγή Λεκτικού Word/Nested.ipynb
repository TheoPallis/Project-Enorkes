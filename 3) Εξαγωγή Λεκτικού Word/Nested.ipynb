{
 "cells": [
  {
   "cell_type": "code",
   "execution_count": null,
   "metadata": {},
   "outputs": [],
   "source": [
    "# Packages\n",
    "\n",
    "import os\n",
    "import glob\n",
    "import pandas as pd\n",
    "import numpy as np\n",
    "from docx import Document\n",
    "import re\n",
    "from tkinter import filedialog as fd\n",
    "from tkinter.filedialog import askdirectory as ad\n",
    "from datetime import datetime\n",
    "import openpyxl"
   ]
  },
  {
   "cell_type": "code",
   "execution_count": null,
   "metadata": {},
   "outputs": [],
   "source": [
    "# Sorting antidikous\n",
    "# anafora = pd.read_excel(os.path.join(r\"C:\\Users\\pallist\\Desktop\\ΤΡΕΧΟΝΤΑ\\Testing Folder\\Project Enorkes\\2) Clean Enorkes\", \"Ένορκες Νοεμβρίου.xlsx\"),sheet_name= \"Παλιές Μικροδιαφορές\")\n",
    "sorted_antidikoi_dict = {}\n",
    "lista_antidikon = anafora['Επωνυμία Αποδέκτη']\n",
    "lista_antidikon\n",
    "\n",
    "for i,antidikos in enumerate(lista_antidikon):\n",
    "    sorted_antidikoi_dict[antidikos] = i\n",
    "\n",
    "sorted_antidikoi_dict"
   ]
  },
  {
   "cell_type": "code",
   "execution_count": null,
   "metadata": {},
   "outputs": [],
   "source": [
    "# Define structures and variables\n",
    "# Save all word objects in a doc_list and save all paragraph objects in a file_paragraphs dict 15_30\n",
    "\n",
    "# test_folder =  r\"C:\\Users\\pallist\\Desktop\\ΤΡΕΧΟΝΤΑ\\Testing Folder\\Project Enorkes\\1) Extract Lektiko Enorkes\\Tests files\\Combined Folder\"\n",
    "test_folder = r\"C:\\Users\\Θοδωρής\\github\\Project-Enorkes\\3) Εξαγωγή Λεκτικού Word\\Word files\"\n",
    "# test_folder = ad()\n",
    "\n",
    "tstamp = datetime.now().strftime(\"%d/%m/%Y_%H:%M:%S\")\n",
    "stamp =  str(tstamp)\n",
    "\n",
    "# Define lists and dicts \n",
    "\n",
    "\n",
    "os.chdir(test_folder)\n",
    "files = glob.glob(\"*docx\")   \n",
    "paragraph_dict = {}\n",
    "string_dict = {}\n",
    "name_list = []\n",
    "date_list = []\n",
    "test_df = pd.DataFrame()\n",
    "\n",
    "# antid_1 = []\n",
    "# antid_2 = []\n",
    "# antid_3 = []\n",
    "reg_date  = \"[0-3][0-9]\\/[0-1]?[0-9]\\/[2][0][1-2][0-9]\"\n",
    "reg_name  = \"(?<=ΚΑΤΑ).*?(?=.Ι.{2}ΕΙΣΑΓΩΓΙΚΑ)\"\n",
    "pattern = ['Του','Της' ]\n",
    "regex = re.compile(r'\\b(' + '|'.join(pattern) + r')\\b')\n",
    "\n",
    "αντίδικος_dict = {}\n",
    "\n",
    "\n",
    "\n",
    "    \n"
   ]
  },
  {
   "cell_type": "code",
   "execution_count": 42,
   "metadata": {},
   "outputs": [
    {
     "data": {
      "text/plain": [
       "[dict_keys([])]"
      ]
     },
     "execution_count": 42,
     "metadata": {},
     "output_type": "execute_result"
    }
   ],
   "source": [
    "# Loop \n",
    "\n",
    "\n",
    "for index,file in enumerate(files) :\n",
    "    # print(index,file)\n",
    "    doc = Document(os.path.join(test_folder,file))                               # Get readable name of file    \n",
    "    paragraph_text_list = [p.text for p in list(doc.paragraphs)]               \n",
    "    s = ''.join(str(x) for x in  paragraph_text_list)                            # Create a dictionary (keys = files, values = paragraph string format)\n",
    "    string_dict[file] = s                  \n",
    "    date = re.findall(reg_date, string_dict[file])\n",
    "    name = re.findall(reg_name, string_dict[file])\n",
    "    s_name = str(name)\n",
    "    # print(s_name)\n",
    "    tou_index = [m.start() for m in re.finditer(regex,s_name)]\n",
    "    file_dict = {} ###😡 -> Make the file dict name dynamic based on the file name\n",
    "    total_dict = {}\n",
    "    \n",
    "    \n",
    "\n",
    "    if len(tou_index) == 3  and name != []:                                                \n",
    "                                                   \n",
    "        file_dict[f\"αντίδικος_1\"] = s_name[tou_index[0] :tou_index[1] -1]\n",
    "        file_dict[f\"αντίδικος_2\"] = s_name[tou_index[1]: tou_index[2] -1] # -1 = ΄\",\"\n",
    "        file_dict[f\"αντίδικος_3\"] = s_name[tou_index[2] : ]\n",
    "        \n",
    "        if date != [] :\n",
    "            file_dict[\"last_date\"]    = date[-1]     \n",
    "        else :\n",
    "             file_dict[\"last_date\"]    = \"-\"\n",
    "\n",
    "\n",
    "\n",
    "    elif len(tou_index) == 2  and  date != [] and name != []:\n",
    "\n",
    "        file_dict[f\"αντίδικος_1\"]  = s_name[tou_index[0] :tou_index[1] -1]\n",
    "        file_dict[f\"αντίδικος_2\"]  = s_name[tou_index[1] : ]\n",
    "        file_dict[f\"αντίδικος_3\"] = \"-\"\n",
    "        file_dict[\"last_date\"]    = date[-1]     \n",
    "        \n",
    "        if date != [] :\n",
    "            file_dict[\"last_date\"]    = date[-1]     \n",
    "        else :\n",
    "             file_dict[\"last_date\"]    = \"-\"\n",
    "\n",
    "    elif len(tou_index) == 1 and  date != [] and name != []:\n",
    "        file_dict[f\"αντίδικος_1\"]  = s_name[tou_index[0] :]\n",
    "        file_dict[f\"αντίδικος_2\"] = \"-\"\n",
    "        file_dict[f\"αντίδικος_3\"] = \"-\"\n",
    "        file_dict[\"last_date\"]    = date[-1]     \n",
    "        if date != [] :\n",
    "            file_dict[\"last_date\"]    = date[-1]     \n",
    "        else :\n",
    "             file_dict[\"last_date\"]    = \"-\"\n",
    "    \n",
    "    elif name == [] :d\n",
    "        \n",
    "        file_dict[f\"αντίδικος_1\"]  = \"-\"\n",
    "        file_dict[f\"αντίδικος_2\"] = \"-\"\n",
    "        file_dict[f\"αντίδικος_3\"] = \"-\"\n",
    "        file_dict[\"last_date\"]    = \"-\"\n",
    " \n",
    "    for k,v in file_dict.items() :\n",
    "        print (k,v)\n",
    "    #😡 total_dict[file] = file_dict\n",
    "    \n",
    "\n",
    "total_dict"
   ]
  },
  {
   "cell_type": "code",
   "execution_count": 40,
   "metadata": {},
   "outputs": [],
   "source": [
    "# test_df['Αντίδικος 1'] = name_list\n",
    "# test_df['Αντίδικος 2'] = antid_2\n",
    "# test_df['Αντίδικος 3'] = antid_3\n",
    "# test_df['Date'] = date_list\n",
    "# test_df.to_excel(os.path.join(r'\\\\lawoffice\\GSLODocuments\\LegalServices_Division\\01.Lawoffice_Common\\BUSINESS ANALYSTS\\ΕΝΟΡΚΕΣ ΤΕΣΤ',f\"'Ένορκες Τελικό .xlsx\"))\n"
   ]
  },
  {
   "cell_type": "code",
   "execution_count": null,
   "metadata": {},
   "outputs": [],
   "source": []
  }
 ],
 "metadata": {
  "kernelspec": {
   "display_name": "Python 3.10.6 ('extract_word_date')",
   "language": "python",
   "name": "python3"
  },
  "language_info": {
   "codemirror_mode": {
    "name": "ipython",
    "version": 3
   },
   "file_extension": ".py",
   "mimetype": "text/x-python",
   "name": "python",
   "nbconvert_exporter": "python",
   "pygments_lexer": "ipython3",
   "version": "3.10.6"
  },
  "orig_nbformat": 4,
  "vscode": {
   "interpreter": {
    "hash": "f73e2b62347a02a6caba1882eddfeb55fe48ff3efe29c70617ad05c7663e38be"
   }
  }
 },
 "nbformat": 4,
 "nbformat_minor": 2
}
