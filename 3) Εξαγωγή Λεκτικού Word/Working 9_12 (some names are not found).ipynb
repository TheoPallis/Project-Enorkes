{
 "cells": [
  {
   "cell_type": "code",
   "execution_count": 89,
   "metadata": {},
   "outputs": [],
   "source": [
    "# Packages\n",
    "from datetime import datetime\n",
    "import glob\n",
    "import numpy as np\n",
    "import os\n",
    "import pandas as pd\n",
    "import re\n",
    "from tkinter import filedialog as fd\n",
    "from tkinter.filedialog import askdirectory as ad\n",
    "import openpyxl"
   ]
  },
  {
   "cell_type": "code",
   "execution_count": 94,
   "metadata": {},
   "outputs": [],
   "source": [
    "# Define structures and variables\n",
    "\n",
    "# test_folder = ad()\n",
    "# test_folder =  r\"C:\\Users\\pallist\\Desktop\\ΤΡΕΧΟΝΤΑ\\Testing Folder\\Project Enorkes\\1) Extract Lektiko Enorkes\\Tests files\\Combined Folder\"\n",
    "test_folder = r\"C:\\Users\\Θοδωρής\\github\\enorkes\\Project-Enorkes\\3) Εξαγωγή Λεκτικού Word\\Word files\"\n",
    "os.chdir(test_folder)\n",
    "tstamp = datetime.now().strftime(\"%d/%m/%Y_%H:%M:%S\")\n",
    "stamp =  str(tstamp)\n",
    "files = glob.glob(\"*docx\")   \n",
    "\n",
    "paragraph_dict = {}\n",
    "string_dict = {}\n",
    "test_df = pd.DataFrame()\n",
    "\n",
    "name_list = []\n",
    "date_list = []\n",
    "antidikos_1 = []\n",
    "antidikos_2 = []\n",
    "antidikos_3 = []\n",
    "last_date = []\n",
    "nfound = []\n",
    "\n",
    "reg_date  = \"[0-3][0-9]\\/[0-1]?[0-9]\\/[2][0][1-2][0-9]\"\n",
    "reg_name  = \"(?<=ΚΑΤΑ).*?(?=.Ι.{2}ΕΙΣΑΓΩΓΙΚΑ)\"\n",
    "pattern = ['Του','Της' ]\n",
    "regex = re.compile(r'\\b(' + '|'.join(pattern) + r')\\b')\n",
    "    \n"
   ]
  },
  {
   "cell_type": "code",
   "execution_count": 95,
   "metadata": {},
   "outputs": [
    {
     "name": "stdout",
     "output_type": "stream",
     "text": [
      "0 ΑΓΩΓΗ_AHMAD_HALID_TZALILL.docx\n",
      "1 ΑΓΩΓΗ_AHMAD_NZAR.docx\n",
      "2 ΑΓΩΓΗ_AHMED_SALIM.docx\n",
      "3 ΑΓΩΓΗ_AKOSHILE_MATTHEW.docx\n",
      "4 ΑΓΩΓΗ_ASLANIKASHVILI_DAREJ.docx\n",
      "5 ΑΓΩΓΗ_ASSFAW_AMARE.docx\n",
      "6 ΑΓΩΓΗ_BAIASHVILI_DODO.docx\n",
      "7 ΑΓΩΓΗ_BARAKAT_AHMED.docx\n",
      "8 ΑΓΩΓΗ_MEMECI_KLODIAN_SPIRO.docx\n",
      "9 ΑΓΩΓΗ_MERKAJ_ASQERI_ΑΖΕΜ.docx\n",
      "10 ΑΓΩΓΗ_MOKHEVISHVILI_GIORGIOS.docx\n",
      "11 ΑΓΩΓΗ_POTOROACA_CONSTANTIN.docx\n"
     ]
    }
   ],
   "source": [
    "# Loop \n",
    "\n",
    "\n",
    "for index,file in enumerate(files) :\n",
    "    print(index,file)\n",
    "    doc = Document(os.path.join(test_folder,file))                               # Get readable name of file    \n",
    "    paragraph_text_list = [p.text for p in list(doc.paragraphs)]               \n",
    "    s = ''.join(str(x) for x in  paragraph_text_list)                            # Create a dictionary (keys = files, values = paragraph string format)\n",
    "    string_dict[file] = s                  \n",
    "    date = re.findall(reg_date, string_dict[file])\n",
    "    name = re.findall(reg_name, string_dict[file])\n",
    "    s_name = str(name)\n",
    "    # print(s_name)\n",
    "    tou_index = [m.start() for m in re.finditer(regex,s_name)]\n",
    "\n",
    "    if len(tou_index) == 3  and name != []:                                                \n",
    "                                                         \n",
    "        antidikos_1.append(s_name[tou_index[0] :tou_index[1] -1])\n",
    "        antidikos_2.append(s_name[tou_index[1]: tou_index[2] -1]) # -1 = ΄\",\"\n",
    "        antidikos_3.append(s_name[tou_index[2] : ])\n",
    "        \n",
    "        if date != [] :\n",
    "           last_date.append(date[-1])     \n",
    "        else :\n",
    "           last_date.append(\"-\")\n",
    "\n",
    "    elif len(tou_index) == 2  and  date != [] and name != []:\n",
    "\n",
    "        antidikos_1.append(s_name[tou_index[0] :tou_index[1] -1])\n",
    "        antidikos_2.append(s_name[tou_index[1] : ])\n",
    "        antidikos_3.append(\"-\")\n",
    "        \n",
    "        if date != [] :\n",
    "           last_date.append(date[-1])     \n",
    "        else :\n",
    "           last_date.append(\"-\")\n",
    "\n",
    "    elif len(tou_index) == 1 and  date != [] and name != []:\n",
    "        antidikos_1.append(s_name[tou_index[0] :])\n",
    "        antidikos_2.append(\"-\")\n",
    "        antidikos_3.append(\"-\")\n",
    "        \n",
    "        if date != [] :\n",
    "           last_date.append(date[-1])     \n",
    "        else :\n",
    "           last_date.append(\"-\")\n",
    "\n",
    "    \n",
    "    elif name == [] :\n",
    "        \n",
    "        antidikos_1.append(\"-\")\n",
    "        antidikos_2.append(\"-\")\n",
    "        antidikos_3.append(\"-\")\n",
    "        last_date.append(\"-\")\n",
    "        nfound.append(file)"
   ]
  },
  {
   "cell_type": "code",
   "execution_count": 96,
   "metadata": {},
   "outputs": [
    {
     "data": {
      "text/html": [
       "<div>\n",
       "<style scoped>\n",
       "    .dataframe tbody tr th:only-of-type {\n",
       "        vertical-align: middle;\n",
       "    }\n",
       "\n",
       "    .dataframe tbody tr th {\n",
       "        vertical-align: top;\n",
       "    }\n",
       "\n",
       "    .dataframe thead th {\n",
       "        text-align: right;\n",
       "    }\n",
       "</style>\n",
       "<table border=\"1\" class=\"dataframe\">\n",
       "  <thead>\n",
       "    <tr style=\"text-align: right;\">\n",
       "      <th></th>\n",
       "      <th>Αντίδικος 1</th>\n",
       "      <th>Αντίδικος 2</th>\n",
       "      <th>Αντίδικος 3</th>\n",
       "      <th>Date</th>\n",
       "    </tr>\n",
       "  </thead>\n",
       "  <tbody>\n",
       "  </tbody>\n",
       "</table>\n",
       "</div>"
      ],
      "text/plain": [
       "Empty DataFrame\n",
       "Columns: [Αντίδικος 1, Αντίδικος 2, Αντίδικος 3, Date]\n",
       "Index: []"
      ]
     },
     "execution_count": 96,
     "metadata": {},
     "output_type": "execute_result"
    }
   ],
   "source": [
    "\n",
    "test_df['Αντίδικος 1'] = antidikos_1\n",
    "test_df['Αντίδικος 2'] = antidikos_2\n",
    "test_df['Αντίδικος 3'] = antidikos_3\n",
    "test_df['Date'] = last_date\n",
    "test_df\n",
    "# # test_df.to_excel(os.path.join(r'\\\\lawoffice\\GSLODocuments\\LegalServices_Division\\01.Lawoffice_Common\\BUSINESS ANALYSTS\\ΕΝΟΡΚΕΣ ΤΕΣΤ',f\"'Ένορκες Τελικό .xlsx\"))\n"
   ]
  },
  {
   "cell_type": "code",
   "execution_count": 93,
   "metadata": {},
   "outputs": [],
   "source": [
    "# Sorting antidikous\n",
    "# anafora = pd.read_excel(os.path.join(r\"C:\\Users\\pallist\\Desktop\\ΤΡΕΧΟΝΤΑ\\Testing Folder\\Project Enorkes\\2) Clean Enorkes\", \"Ένορκες Νοεμβρίου.xlsx\"),sheet_name= \"Παλιές Μικροδιαφορές\")\n",
    "# sorted_antidikoi_dict = {}\n",
    "# lista_antidikon = anafora['Επωνυμία Αποδέκτη']\n",
    "# lista_antidikon\n",
    "\n",
    "# for i,antidikos in enumerate(lista_antidikon):\n",
    "#     sorted_antidikoi_dict[antidikos] = i\n",
    "\n",
    "# sorted_antidikoi_dict"
   ]
  }
 ],
 "metadata": {
  "kernelspec": {
   "display_name": "Python 3.10.6 ('extract_word_date')",
   "language": "python",
   "name": "python3"
  },
  "language_info": {
   "codemirror_mode": {
    "name": "ipython",
    "version": 3
   },
   "file_extension": ".py",
   "mimetype": "text/x-python",
   "name": "python",
   "nbconvert_exporter": "python",
   "pygments_lexer": "ipython3",
   "version": "3.10.6"
  },
  "orig_nbformat": 4,
  "vscode": {
   "interpreter": {
    "hash": "f73e2b62347a02a6caba1882eddfeb55fe48ff3efe29c70617ad05c7663e38be"
   }
  }
 },
 "nbformat": 4,
 "nbformat_minor": 2
}
