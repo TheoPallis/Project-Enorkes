{
 "cells": [
  {
   "cell_type": "code",
   "execution_count": null,
   "metadata": {
    "vscode": {
     "languageId": "latex"
    }
   },
   "outputs": [],
   "source": [
    "Scope :\n",
    "\n",
    "Create a dict with the text of every person as values and the number of persons as key\n",
    "\n",
    "Steps :\n",
    "\n",
    "1) Specify the substrings to search -> 'Του,Της'\n",
    "2) Format them to a regex expression,that searches for both strings (using re.compile + join) in the main text\n",
    "3) Create a list comprehension containing the indexes of the above substrings \n",
    "4) Slice the parts of the text according to the number of persons (Get only the results of the last iteration -> if i == len(tou_index))\n",
    "5) Append the parts of the text as values to the created (αντίδικος_dict) dictionary\n",
    "6) Convert dictionary to dataframe and transpose it\n",
    "❗7) Fill i if antidikoi = 2|1 in the antidikoi 2,3|3 columns"
   ]
  },
  {
   "cell_type": "code",
   "execution_count": 166,
   "metadata": {},
   "outputs": [
    {
     "name": "stdout",
     "output_type": "stream",
     "text": [
      "2\n"
     ]
    },
    {
     "data": {
      "text/html": [
       "<div>\n",
       "<style scoped>\n",
       "    .dataframe tbody tr th:only-of-type {\n",
       "        vertical-align: middle;\n",
       "    }\n",
       "\n",
       "    .dataframe tbody tr th {\n",
       "        vertical-align: top;\n",
       "    }\n",
       "\n",
       "    .dataframe thead th {\n",
       "        text-align: right;\n",
       "    }\n",
       "</style>\n",
       "<table border=\"1\" class=\"dataframe\">\n",
       "  <thead>\n",
       "    <tr style=\"text-align: right;\">\n",
       "      <th></th>\n",
       "      <th>αντίδικος_1</th>\n",
       "      <th>αντίδικος_2</th>\n",
       "      <th>αντίδικος_3</th>\n",
       "    </tr>\n",
       "  </thead>\n",
       "  <tbody>\n",
       "    <tr>\n",
       "      <th>0</th>\n",
       "      <td>Του όνομα 1 επώνυμο 1,</td>\n",
       "      <td>Της όνομα 2 επώνυμο 2</td>\n",
       "      <td>Του όνομα 3 επώνυμο3</td>\n",
       "    </tr>\n",
       "  </tbody>\n",
       "</table>\n",
       "</div>"
      ],
      "text/plain": [
       "              αντίδικος_1            αντίδικος_2           αντίδικος_3\n",
       "0  Του όνομα 1 επώνυμο 1,  Της όνομα 2 επώνυμο 2  Του όνομα 3 επώνυμο3"
      ]
     },
     "execution_count": 166,
     "metadata": {},
     "output_type": "execute_result"
    }
   ],
   "source": [
    "# Get the names based on the indexes\n",
    "\n",
    "mystring = r\"Του όνομα 1 επώνυμο 1, Της όνομα 2 επώνυμο 2,Του όνομα 3 επώνυμο3\"\n",
    "\n",
    "pattern = ['Του','Της' ]\n",
    "regex = re.compile(r'\\b(' + '|'.join(pattern) + r')\\b')\n",
    "tou_index = [m.start() for m in re.finditer(regex,mystring)]\n",
    "αντίδικος_dict = {}\n",
    "\n",
    "for i in range(len(tou_index)) :\n",
    "    if len(tou_index) == 3 and  i ==  len(tou_index) -1 :\n",
    "        αντίδικος_dict[f\"αντίδικος_{i-1}\"] = mystring[tou_index[0] :tou_index[1] -1]\n",
    "        αντίδικος_dict[f\"αντίδικος_{i}\"] =   mystring[tou_index[1]: tou_index[2] -1] # -1 = ΄\",\"\n",
    "        αντίδικος_dict[f\"αντίδικος_{i + 1}\"] = mystring[tou_index[2] : ]\n",
    "        print(i)\n",
    "\n",
    "    elif len(tou_index) == 2 and i == len(tou_index) -1 :\n",
    "        αντίδικος_dict[f\"αντίδικος_{i + 1}\"]  = mystring[tou_index[0] :tou_index[1] -1]\n",
    "        αντίδικος_dict[f\"αντίδικος_{i + 1}\"]  = mystring[tou_index[1] : ]\n",
    "\n",
    "    else :\n",
    "        αντίδικος_dict[f\"αντίδικος_{i + 1}\"]  = mystring[tou_index[0] :]\n",
    "  \n",
    "antid_df = pd.DataFrame.from_dict(αντίδικος_dict,orient='index').T\n",
    "antid_df"
   ]
  },
  {
   "cell_type": "code",
   "execution_count": null,
   "metadata": {},
   "outputs": [],
   "source": []
  }
 ],
 "metadata": {
  "kernelspec": {
   "display_name": "Python 3.10.6 ('extract_word_date')",
   "language": "python",
   "name": "python3"
  },
  "language_info": {
   "codemirror_mode": {
    "name": "ipython",
    "version": 3
   },
   "file_extension": ".py",
   "mimetype": "text/x-python",
   "name": "python",
   "nbconvert_exporter": "python",
   "pygments_lexer": "ipython3",
   "version": "3.10.6"
  },
  "orig_nbformat": 4,
  "vscode": {
   "interpreter": {
    "hash": "f73e2b62347a02a6caba1882eddfeb55fe48ff3efe29c70617ad05c7663e38be"
   }
  }
 },
 "nbformat": 4,
 "nbformat_minor": 2
}
