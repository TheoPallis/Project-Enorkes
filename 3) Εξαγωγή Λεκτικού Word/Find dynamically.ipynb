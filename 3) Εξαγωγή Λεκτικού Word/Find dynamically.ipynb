{
 "cells": [
  {
   "cell_type": "markdown",
   "metadata": {},
   "source": [
    "Steps :\n",
    "\n",
    "1) Create a list with all the indexes of substring 'Του'\n",
    "2) First name = first index : second index -2\n",
    "3) Second name = second index : end\n",
    "\n"
   ]
  },
  {
   "cell_type": "code",
   "execution_count": 135,
   "metadata": {},
   "outputs": [
    {
     "data": {
      "text/plain": [
       "{'text_1': 'Του όνομα1 επώνυμο1', 'text_2': 'Της τάδε όνομα2 επώνυμο2'}"
      ]
     },
     "execution_count": 135,
     "metadata": {},
     "output_type": "execute_result"
    }
   ],
   "source": [
    "mystring = \"1) Του όνομα1 επώνυμο1) Της τάδε όνομα2 επώνυμο2\"\n",
    "\n",
    "tou_index = [mystring.find(x) for x in (\"Του\", \"Της\")]\n",
    "\n",
    "if len(tou_index) == 3 :\n",
    "    text2 = mystring[tou_index[1]: tou_index[2] -2]\n",
    "    text3 = mystring[tou_index[1]: -1] \n",
    "else :\n",
    "    text1 = mystring[tou_index[0] : tou_index[1] -2]\n",
    "    text2 =  mystring[tou_index[1]: -1]\n",
    " \n",
    "text1\n",
    "\n",
    "\n",
    "\n",
    "target_text_dict = {}\n",
    "\n",
    "# For 2 antidikous\n",
    "\n",
    "for i in range(2) :\n",
    "   if i >= 1 :\n",
    "    target_text_dict[f\"text_{i + 1}\"] = mystring[tou_index[i]:]\n",
    "   else :\n",
    "    target_text_dict[f\"text_{i + 1}\"] = mystring[tou_index[i] : tou_index[i+1] -2]\n",
    "   \n",
    "target_text_dict\n",
    "\n",
    "# Dynamic way -> for i in range(len(tou_index)) :\n",
    "# if i >=  range(len(tou_index)) :\n"
   ]
  },
  {
   "cell_type": "code",
   "execution_count": 111,
   "metadata": {},
   "outputs": [],
   "source": [
    "\n",
    "# Manual Solution        \n",
    "# start1 = splitted.find(x) for x in (\"Του\", \"Της\")][0] -> Get first occurence of \"Του, της\"\n",
    "# end1 = start1 + 2\n",
    "# start2 = splitted.find(x) for x in (\"Του\", \"Της\")][1]-> Get second occurence of \"Του, της\"\n",
    "# end2 = start2 + 2\n",
    "# start3 = splitted.find(x) for x in (\"Του\", \"Της\")][2] -> Get third occurence of \"Του, της\"\n",
    "# end3 = start3 + 2\n",
    "\n",
    "# 2nd way to get end of phrase)  end_num =   splitted.find(x) for x in (\"Του\", \"Της\")[i+1] -2\n",
    "\n",
    "# Previous Steps :\n",
    "\n",
    "#         1) Find position of first 'Του'= start1 and save it to a key in a dict\n",
    "\n",
    "#         2) Find position of second 'Του'= start2 and save it to a key in a a dict\n",
    "\n",
    "#         3) Target text  = mytext[start1:start2]\n"
   ]
  },
  {
   "cell_type": "code",
   "execution_count": null,
   "metadata": {},
   "outputs": [],
   "source": []
  }
 ],
 "metadata": {
  "kernelspec": {
   "display_name": "Python 3.10.6 ('extract_word_date')",
   "language": "python",
   "name": "python3"
  },
  "language_info": {
   "codemirror_mode": {
    "name": "ipython",
    "version": 3
   },
   "file_extension": ".py",
   "mimetype": "text/x-python",
   "name": "python",
   "nbconvert_exporter": "python",
   "pygments_lexer": "ipython3",
   "version": "3.10.6"
  },
  "orig_nbformat": 4,
  "vscode": {
   "interpreter": {
    "hash": "f73e2b62347a02a6caba1882eddfeb55fe48ff3efe29c70617ad05c7663e38be"
   }
  }
 },
 "nbformat": 4,
 "nbformat_minor": 2
}
