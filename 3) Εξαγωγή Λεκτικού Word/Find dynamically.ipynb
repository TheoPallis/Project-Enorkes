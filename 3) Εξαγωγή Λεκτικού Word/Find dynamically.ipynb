{
 "cells": [
  {
   "cell_type": "code",
   "execution_count": null,
   "metadata": {},
   "outputs": [],
   "source": [
    "mystring = \"Του Πάλλη Θεόωδωρου μπλα μπλα δείνα\"\n",
    "splitted = re.split(r\"(Του)|(Της)\",mystring)\n",
    "\n",
    "start_num = {}\n",
    "\n",
    "for i in range(2) :\n",
    "    start_num[f\"start_{i}\"] = splitted.find(x) for x in (\"Του\", \"Της\")[i] \n",
    "    end_num[f\"end_{i}\"] = start_num + 2 \n",
    "\n",
    "    \n",
    "\n",
    "for k,v in start_num :\n",
    "    name1 = splitted[v] + splitted[v+2]\n",
    "    name2 = splitted[v + 3] + splitted[v+5]\n",
    "    name3 = splitted[v + 5] + splitted[v+7]\n",
    "    name_list.append(name1)\n",
    "    antid_2.append(name2)\n",
    "    antid_3.append(name3)\n",
    "    date_list.append(last_date)"
   ]
  },
  {
   "cell_type": "code",
   "execution_count": null,
   "metadata": {},
   "outputs": [],
   "source": [
    "\n",
    "# Manual Solution        \n",
    "# start1 = splitted.find(x) for x in (\"Του\", \"Της\")][0] -> Get first occurence of \"Του, της\"\n",
    "# end1 = start1 + 2\n",
    "# start2 = splitted.find(x) for x in (\"Του\", \"Της\")][1]-> Get second occurence of \"Του, της\"\n",
    "# end2 = start2 + 2\n",
    "# start3 = splitted.find(x) for x in (\"Του\", \"Της\")][2] -> Get third occurence of \"Του, της\"\n",
    "# end3 = start3 + 2\n",
    "\n",
    "# 2nd way to get end of phrase)  end_num =   splitted.find(x) for x in (\"Του\", \"Της\")[i+1] -2"
   ]
  }
 ],
 "metadata": {
  "kernelspec": {
   "display_name": "Python 3.10.6 ('extract_word_date')",
   "language": "python",
   "name": "python3"
  },
  "language_info": {
   "name": "python",
   "version": "3.10.6"
  },
  "orig_nbformat": 4,
  "vscode": {
   "interpreter": {
    "hash": "f73e2b62347a02a6caba1882eddfeb55fe48ff3efe29c70617ad05c7663e38be"
   }
  }
 },
 "nbformat": 4,
 "nbformat_minor": 2
}
