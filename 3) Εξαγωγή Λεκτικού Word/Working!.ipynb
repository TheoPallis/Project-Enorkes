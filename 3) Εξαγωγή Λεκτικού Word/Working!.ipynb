{
 "cells": [
  {
   "cell_type": "code",
   "execution_count": 1,
   "metadata": {},
   "outputs": [],
   "source": [
    "# Packages\n",
    "from docx import Document\n",
    "from datetime import datetime\n",
    "import glob\n",
    "import numpy as np\n",
    "import os\n",
    "import pandas as pd\n",
    "import re\n",
    "from tkinter import filedialog as fd\n",
    "from tkinter.filedialog import askdirectory as ad\n",
    "import openpyxl"
   ]
  },
  {
   "cell_type": "code",
   "execution_count": 8,
   "metadata": {},
   "outputs": [
    {
     "data": {
      "text/plain": [
       "[]"
      ]
     },
     "execution_count": 8,
     "metadata": {},
     "output_type": "execute_result"
    }
   ],
   "source": [
    "# Define structures and variables\n",
    "\n",
    "# test_folder = ad()\n",
    "# test_folder =  r\"C:\\Users\\pallist\\Desktop\\ΤΡΕΧΟΝΤΑ\\Testing Folder\\Project Enorkes\\1) Extract Lektiko Enorkes\\Tests files\\Combined Folder\"\n",
    "test_folder =  ad(title=\"¨Παρακαλώ επιλέξτε τον φάκελο των word\")\n",
    "tstamp = datetime.now().strftime(\"%d/%m/%Y_%H:%M:%S\")\n",
    "stamp =  str(tstamp)\n",
    "files = glob.glob(\"*.docx\")   \n",
    "\n",
    "paragraph_dict = {}\n",
    "string_dict = {}\n",
    "test_df = pd.DataFrame()\n",
    "\n",
    "name_list = []\n",
    "date_list = []\n",
    "antidikos_1 = []\n",
    "antidikos_2 = []\n",
    "antidikos_3 = []\n",
    "last_date = []\n",
    "nfound = []\n",
    "\n",
    "\n",
    "reg_date  = \"[0-3][0-9]\\/[0-1]?[0-9]\\/[2][0][1-2][0-9]\"\n",
    "reg_name  = \"(?<=ΚΑΤΑ).*?(?=.Ι.{2}ΕΙΣΑΓΩΓΙΚΑ)\"\n",
    "pattern = ['Του','Της','Τoυ' ]\n",
    "regex = re.compile(r'\\b(' + '|'.join(pattern) + r')\\b')\n",
    "    \n",
    "files"
   ]
  },
  {
   "cell_type": "code",
   "execution_count": 3,
   "metadata": {},
   "outputs": [],
   "source": [
    "# Loop \n",
    "\n",
    "\n",
    "for index,file in enumerate(files) :\n",
    "    doc = Document(os.path.join(test_folder,file))                               # Get readable name of file    \n",
    "    paragraph_text_list = [p.text for p in list(doc.paragraphs)]               \n",
    "    s = ''.join(str(x) for x in  paragraph_text_list)                            # Create a dictionary (keys = files, values = paragraph string format)\n",
    "    string_dict[file] = s                  \n",
    "    date = re.findall(reg_date, string_dict[file])\n",
    "    name = re.findall(reg_name, string_dict[file])\n",
    "    s_name = str(name)\n",
    "    # print(s_name)\n",
    "    tou_index = [m.start() for m in re.finditer(regex,s_name)]\n",
    "\n",
    "    if len(tou_index) == 3  and name != []:                                                \n",
    "                                                         \n",
    "        antidikos_1.append(s_name[tou_index[0] :tou_index[1] -1])\n",
    "        antidikos_2.append(s_name[tou_index[1]: tou_index[2] -1]) # -1 = ΄\",\"\n",
    "        antidikos_3.append(s_name[tou_index[2] : ])\n",
    "        \n",
    "        if date != [] :\n",
    "           last_date.append(date[-1])     \n",
    "        else :\n",
    "           last_date.append(\"-\")\n",
    "\n",
    "    elif len(tou_index) == 2  and  date != [] and name != []:\n",
    "\n",
    "        antidikos_1.append(s_name[tou_index[0] :tou_index[1] -1])\n",
    "        antidikos_2.append(s_name[tou_index[1] : ])\n",
    "        antidikos_3.append(\"-\")\n",
    "        \n",
    "        if date != [] :\n",
    "           last_date.append(date[-1])     \n",
    "        else :\n",
    "           last_date.append(\"-\")\n",
    "\n",
    "    elif len(tou_index) == 1 and  date != [] and name != []:\n",
    "        antidikos_1.append(s_name[tou_index[0] :])\n",
    "        antidikos_2.append(\"-\")\n",
    "        antidikos_3.append(\"-\")\n",
    "        \n",
    "        if date != [] :\n",
    "           last_date.append(date[-1])     \n",
    "        else :\n",
    "           last_date.append(\"-\")\n",
    "\n",
    "    \n",
    "    elif name == [] :\n",
    "        \n",
    "        antidikos_1.append(\"-\")\n",
    "        antidikos_2.append(\"-\")\n",
    "        antidikos_3.append(\"-\")\n",
    "        last_date.append(\"-\")\n",
    "\n",
    "        \n",
    "    \n",
    "    else :\n",
    "        \n",
    "        antidikos_1.append(\"-\")\n",
    "        antidikos_2.append(\"-\")\n",
    "        antidikos_3.append(\"-\")\n",
    "        last_date.append(\"-\")"
   ]
  },
  {
   "cell_type": "code",
   "execution_count": 4,
   "metadata": {},
   "outputs": [],
   "source": [
    "\n",
    "test_df['File'] = files\n",
    "test_df['Αντίδικος 1'] = antidikos_1\n",
    "test_df['Αντίδικος 2'] = antidikos_2\n",
    "test_df['Αντίδικος 3'] = antidikos_3\n",
    "test_df['Date'] = last_date\n",
    "test_df\n",
    "res_dir = ad(title = \"Παρακαλώ επιλέξτε τον φάκελο που θα εξαχθεί το τελικό excel με τα στοιχεία των αντιδίκων\")\n",
    "test_df.to_excel(os.path.join(res_dir,f\"'Ένορκες Τελικό.xlsx\"))\n"
   ]
  },
  {
   "cell_type": "code",
   "execution_count": 5,
   "metadata": {},
   "outputs": [],
   "source": [
    "# Sorting antidikous\n",
    "# anafora = pd.read_excel(os.path.join(r\"C:\\Users\\pallist\\Desktop\\ΤΡΕΧΟΝΤΑ\\Testing Folder\\Project Enorkes\\2) Clean Enorkes\", \"Ένορκες Νοεμβρίου.xlsx\"),sheet_name= \"Παλιές Μικροδιαφορές\")\n",
    "# sorted_antidikoi_dict = {}\n",
    "# lista_antidikon = anafora['Επωνυμία Αποδέκτη']\n",
    "# lista_antidikon\n",
    "\n",
    "# for i,antidikos in enumerate(lista_antidikon):\n",
    "#     sorted_antidikoi_dict[antidikos] = i\n",
    "\n",
    "# sorted_antidikoi_dict"
   ]
  },
  {
   "cell_type": "code",
   "execution_count": null,
   "metadata": {},
   "outputs": [],
   "source": []
  }
 ],
 "metadata": {
  "kernelspec": {
   "display_name": "Python 3.10.9 ('frame')",
   "language": "python",
   "name": "python3"
  },
  "language_info": {
   "codemirror_mode": {
    "name": "ipython",
    "version": 3
   },
   "file_extension": ".py",
   "mimetype": "text/x-python",
   "name": "python",
   "nbconvert_exporter": "python",
   "pygments_lexer": "ipython3",
   "version": "3.10.9 (tags/v3.10.9:1dd9be6, Dec  6 2022, 20:01:21) [MSC v.1934 64 bit (AMD64)]"
  },
  "orig_nbformat": 4,
  "vscode": {
   "interpreter": {
    "hash": "7a46061b131d91aee9440cfcfc67501265c864dc4a87769083afe5c961eb8de2"
   }
  }
 },
 "nbformat": 4,
 "nbformat_minor": 2
}
