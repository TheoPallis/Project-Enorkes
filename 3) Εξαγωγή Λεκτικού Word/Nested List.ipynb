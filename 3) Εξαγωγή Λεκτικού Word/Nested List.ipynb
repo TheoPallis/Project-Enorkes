{
 "cells": [
  {
   "cell_type": "markdown",
   "metadata": {},
   "source": [
    "Scope:\n",
    "\n",
    "Create a dict with the text of every person as values and the number of persons as key -> myfile_dict\n",
    "Nest every myfile_dict as values in a total_dict\n",
    "\n",
    "Steps:\n",
    "\n",
    "1) Specify the substrings to search -> 'Του,Της'\n",
    "2) Format them to a regex expression, that searches for both strings(using re.compile + join) in the main text\n",
    "3) Create a list comprehension containing the indexes of the above substrings\n",
    "4) Slice the parts of the text according to the number of persons(Get only the results of the last iteration -> if i == len(tou_index))\n",
    "5) Append the parts of the text as values to the created(αντίδικος_dict) dictionary\n",
    "6) Convert dictionary to dataframe and transpose it\n",
    "7) Fill i if antidikoi=2 | 1 in the antidikoi 2, 3 | 3 columns\n"
   ]
  },
  {
   "cell_type": "code",
   "execution_count": null,
   "metadata": {},
   "outputs": [],
   "source": [
    "# Packages\n",
    "\n",
    "import os\n",
    "import glob\n",
    "import pandas as pd\n",
    "import numpy as np\n",
    "from docx import Document\n",
    "import re\n",
    "from tkinter import filedialog as fd\n",
    "from tkinter.filedialog import askdirectory as ad\n",
    "from datetime import datetime\n",
    "import openpyxl"
   ]
  },
  {
   "cell_type": "code",
   "execution_count": null,
   "metadata": {},
   "outputs": [],
   "source": [
    "# Sorting antidikous\n",
    "# anafora = pd.read_excel(os.path.join(r\"C:\\Users\\pallist\\Desktop\\ΤΡΕΧΟΝΤΑ\\Testing Folder\\Project Enorkes\\2) Clean Enorkes\", \"Ένορκες Νοεμβρίου.xlsx\"),sheet_name= \"Παλιές Μικροδιαφορές\")\n",
    "# sorted_antidikoi_dict = {}\n",
    "# lista_antidikon = anafora['Επωνυμία Αποδέκτη']\n",
    "# lista_antidikon\n",
    "\n",
    "# for i,antidikos in enumerate(lista_antidikon):\n",
    "#     sorted_antidikoi_dict[antidikos] = i\n",
    "\n",
    "# sorted_antidikoi_dict"
   ]
  },
  {
   "cell_type": "code",
   "execution_count": null,
   "metadata": {},
   "outputs": [],
   "source": [
    "# Define structures and variables\n",
    "# Save all word objects in a doc_list and save all paragraph objects in a file_paragraphs dict 15_30\n",
    "\n",
    "# test_folder =  r\"C:\\Users\\pallist\\Desktop\\ΤΡΕΧΟΝΤΑ\\Testing Folder\\Project Enorkes\\1) Extract Lektiko Enorkes\\Tests files\\Combined Folder\"\n",
    "test_folder = r\"C:\\Users\\Θοδωρής\\github\\Project-Enorkes\\3) Εξαγωγή Λεκτικού Word\\Word files\"\n",
    "# test_folder = ad()\n",
    "\n",
    "tstamp = datetime.now().strftime(\"%d/%m/%Y_%H:%M:%S\")\n",
    "stamp =  str(tstamp)\n",
    "\n",
    "# Define lists and dicts \n",
    "\n",
    "\n",
    "os.chdir(test_folder)\n",
    "files = glob.glob(\"*docx\")   \n",
    "paragraph_dict = {}\n",
    "string_dict = {}\n",
    "name_list = []\n",
    "date_list = []\n",
    "test_df = pd.DataFrame()\n",
    "\n",
    "# antid_1 = []\n",
    "# antid_2 = []\n",
    "# antid_3 = []\n",
    "reg_date  = \"[0-3][0-9]\\/[0-1]?[0-9]\\/[2][0][1-2][0-9]\"\n",
    "reg_name  = \"(?<=ΚΑΤΑ).*?(?=.Ι.{2}ΕΙΣΑΓΩΓΙΚΑ)\"\n",
    "pattern = ['Του','Της' ]\n",
    "regex = re.compile(r'\\b(' + '|'.join(pattern) + r')\\b')\n",
    "\n",
    "αντίδικος_dict = {}\n",
    "\n",
    "\n",
    "\n",
    "    \n"
   ]
  },
  {
   "cell_type": "code",
   "execution_count": 40,
   "metadata": {},
   "outputs": [],
   "source": [
    "# Loop \n",
    "\n",
    "\n",
    "for index,file in enumerate(files) :\n",
    "    # print(index,file)\n",
    "    doc = Document(os.path.join(test_folder,file))                               # Get readable name of file    \n",
    "    paragraph_text_list = [p.text for p in list(doc.paragraphs)]               \n",
    "    s = ''.join(str(x) for x in  paragraph_text_list)                            # Create a dictionary (keys = files, values = paragraph string format)\n",
    "    string_dict[file] = s                  \n",
    "    date = re.findall(reg_date, string_dict[file])\n",
    "    name = re.findall(reg_name, string_dict[file])\n",
    "    s_name = str(name)\n",
    "    # print(s_name)\n",
    "    tou_index = [m.start() for m in re.finditer(regex,s_name)]\n",
    "    antidikos_1 = []\n",
    "    antidikos_2 = []\n",
    "    antidikos_3 = []\n",
    "    last_date = []\n",
    "    \n",
    "\n",
    "    if len(tou_index) == 3  and name != []:                                                \n",
    "                                                         \n",
    "        antidikos_1.append(s_name[tou_index[0] :tou_index[1] -1])\n",
    "        antidikos_2.append(s_name[tou_index[1]: tou_index[2] -1]) # -1 = ΄\",\"\n",
    "        antidikos_3.append(s_name[tou_index[2] : ])\n",
    "        \n",
    "        if date != [] :\n",
    "           last_date.append(date[-1])     \n",
    "        else :\n",
    "           last_date.append(\"-\")\n",
    "\n",
    "    elif len(tou_index) == 2  and  date != [] and name != []:\n",
    "\n",
    "        antidikos_1.append(s_name[tou_index[0] :tou_index[1] -1])\n",
    "        antidikos_2.append(s_name[tou_index[1] : ])\n",
    "        antidikos_3.append(\"-\")\n",
    "        \n",
    "        if date != [] :\n",
    "           last_date.append(date[-1])     \n",
    "        else :\n",
    "           last_date.append(\"-\")\n",
    "\n",
    "    elif len(tou_index) == 1 and  date != [] and name != []:\n",
    "        antidikos_1.append(s_name[tou_index[0] :])\n",
    "        antidikos_2.append(\"-\")\n",
    "        antidikos_3.append(\"-\")\n",
    "        \n",
    "        if date != [] :\n",
    "           last_date.append(date[-1])     \n",
    "        else :\n",
    "           last_date.append(\"-\")\n",
    "\n",
    "    \n",
    "    elif name == [] :\n",
    "        \n",
    "        antidikos_1.append(\"-\")\n",
    "        antidikos_2.append(\"-\")\n",
    "        antidikos_3.append(\"-\")\n",
    "        last_date.append(\"-\")\n",
    "\n",
    "    \n",
    "\n"
   ]
  },
  {
   "cell_type": "code",
   "execution_count": 41,
   "metadata": {},
   "outputs": [
    {
     "data": {
      "text/plain": [
       "[]"
      ]
     },
     "execution_count": 41,
     "metadata": {},
     "output_type": "execute_result"
    }
   ],
   "source": [
    "antidikos_1\n",
    "# test_df['Αντίδικος 1'] = antidikos_1\n",
    "# test_df['Αντίδικος 2'] = antidikos_2\n",
    "# test_df['Αντίδικος 3'] = antidikos_3\n",
    "# test_df['Date'] = last_date\n",
    "# test_df\n",
    "# # test_df.to_excel(os.path.join(r'\\\\lawoffice\\GSLODocuments\\LegalServices_Division\\01.Lawoffice_Common\\BUSINESS ANALYSTS\\ΕΝΟΡΚΕΣ ΤΕΣΤ',f\"'Ένορκες Τελικό .xlsx\"))\n"
   ]
  },
  {
   "cell_type": "code",
   "execution_count": null,
   "metadata": {},
   "outputs": [],
   "source": []
  },
  {
   "cell_type": "code",
   "execution_count": null,
   "metadata": {},
   "outputs": [],
   "source": []
  },
  {
   "cell_type": "code",
   "execution_count": null,
   "metadata": {},
   "outputs": [],
   "source": []
  }
 ],
 "metadata": {
  "kernelspec": {
   "display_name": "Python 3.10.6 ('extract_word_date')",
   "language": "python",
   "name": "python3"
  },
  "language_info": {
   "codemirror_mode": {
    "name": "ipython",
    "version": 3
   },
   "file_extension": ".py",
   "mimetype": "text/x-python",
   "name": "python",
   "nbconvert_exporter": "python",
   "pygments_lexer": "ipython3",
   "version": "3.10.6"
  },
  "orig_nbformat": 4,
  "vscode": {
   "interpreter": {
    "hash": "f73e2b62347a02a6caba1882eddfeb55fe48ff3efe29c70617ad05c7663e38be"
   }
  }
 },
 "nbformat": 4,
 "nbformat_minor": 2
}
