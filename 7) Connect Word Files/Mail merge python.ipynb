{
 "cells": [
  {
   "cell_type": "code",
   "execution_count": 1,
   "metadata": {},
   "outputs": [],
   "source": [
    "import win32com.client as win32\n",
    "import os\n",
    "import glob"
   ]
  },
  {
   "cell_type": "code",
   "execution_count": 2,
   "metadata": {},
   "outputs": [],
   "source": [
    "word_folder = r\"C:\\Users\\pallist\\Desktop\\ΤΡΕΧΟΝΤΑ\\Testing Folder\\Project Enorkes\\Connect word files Enorkes\\Test Word Files\"\n",
    "destination_folder = r\"C:\\Users\\pallist\\Desktop\\ΤΡΕΧΟΝΤΑ\\Testing Folder\\Project Enorkes\\Connect word files Enorkes\\Test Word Files\\Results\"\n",
    "source_name = 'Source.xlsm'\n",
    "xl_file = os.path.join(word_folder,source_name)\n",
    "os.chdir(word_folder)\n",
    "files = glob.glob(\"*.docx\")\n",
    "# print(files)"
   ]
  },
  {
   "cell_type": "code",
   "execution_count": 3,
   "metadata": {},
   "outputs": [],
   "source": [
    "# Create a Word application instance\n",
    "\n",
    "wordApp = win32.Dispatch('Word.Application')\n",
    "wordApp.Visible = True"
   ]
  },
  {
   "cell_type": "code",
   "execution_count": 11,
   "metadata": {},
   "outputs": [
    {
     "name": "stdout",
     "output_type": "stream",
     "text": [
      "(1) ΠΙΘΑΝΟΛΟΓΟΥΜΕΝΗ (Μ) - ΥΠΟΔΕΙΓΜΑ.docx\n"
     ]
    },
    {
     "ename": "com_error",
     "evalue": "(-2147352567, 'Παρουσιάστηκε εξαίρεση.', (0, 'Microsoft Word', 'Το απαιτούμενο μέλος της συλλογής δεν υπάρχει.', 'wdmain11.chm', 25421, -2146822347), None)",
     "output_type": "error",
     "traceback": [
      "\u001b[1;31m---------------------------------------------------------------------------\u001b[0m",
      "\u001b[1;31mcom_error\u001b[0m                                 Traceback (most recent call last)",
      "\u001b[1;32mc:\\Users\\pallist\\Νέος φάκελος\\Project-Enorkes\\7) Connect Word Files\\Mail merge python.ipynb Cell 4\u001b[0m in \u001b[0;36m<cell line: 3>\u001b[1;34m()\u001b[0m\n\u001b[0;32m     <a href='vscode-notebook-cell:/c%3A/Users/pallist/%CE%9D%CE%AD%CE%BF%CF%82%20%CF%86%CE%AC%CE%BA%CE%B5%CE%BB%CE%BF%CF%82/Project-Enorkes/7%29%20Connect%20Word%20Files/Mail%20merge%20python.ipynb#W3sZmlsZQ%3D%3D?line=16'>17</a>\u001b[0m mail_merge\u001b[39m.\u001b[39mDestination \u001b[39m=\u001b[39m \u001b[39m0\u001b[39m\n\u001b[0;32m     <a href='vscode-notebook-cell:/c%3A/Users/pallist/%CE%9D%CE%AD%CE%BF%CF%82%20%CF%86%CE%AC%CE%BA%CE%B5%CE%BB%CE%BF%CF%82/Project-Enorkes/7%29%20Connect%20Word%20Files/Mail%20merge%20python.ipynb#W3sZmlsZQ%3D%3D?line=17'>18</a>\u001b[0m mail_merge\u001b[39m.\u001b[39mExecute(\u001b[39mFalse\u001b[39;00m)\n\u001b[1;32m---> <a href='vscode-notebook-cell:/c%3A/Users/pallist/%CE%9D%CE%AD%CE%BF%CF%82%20%CF%86%CE%AC%CE%BA%CE%B5%CE%BB%CE%BF%CF%82/Project-Enorkes/7%29%20Connect%20Word%20Files/Mail%20merge%20python.ipynb#W3sZmlsZQ%3D%3D?line=18'>19</a>\u001b[0m base_name \u001b[39m=\u001b[39m mail_merge\u001b[39m.\u001b[39;49mDataSource\u001b[39m.\u001b[39;49mDataFields(\u001b[39m'\u001b[39;49m\u001b[39mName of Recipient\u001b[39;49m\u001b[39m'\u001b[39;49m\u001b[39m.\u001b[39;49mreplace(\u001b[39m'\u001b[39;49m\u001b[39m \u001b[39;49m\u001b[39m'\u001b[39;49m, \u001b[39m'\u001b[39;49m\u001b[39m_\u001b[39;49m\u001b[39m'\u001b[39;49m))\u001b[39m.\u001b[39mValue\n\u001b[0;32m     <a href='vscode-notebook-cell:/c%3A/Users/pallist/%CE%9D%CE%AD%CE%BF%CF%82%20%CF%86%CE%AC%CE%BA%CE%B5%CE%BB%CE%BF%CF%82/Project-Enorkes/7%29%20Connect%20Word%20Files/Mail%20merge%20python.ipynb#W3sZmlsZQ%3D%3D?line=20'>21</a>\u001b[0m targetDoc \u001b[39m=\u001b[39m wordApp\u001b[39m.\u001b[39mActiveDocument\n\u001b[0;32m     <a href='vscode-notebook-cell:/c%3A/Users/pallist/%CE%9D%CE%AD%CE%BF%CF%82%20%CF%86%CE%AC%CE%BA%CE%B5%CE%BB%CE%BF%CF%82/Project-Enorkes/7%29%20Connect%20Word%20Files/Mail%20merge%20python.ipynb#W3sZmlsZQ%3D%3D?line=22'>23</a>\u001b[0m \u001b[39m# Save Files in Word Doc and PDF\u001b[39;00m\n",
      "File \u001b[1;32mc:\\Users\\pallist\\Miniconda3\\lib\\site-packages\\win32com\\client\\dynamic.py:226\u001b[0m, in \u001b[0;36mCDispatch.__call__\u001b[1;34m(self, *args)\u001b[0m\n\u001b[0;32m    223\u001b[0m \u001b[39mif\u001b[39;00m invkind \u001b[39mis\u001b[39;00m \u001b[39mnot\u001b[39;00m \u001b[39mNone\u001b[39;00m:\n\u001b[0;32m    224\u001b[0m     allArgs \u001b[39m=\u001b[39m (dispid, LCID, invkind, \u001b[39m1\u001b[39m) \u001b[39m+\u001b[39m args\n\u001b[0;32m    225\u001b[0m     \u001b[39mreturn\u001b[39;00m \u001b[39mself\u001b[39m\u001b[39m.\u001b[39m_get_good_object_(\n\u001b[1;32m--> 226\u001b[0m         \u001b[39mself\u001b[39;49m\u001b[39m.\u001b[39;49m_oleobj_\u001b[39m.\u001b[39;49mInvoke(\u001b[39m*\u001b[39;49mallArgs), \u001b[39mself\u001b[39m\u001b[39m.\u001b[39m_olerepr_\u001b[39m.\u001b[39mdefaultDispatchName, \u001b[39mNone\u001b[39;00m\n\u001b[0;32m    227\u001b[0m     )\n\u001b[0;32m    228\u001b[0m \u001b[39mraise\u001b[39;00m \u001b[39mTypeError\u001b[39;00m(\u001b[39m\"\u001b[39m\u001b[39mThis dispatch object does not define a default method\u001b[39m\u001b[39m\"\u001b[39m)\n",
      "\u001b[1;31mcom_error\u001b[0m: (-2147352567, 'Παρουσιάστηκε εξαίρεση.', (0, 'Microsoft Word', 'Το απαιτούμενο μέλος της συλλογής δεν υπάρχει.', 'wdmain11.chm', 25421, -2146822347), None)"
     ]
    }
   ],
   "source": [
    "# Open all Word Files\n",
    "\n",
    "for file in files :\n",
    "    \n",
    "    sourceDoc = wordApp.Documents.Open(os.path.join(word_folder, file))\n",
    "    print(sourceDoc)\n",
    "    mail_merge = sourceDoc.MailMerge\n",
    "    mail_merge.OpenDataSource(Name:= xl_file, sqlstatement:=\"SELECT * FROM ['Συναρτήσεις'$]\")\n",
    "    record_count = mail_merge.DataSource.RecordCount\n",
    "\n",
    "    for i in range(1, record_count + 1):\n",
    "        \n",
    "        mail_merge.DataSource.ActiveRecord = i\n",
    "        mail_merge.DataSource.FirstRecord = i\n",
    "        mail_merge.DataSource.LastRecord = i\n",
    "\n",
    "        mail_merge.Destination = 0\n",
    "        mail_merge.Execute(False)\n",
    "        base_name = mail_merge.DataSource.DataFields('Name of Recipient'.replace(' ', '_')).Value\n",
    "\n",
    "        targetDoc = wordApp.ActiveDocument\n",
    "\n",
    "        # Save Files in Word Doc and PDF\n",
    "    \n",
    "        targetDoc.SaveAs2(os.path.join(destination_folder, file + '.docx'), 16)\n",
    "        targetDoc.Close(False)\n",
    "        targetDoc = None"
   ]
  },
  {
   "cell_type": "code",
   "execution_count": 10,
   "metadata": {},
   "outputs": [
    {
     "ename": "AttributeError",
     "evalue": "Open.MailMerge",
     "output_type": "error",
     "traceback": [
      "\u001b[1;31m---------------------------------------------------------------------------\u001b[0m",
      "\u001b[1;31mAttributeError\u001b[0m                            Traceback (most recent call last)",
      "\u001b[1;32mc:\\Users\\pallist\\Νέος φάκελος\\Project-Enorkes\\7) Connect Word Files\\Mail merge python.ipynb Cell 5\u001b[0m in \u001b[0;36m<cell line: 1>\u001b[1;34m()\u001b[0m\n\u001b[1;32m----> <a href='vscode-notebook-cell:/c%3A/Users/pallist/%CE%9D%CE%AD%CE%BF%CF%82%20%CF%86%CE%AC%CE%BA%CE%B5%CE%BB%CE%BF%CF%82/Project-Enorkes/7%29%20Connect%20Word%20Files/Mail%20merge%20python.ipynb#W4sZmlsZQ%3D%3D?line=0'>1</a>\u001b[0m sourceDoc\u001b[39m.\u001b[39;49mMailMerge\u001b[39m.\u001b[39mMainDocumentType \u001b[39m=\u001b[39m \u001b[39m-\u001b[39m\u001b[39m1\u001b[39m\n",
      "File \u001b[1;32mc:\\Users\\pallist\\Miniconda3\\lib\\site-packages\\win32com\\client\\dynamic.py:639\u001b[0m, in \u001b[0;36mCDispatch.__getattr__\u001b[1;34m(self, attr)\u001b[0m\n\u001b[0;32m    636\u001b[0m     \u001b[39mreturn\u001b[39;00m \u001b[39mself\u001b[39m\u001b[39m.\u001b[39m_get_good_object_(ret)\n\u001b[0;32m    638\u001b[0m \u001b[39m# no where else to look.\u001b[39;00m\n\u001b[1;32m--> 639\u001b[0m \u001b[39mraise\u001b[39;00m \u001b[39mAttributeError\u001b[39;00m(\u001b[39m\"\u001b[39m\u001b[39m%s\u001b[39;00m\u001b[39m.\u001b[39m\u001b[39m%s\u001b[39;00m\u001b[39m\"\u001b[39m \u001b[39m%\u001b[39m (\u001b[39mself\u001b[39m\u001b[39m.\u001b[39m_username_, attr))\n",
      "\u001b[1;31mAttributeError\u001b[0m: Open.MailMerge"
     ]
    }
   ],
   "source": [
    "sourceDoc.MailMerge.MainDocumentType = -1"
   ]
  },
  {
   "cell_type": "code",
   "execution_count": null,
   "metadata": {},
   "outputs": [],
   "source": []
  }
 ],
 "metadata": {
  "kernelspec": {
   "display_name": "Python 3.9.12 ('base')",
   "language": "python",
   "name": "python3"
  },
  "language_info": {
   "codemirror_mode": {
    "name": "ipython",
    "version": 3
   },
   "file_extension": ".py",
   "mimetype": "text/x-python",
   "name": "python",
   "nbconvert_exporter": "python",
   "pygments_lexer": "ipython3",
   "version": "3.9.12"
  },
  "orig_nbformat": 4,
  "vscode": {
   "interpreter": {
    "hash": "da741524b60193e2e8fc9de5561c964417d3f1962990f1b0ff3fc7ef1a4f21fd"
   }
  }
 },
 "nbformat": 4,
 "nbformat_minor": 2
}
