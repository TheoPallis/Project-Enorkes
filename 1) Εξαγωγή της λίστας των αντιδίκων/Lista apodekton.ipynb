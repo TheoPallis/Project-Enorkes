{
 "cells": [
  {
   "cell_type": "code",
   "execution_count": null,
   "metadata": {},
   "outputs": [],
   "source": [
    "import os\n",
    "import glob\n",
    "import pandas as pd\n",
    "import numpy as np\n",
    "from docx import Document\n",
    "import re\n",
    "from tkinter import filedialog as fd\n",
    "from tkinter.filedialog import askdirectory as ad\n",
    "from datetime import datetime\n",
    "import pprint\n",
    "import openpyxl\n",
    "import pprint"
   ]
  },
  {
   "cell_type": "code",
   "execution_count": null,
   "metadata": {},
   "outputs": [],
   "source": [
    "anafora = pd.read_excel(os.path.join(r\"C:\\Users\\pallist\\Desktop\\ΤΡΕΧΟΝΤΑ\\Testing Folder\\Project Enorkes\\2) Clean Enorkes\", \"Ένορκες Νοεμβρίου.xlsx\"),sheet_name= \"Παλιές Μικροδιαφορές\")"
   ]
  },
  {
   "cell_type": "code",
   "execution_count": null,
   "metadata": {},
   "outputs": [],
   "source": [
    "sorted_antidikoi_dict = {}\n",
    "lista_antidikon = anafora['Επωνυμία Αποδέκτη']\n",
    "lista_antidikon\n",
    "\n",
    "for i,antidikos in enumerate(lista_antidikon):\n",
    "    sorted_antidikoi_dict[antidikos] = i\n",
    "\n",
    "sorted_antidikoi_dict"
   ]
  }
 ],
 "metadata": {
  "kernelspec": {
   "display_name": "Python 3.10.8 ('frame')",
   "language": "python",
   "name": "python3"
  },
  "language_info": {
   "name": "python",
   "version": "3.10.8"
  },
  "orig_nbformat": 4,
  "vscode": {
   "interpreter": {
    "hash": "7a46061b131d91aee9440cfcfc67501265c864dc4a87769083afe5c961eb8de2"
   }
  }
 },
 "nbformat": 4,
 "nbformat_minor": 2
}
