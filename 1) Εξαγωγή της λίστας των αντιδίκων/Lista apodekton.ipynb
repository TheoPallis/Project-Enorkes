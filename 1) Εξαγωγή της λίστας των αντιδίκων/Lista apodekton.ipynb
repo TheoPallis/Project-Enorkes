{
 "cells": [
  {
   "cell_type": "code",
   "execution_count": 7,
   "metadata": {},
   "outputs": [],
   "source": [
    "import os\n",
    "import glob\n",
    "import pandas as pd\n",
    "import numpy as np\n",
    "from  Levenshtein import ratio"
   ]
  },
  {
   "cell_type": "code",
   "execution_count": 3,
   "metadata": {},
   "outputs": [],
   "source": [
    "anafora = pd.read_excel(os.path.join(r\"\\\\lawoffice\\Applications\\ScanDocs\\ΔΕΔΔΗΕ scandocs\\$ Υποδείγματα\\Ένορκες Βεβαιώσεις\\Πειραματικά\\Αυτοματοιημένες\\Ένορκες Νοεμβρίου\\Αναφορά Ενόρκων Νοεμβρίου\", \"Ένορκες Νοεμβρίου.xlsx\"),sheet_name= \"Τακτική Διαδικασία\")"
   ]
  },
  {
   "cell_type": "code",
   "execution_count": 4,
   "metadata": {},
   "outputs": [
    {
     "data": {
      "text/plain": [
       "{'ΔΡΙΜΗ ΟΥΡΑΝΙΑ': 0,\n",
       " 'ΓΕΩΡΓΟΥΣΙΟΥ ΗΛΙΑΣ': 1,\n",
       " 'ΕΛΕΥΘΕΡΙΑΔΗΣ ΣΩΤΗΡΙΟΣ': 2,\n",
       " 'ΖΑΧΑΡΙΟΥΔΑΚΗ ΑΝΝΑ': 3,\n",
       " 'Κ.ΑΝΤΩΝΙΟΥ ΚΑΙ ΣΙΑ ΑΕ': 4,\n",
       " 'ΚΑΠΕΤΑΝΗ ΕΛΕΝΗ': 5,\n",
       " 'ΚΑΡΑΦΑΝΤΑΛΟΥ ΑΡΙΣΤΟΠΟΥΛΟΥ ΓΕΩΡΓΙΑ': 6,\n",
       " 'ΛΟΥΤΣΑΣ ΝΙΚΟΛΑΟΣ': 7,\n",
       " 'ΜΑΥΡΟΠΟΥΛΟΣ Α. ΑΝΑΣΤΑΣΙΟΣ': 8,\n",
       " 'ΜΕΛΑΧΡΗΣ Σ. ΧΡΗΣΤΟΣ': 9,\n",
       " 'ΠΙΠΕΡΙΔΗΣ ΝΙΚΟΛΑΟΣ': 10,\n",
       " 'ΠΙΠΙΛΙΑΡΗΣ ΔΗΜΗΤΡΙΟΣ': 11,\n",
       " 'ΤΟΕΒΜΑΤΙ ΤΥΡΝΑΒΟΥ LB 113': 12,\n",
       " 'ΤΟΕΒΜΑΤΙ ΤΥΡΝΑΒΟΥ LB 115': 13,\n",
       " 'ΤΟΕΒΜΑΤΙ ΤΥΡΝΑΒΟΥ LB 116': 14,\n",
       " 'ΤΟΕΒΜΑΤΙ ΤΥΡΝΑΒΟΥ LB 139': 15,\n",
       " 'ΤΟΕΒΜΑΤΙ ΤΥΡΝΑΒΟΥ LB 140': 16,\n",
       " 'ΤΟΕΒΜΑΤΙ ΤΥΡΝΑΒΟΥ ΕΛ24': 17,\n",
       " 'ΤΟΕΒΜΑΤΙ ΤΥΡΝΑΒΟΥ ΕΛ52': 18,\n",
       " 'ΤΟΕΒΜΑΤΙ ΤΥΡΝΑΒΟΥ Λ57': 19}"
      ]
     },
     "execution_count": 4,
     "metadata": {},
     "output_type": "execute_result"
    }
   ],
   "source": [
    "sorted_antidikoi_dict = {}\n",
    "lista_antidikon = anafora['Επωνυμία Αποδέκτη']\n",
    "lista_antidikon\n",
    "\n",
    "for i,antidikos in enumerate(lista_antidikon):\n",
    "    sorted_antidikoi_dict[antidikos] = i\n",
    "\n",
    "sorted_antidikoi_dict"
   ]
  },
  {
   "cell_type": "code",
   "execution_count": 8,
   "metadata": {},
   "outputs": [],
   "source": [
    "ratio_df  =pd.read_excel(os.path.join(r\"C:\\Users\\pallist\\Desktop\\ΤΡΕΧΟΝΤΑ\\Testing Folder\\Project Enorkes\\1) Extract Lektiko Enorkes\\ΤΑΚΤΙΚΗ\", 'ratio.xlsx'))\n",
    "path = r\"C:\\Users\\pallist\\Desktop\\ΤΡΕΧΟΝΤΑ\\Testing Folder\\Project Enorkes\\1) Extract Lektiko Enorkes\\Test folders\"\n",
    "\n"
   ]
  },
  {
   "cell_type": "code",
   "execution_count": 18,
   "metadata": {},
   "outputs": [],
   "source": [
    "dir_list_w = []\n",
    "sub_dir_list_w = []\n",
    "file_list_w = []\n",
    "\n",
    "\n",
    "for x,y,z in os.walk(path) :\n",
    "    dir_list_w.append(x)\n",
    "    sub_dir_list_w.append(y)\n",
    "    file_list_w.append(z)"
   ]
  },
  {
   "cell_type": "code",
   "execution_count": null,
   "metadata": {},
   "outputs": [],
   "source": []
  },
  {
   "cell_type": "code",
   "execution_count": null,
   "metadata": {},
   "outputs": [],
   "source": []
  }
 ],
 "metadata": {
  "kernelspec": {
   "display_name": "Python 3.10.8 ('frame')",
   "language": "python",
   "name": "python3"
  },
  "language_info": {
   "codemirror_mode": {
    "name": "ipython",
    "version": 3
   },
   "file_extension": ".py",
   "mimetype": "text/x-python",
   "name": "python",
   "nbconvert_exporter": "python",
   "pygments_lexer": "ipython3",
   "version": "3.10.8"
  },
  "orig_nbformat": 4,
  "vscode": {
   "interpreter": {
    "hash": "7a46061b131d91aee9440cfcfc67501265c864dc4a87769083afe5c961eb8de2"
   }
  }
 },
 "nbformat": 4,
 "nbformat_minor": 2
}
